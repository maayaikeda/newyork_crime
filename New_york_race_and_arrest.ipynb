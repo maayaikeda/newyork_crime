{
 "cells": [
  {
   "cell_type": "markdown",
   "metadata": {},
   "source": [
    "# Arrests, Prison Sentencing, and Race in New York State"
   ]
  },
  {
   "cell_type": "markdown",
   "metadata": {},
   "source": [
    "I analyzed the New York State 2018 arrest data to see if racial diparities exist. Analysis included adjusting for county population data and racial demographics of counties in which persons were arrested or sentenced to prison.\n",
    "\n",
    "I found that black people are arrested and sentenced to prison dispropotionately high compared to every other demographic group. This is true especially for counties with high white population (>50%). Conversely, in counties where black people make up more than 10% of the total population black people are arrested less and yield fewer prison sentences per arrest.\n",
    "\n",
    "This suggest that disproportionately high arrest and prison sentences of black people is due to racial biases against black people in counties with high white/ low black population.  "
   ]
  },
  {
   "cell_type": "markdown",
   "metadata": {},
   "source": [
    "## Table of contents\n",
    "1. [Download and data setup](#1)\n",
    "2. [County Demographics](#2)<br>\n",
    "    &nbsp;&nbsp;&nbsp;&nbsp;&nbsp;[Plot1:%white vs %black population](#plot1)\n",
    "3. [Arrests for different races](#3)<br>\n",
    "    &nbsp;&nbsp;&nbsp;&nbsp;&nbsp;[Plot2: Arrest/population for each race](#plot2)<br>\n",
    "    &nbsp;&nbsp;&nbsp;&nbsp;&nbsp;[Plot3: Population vs arrest/population for each race](#plot3)<br>\n",
    "    &nbsp;&nbsp;&nbsp;&nbsp;&nbsp;[Plot4: all arrests vs city](#plot4)<br>\n",
    "    &nbsp;&nbsp;&nbsp;&nbsp;&nbsp;[Plot5: Population vs arrest/population for each race log scale](#plot5)<br>\n",
    "    &nbsp;&nbsp;&nbsp;&nbsp;&nbsp;[Plot6: Black arrest vs city](#plot6)\n",
    "4. [County demographic and arrests for each race](#4)<br>\n",
    "    4.1 [Distribution of all counties](#4.1)<br>\n",
    "    &nbsp;&nbsp;&nbsp;&nbsp;&nbsp;[Plot7: Black arrest, county size, white demographic](#plot7)<br>\n",
    "    &nbsp;&nbsp;&nbsp;&nbsp;&nbsp;[Plot8: Black arrest vs white demographic](#plot8)<br>\n",
    "    &nbsp;&nbsp;&nbsp;&nbsp;&nbsp;[Plot9: Black arrest vs black demographic](#plot9)<br>\n",
    "    4.2 [Summary by county demographic](#4.2)<br>\n",
    "    &nbsp;&nbsp;&nbsp;4.2.1 [White demographic and arrest demographic](#4.2.1)<br>\n",
    "    &nbsp;&nbsp;&nbsp;&nbsp;&nbsp;[Plot10: Race arrest percentage vs white demographic](#plot10)<br>\n",
    "    &nbsp;&nbsp;&nbsp;&nbsp;&nbsp;[Plot11: Arrest/population vs white demographic](#plot11)<br>\n",
    "    &nbsp;&nbsp;&nbsp;4.2.2 [Black demographic and arrest demographic](#4.2.2)<br>\n",
    "    &nbsp;&nbsp;&nbsp;&nbsp;&nbsp;[Plot12: County distribution by black population](#plot12)<br>\n",
    "    &nbsp;&nbsp;&nbsp;&nbsp;&nbsp;[Plot13: Arrest/population vs black demographic](#plot13)<br>\n",
    "    4.3 [How unfair are the arrests?](#4.3)<br>\n",
    "    &nbsp;&nbsp;&nbsp;&nbsp;&nbsp;[Plot14: unfairness for each race](#plot14)<br>\n",
    "    &nbsp;&nbsp;&nbsp;&nbsp;&nbsp;[Plot15: unfairness and percent white in each county](#plot15)<br>\n",
    "    &nbsp;&nbsp;&nbsp;&nbsp;&nbsp;[Plot16: unfairness and white demographic](#plot16)<br>\n",
    "    &nbsp;&nbsp;&nbsp;&nbsp;&nbsp;[Plot17: unfairness and black demographic](#plot17)\n",
    "5. [Prison sentences vs. arrests](#5)<br>\n",
    "    &nbsp;&nbsp;&nbsp;&nbsp;&nbsp;[Plot18: % prison sentence vs % arrest](#plot18)<br>\n",
    "    &nbsp;&nbsp;&nbsp;&nbsp;&nbsp;[Plot19: Prison/arrest ratio for each race ](#plot19)<br>\n",
    "    &nbsp;&nbsp;&nbsp;&nbsp;&nbsp;[Plot20: Prison/arrest ration vs white demographic](#plot20)<br>\n",
    "    &nbsp;&nbsp;&nbsp;&nbsp;&nbsp;[Plot21: Prison/arrest ration and white demographic](#plot21)<br>\n",
    "    &nbsp;&nbsp;&nbsp;&nbsp;&nbsp;[Plot22: Prison/arrest ration and black demographic](#plot22)\n",
    "6. [Conclusion/Main Takeaways](#6)\n",
    "    "
   ]
  },
  {
   "cell_type": "markdown",
   "metadata": {},
   "source": [
    "## 1. <a id='1'>Download and data setup </a>"
   ]
  },
  {
   "cell_type": "markdown",
   "metadata": {},
   "source": [
    "Dataset was obtained from here:\n",
    "\n",
    "https://www.criminaljustice.ny.gov/crimnet/ojsa/comparison-population-arrests-prison-demographics.html\n",
    "File was converted from pdf to excel with this: https://simplypdf.com/Excel"
   ]
  },
  {
   "cell_type": "code",
   "execution_count": 1,
   "metadata": {},
   "outputs": [],
   "source": [
    "# Import packages\n",
    "import pandas as pd\n",
    "import numpy as np"
   ]
  },
  {
   "cell_type": "code",
   "execution_count": 2,
   "metadata": {},
   "outputs": [],
   "source": [
    "# Import packages needed for ggplot\n",
    "\n",
    "%matplotlib inline\n",
    "import matplotlib.pyplot as plt\n",
    "import seaborn as sns\n",
    "import pandas as pd\n",
    "import numpy as np\n",
    "\n",
    "from plotnine import *"
   ]
  },
  {
   "cell_type": "code",
   "execution_count": null,
   "metadata": {},
   "outputs": [],
   "source": [
    "xl2 = pd.ExcelFile('prison.xlsx')\n",
    "\n",
    "sheetnames = xl2.sheet_names  # see all sheet names\n",
    "\n",
    "sheets = sheetnames[4:66]\n",
    "\n",
    "# run a loop to extract data from each sheet\n",
    "data3 = []\n",
    "for s in sheets:\n",
    "    sheetname = s\n",
    "    countydata = pd.read_excel('prison.xlsx', sheet_name = sheetname, skiprows = 2,nrows = 5)\n",
    "    data3.append(countydata)\n",
    "    \n",
    "# Create new dataframe and add extracted data to it\n",
    "prison_df = pd.DataFrame()\n",
    "prison_df = prison_df.append(data3,True)"
   ]
  },
  {
   "cell_type": "code",
   "execution_count": null,
   "metadata": {},
   "outputs": [],
   "source": [
    "# Rename columns\n",
    "prison_df.columns = ['race','population','%population','arrest','%arrest','felonyarrest','%felony','prison','%prison']\n",
    "# Resulted dataframe\n",
    "prison_df.head()"
   ]
  },
  {
   "cell_type": "code",
   "execution_count": null,
   "metadata": {},
   "outputs": [],
   "source": [
    "# Get a list of county names from each sheet\n",
    "counties = []\n",
    "for s in sheets:\n",
    "    sheetname = s\n",
    "    countydata = pd.read_excel('prison.xlsx', sheet_name = sheetname, skiprows = 0,nrows = 5)\n",
    "    countyname = countydata.columns[0]\n",
    "    counties.append(countyname)"
   ]
  },
  {
   "cell_type": "code",
   "execution_count": null,
   "metadata": {},
   "outputs": [],
   "source": [
    "# Since the original data was not in alphabetical order, add this to \n",
    "# the county names to keep the same order as the other data\n",
    "order = list(range(0,62))"
   ]
  },
  {
   "cell_type": "code",
   "execution_count": null,
   "metadata": {},
   "outputs": [],
   "source": [
    "# Stack them so that it's in the same format as the rest of the data\n",
    "rows = range(0,62)\n",
    "County = []\n",
    "Order = []\n",
    "for r in rows:\n",
    "    countyname = counties[r]\n",
    "    county = [[]] * 5 # Create empty list of 5\n",
    "    county[0].append(countyname) # Insert countynames into the list\n",
    "    County.append(county) # Add it to County\n",
    "    # do the same for order\n",
    "    ordername = order[r]\n",
    "    orders = [[]] * 5 # Create empty list of 5\n",
    "    orders[0].append(ordername) # Insert order into the list\n",
    "    Order.append(orders) # Add it to Order    \n",
    "County = pd.DataFrame(County) # Convert it to dataframe\n",
    "County = County.unstack() # Unstack to make one column\n",
    "Order = pd.DataFrame(Order) # Convert it to dataframe\n",
    "Order = Order.unstack() # Unstack to make one column\n",
    "County = pd.concat([Order, County],axis=1) # Combine order and county lists\n",
    "County.columns = ['order','County'] # Rename columns\n"
   ]
  },
  {
   "cell_type": "code",
   "execution_count": null,
   "metadata": {},
   "outputs": [],
   "source": [
    "# Reset index\n",
    "County.reset_index(drop=True, inplace = True)"
   ]
  },
  {
   "cell_type": "code",
   "execution_count": null,
   "metadata": {},
   "outputs": [],
   "source": [
    "# Sort the county names by 'order' so it matches the other table\n",
    "# This is to avoid data mismatch\n",
    "County = County.sort_values(by=['order'])\n",
    "# Reset index again so that it doesn't revert to the original order\n",
    "County.reset_index(drop=True, inplace = True)\n",
    "\n",
    "# Add the county labels to the dataset\n",
    "County = County['County']\n",
    "prison_df['County'] = County\n",
    "\n",
    "# Remove brackets and commas \n",
    "prison_df['County'] = prison_df['County'].str.join(', ')\n",
    "prison_df = prison_df.replace(',','', regex=True)"
   ]
  },
  {
   "cell_type": "code",
   "execution_count": null,
   "metadata": {},
   "outputs": [],
   "source": [
    "# Rename to df2 so that we have an unultered original\n",
    "prison_df2=prison_df"
   ]
  },
  {
   "cell_type": "code",
   "execution_count": null,
   "metadata": {},
   "outputs": [],
   "source": [
    "# Convert all the numeric columns to float\n",
    "prison_df2['population'] = prison_df2['population'].astype(float)\n",
    "prison_df2['arrest'] = prison_df2['arrest'].astype(float)\n",
    "prison_df2['felonyarrest'] = prison_df2['felonyarrest'].astype(float)\n",
    "prison_df2['prison'] = prison_df2['prison'].astype(float)"
   ]
  },
  {
   "cell_type": "code",
   "execution_count": null,
   "metadata": {},
   "outputs": [],
   "source": [
    "# Calculate total prison counts \n",
    "tprison = []\n",
    "# Extract data for each county and sum up numbers\n",
    "for c in counties:\n",
    "    rows = prison_df2[(prison_df2.County == c)]\n",
    "    toadd = rows['prison']\n",
    "    tot = sum(toadd)\n",
    "    mult = [[]] * 5 \n",
    "    mult[0].append(tot)\n",
    "    tprison.append(mult)\n",
    "# Put it in a dataframe\n",
    "tprison = pd.DataFrame(tprison)\n",
    "# Put it all in one column\n",
    "tprison = tprison.stack()\n",
    "# Reset index\n",
    "tprison.reset_index(drop=True,inplace=True)\n",
    "# Add it to the prison_df2 table\n",
    "prison_df2['totprison'] = tprison\n",
    "# Remove brackets\n",
    "prison_df2['totprison'] = prison_df2['totprison'].str[0]"
   ]
  },
  {
   "cell_type": "code",
   "execution_count": null,
   "metadata": {},
   "outputs": [],
   "source": [
    "# Calculate total population \n",
    "tpop = []\n",
    "# Extract data for each county and sum up numbers\n",
    "for c in counties:\n",
    "    rows = prison_df2[(prison_df2.County == c)]\n",
    "    toadd = rows['population']\n",
    "    tot = sum(toadd)\n",
    "    mult = [[]] * 5\n",
    "    mult[0].append(tot)\n",
    "    tpop.append(mult)\n",
    "# Put it in a dataframe\n",
    "tpop = pd.DataFrame(tpop)\n",
    "# Put it all in one column\n",
    "tpop = tpop.stack()\n",
    "# Reset index\n",
    "tpop.reset_index(drop=True,inplace=True)\n",
    "# Add it to the prison_df2 table\n",
    "prison_df2['totpopulation'] = tpop\n",
    "# Remove brackets\n",
    "prison_df2['totpopulation'] = prison_df2['totpopulation'].str[0]"
   ]
  },
  {
   "cell_type": "code",
   "execution_count": null,
   "metadata": {},
   "outputs": [],
   "source": [
    "# Calculate total felony arrests (do the same)\n",
    "tfelony = []\n",
    "# Extract data for each county and sum up numbers\n",
    "for c in counties:\n",
    "    rows = prison_df2[(prison_df2.County == c)]\n",
    "    toadd = rows['felonyarrest']\n",
    "    tot = sum(toadd)\n",
    "    mult = [[]] * 5\n",
    "    mult[0].append(tot)\n",
    "    tfelony.append(mult)\n",
    "# Put it in a dataframe\n",
    "tfelony = pd.DataFrame(tfelony)\n",
    "# Put it all in one column\n",
    "tfelony = tfelony.stack()\n",
    "# Reset index\n",
    "tfelony.reset_index(drop=True,inplace=True)\n",
    "# Add it to the prison_df2 table\n",
    "prison_df2['totfelony'] = tfelony\n",
    "# Remove brackets\n",
    "prison_df2['totfelony'] = prison_df2['totfelony'].str[0]"
   ]
  },
  {
   "cell_type": "code",
   "execution_count": null,
   "metadata": {},
   "outputs": [],
   "source": [
    "# Calculate total arrests (do the same)\n",
    "tarrest = []\n",
    "# Extract data for each county and sum up numbers\n",
    "for c in counties:\n",
    "    rows = prison_df2[(prison_df2.County == c)]\n",
    "    toadd = rows['arrest']\n",
    "    tot = sum(toadd)\n",
    "    mult = [[]] * 5\n",
    "    mult[0].append(tot)\n",
    "    tarrest.append(mult)\n",
    "# Put it in a dataframe\n",
    "tarrest = pd.DataFrame(tarrest)\n",
    "# Put it all in one column\n",
    "tarrest = tarrest.stack()\n",
    "# Reset index\n",
    "tarrest.reset_index(drop=True,inplace=True)\n",
    "# Add it to the prison_df2 table\n",
    "prison_df2['totarrest'] = tarrest\n",
    "# Remove brackets\n",
    "prison_df2['totarrest'] = prison_df2['totarrest'].str[0]"
   ]
  },
  {
   "cell_type": "code",
   "execution_count": null,
   "metadata": {},
   "outputs": [],
   "source": [
    "# Label counties that are in NY city as \"NY city\" and label others as \"others\"\n",
    "data = []\n",
    "for c in counties:\n",
    "    if (c == 'Bronx County'or c=='Kings County'or c == 'New York County'or c == 'Queens County'or c == 'Richmond County'):\n",
    "        mult = [[]] * 5\n",
    "        mult[0].append('NY city')\n",
    "        data.append(mult)     \n",
    "    else:\n",
    "        mult = [[]] * 5\n",
    "        mult[0].append('Others')\n",
    "        data.append(mult)  \n",
    "        \n",
    "data = pd.DataFrame(data)\n",
    "data = data.unstack()\n",
    "\n",
    "# Reset index\n",
    "data.reset_index(drop=True, inplace = True)\n",
    "# Sort the county names so it matches the other table\n",
    "\n",
    "data = data.sort_values()\n",
    "# Reset index again\n",
    "data.reset_index(drop=True, inplace = True)\n",
    "\n",
    "# Add the county labels to the dataset\n",
    "prison_df2['city'] = data\n",
    "\n",
    "# Remove brackets and commas \n",
    "prison_df2['city'] = prison_df['city'].str.join(', ')\n",
    "prison_df2 = prison_df2.replace(',','', regex=True)\n",
    "prison_df2['city'] = prison_df2['city'].str.replace(\" \",\"\")\n"
   ]
  },
  {
   "cell_type": "code",
   "execution_count": null,
   "metadata": {},
   "outputs": [],
   "source": [
    "# Add a column for % White of population for each county\n",
    "perwhite = []\n",
    "for c in counties:\n",
    "    rows = prison_df2[(prison_df2.County == c) & (prison_df2.race == \"White\")]\n",
    "    toadd = rows['%population']\n",
    "    tot = sum(toadd) # Using this sum funciton to strip unnecessary stuff\n",
    "    mult = [[]] * 5\n",
    "    mult[0].append(tot)\n",
    "    perwhite.append(mult)\n",
    "perwhite = pd.DataFrame(perwhite)\n",
    "\n",
    "perwhite = perwhite.stack()\n",
    "perwhite.reset_index(drop=True,inplace=True)\n",
    "perwhite = perwhite.str[0]\n",
    "\n",
    "# Add to prison_df2\n",
    "prison_df2['perwhite'] = perwhite"
   ]
  },
  {
   "cell_type": "code",
   "execution_count": null,
   "metadata": {},
   "outputs": [],
   "source": [
    "# Add a column for % Black of population for each county\n",
    "\n",
    "perblack = []\n",
    "for c in counties:\n",
    "    rows = prison_df2[(prison_df2.County == c) & (prison_df2.race == \"Black\")]\n",
    "    toadd = rows['%population']\n",
    "    tot = sum(toadd)\n",
    "    mult = [[]] * 5\n",
    "    mult[0].append(tot)\n",
    "    perblack.append(mult)\n",
    "perblack = pd.DataFrame(perblack)\n",
    "\n",
    "perblack = perblack.stack()\n",
    "perblack.reset_index(drop=True,inplace=True)\n",
    "perblack = perblack.str[0]\n",
    "prison_df2['perblack'] = perblack"
   ]
  },
  {
   "cell_type": "code",
   "execution_count": null,
   "metadata": {},
   "outputs": [],
   "source": [
    "# Calculate arrest/population\n",
    "prison_df2['arrestperpopulation'] = prison_df2['arrest']/prison_df2['population']"
   ]
  },
  {
   "cell_type": "code",
   "execution_count": null,
   "metadata": {},
   "outputs": [],
   "source": [
    "# Take the log of the population\n",
    "prison_df2['logpop'] = np.log10(prison_df2['population'])"
   ]
  },
  {
   "cell_type": "code",
   "execution_count": null,
   "metadata": {},
   "outputs": [],
   "source": [
    "prison_df2.head()"
   ]
  },
  {
   "cell_type": "markdown",
   "metadata": {},
   "source": [
    "## 2. <a id='2'>County Demographics </a>"
   ]
  },
  {
   "cell_type": "code",
   "execution_count": null,
   "metadata": {},
   "outputs": [],
   "source": [
    "# Quick look at county demographics\n",
    "countydem = prison_df2[['County','race','city','%population']]\n",
    "countydem = countydem.pivot(index = ['County','city'],columns='race', values='%population')\n",
    "countydem = countydem.reset_index()"
   ]
  },
  {
   "cell_type": "markdown",
   "metadata": {},
   "source": [
    "#### Plot1: <a id='plot1'>% white vs % black population </a>"
   ]
  },
  {
   "cell_type": "code",
   "execution_count": null,
   "metadata": {},
   "outputs": [],
   "source": [
    "(ggplot(countydem, aes(x= 'Black', y='White', color='city')) \n",
    " + geom_point()\n",
    " + ggtitle('County Demographics')\n",
    " + theme_classic()\n",
    " + ylab('% White in county')\n",
    " + xlab('% Black in county')\n",
    " + labs(color='City')\n",
    ")"
   ]
  },
  {
   "cell_type": "markdown",
   "metadata": {},
   "source": [
    "There is an overall inverse relationship between percent of white people and black people in counties, as expected. The racial demographics in NYC counties (Bronx, Kings, New York, Queens, Richmond) are comparable to other counties in NY State."
   ]
  },
  {
   "cell_type": "markdown",
   "metadata": {},
   "source": [
    "## 3. <a id='3'>Arrests for different races </a>"
   ]
  },
  {
   "cell_type": "markdown",
   "metadata": {},
   "source": [
    "#### Plot2: <a id='plot2'>Arrest/population for each race </a>"
   ]
  },
  {
   "cell_type": "code",
   "execution_count": null,
   "metadata": {},
   "outputs": [],
   "source": [
    "# Create table to plot mean arrest/population\n",
    "mean = prison_df2.groupby('race').mean()\n",
    "mean = mean.reset_index()\n",
    "semsum = prison_df2.groupby('race').sem()\n",
    "sem = semsum.loc[:,('arrestperpopulation')].tolist()\n",
    "meanratio = mean.loc[:,('race','arrestperpopulation')]\n",
    "meanratio['sem'] = sem\n",
    "meanratio['ymin'] = meanratio['arrestperpopulation'] - meanratio['sem']\n",
    "meanratio['ymax'] = meanratio['arrestperpopulation'] + meanratio['sem']"
   ]
  },
  {
   "cell_type": "code",
   "execution_count": null,
   "metadata": {},
   "outputs": [],
   "source": [
    "(ggplot(meanratio, aes(x='race',y='arrestperpopulation')) \n",
    " + geom_col()\n",
    " + theme_classic()\n",
    " + geom_errorbar(aes(x='race',ymin='ymin',ymax='ymax'))\n",
    " + xlab('Race')\n",
    " + ylab('Race arrest/ Race population')\n",
    " + ggtitle('Mean arrests/population')\n",
    ")"
   ]
  },
  {
   "cell_type": "markdown",
   "metadata": {},
   "source": [
    "On average, higher population of black people are arrested compared to other races."
   ]
  },
  {
   "cell_type": "markdown",
   "metadata": {},
   "source": [
    "#### Plot3: <a id='plot3'>Population vs arrest/population for each race </a>"
   ]
  },
  {
   "cell_type": "code",
   "execution_count": null,
   "metadata": {},
   "outputs": [],
   "source": [
    "(ggplot(prison_df2, aes(x= 'totpopulation', y='arrestperpopulation',color = 'race')) \n",
    " + geom_point()\n",
    " + ggtitle('Arrests')\n",
    " + ylab('Race arrest/ race population')\n",
    " + xlab('Population of county')\n",
    " + theme_classic()\n",
    " + labs(color='Race')\n",
    ")"
   ]
  },
  {
   "cell_type": "markdown",
   "metadata": {},
   "source": [
    "When the arrest/population for minorities is examined by county, black people are arrested and sentenced to prison at higher rates than white people, especially in low population counties. "
   ]
  },
  {
   "cell_type": "markdown",
   "metadata": {},
   "source": [
    "#### Plot4: <a id='plot4'>Population vs arrest/population for each race log scale </a>"
   ]
  },
  {
   "cell_type": "code",
   "execution_count": null,
   "metadata": {},
   "outputs": [],
   "source": [
    "(ggplot(prison_df2, aes(x=\"logpop\", y=\"arrestperpopulation\", color='race')) \n",
    " + geom_point(size=3,alpha=0.5) \n",
    " + xlab('log[population](for each county)')\n",
    " + ylab('race arrest/race population')\n",
    " + theme_classic()\n",
    " + labs(color='Race')\n",
    ")"
   ]
  },
  {
   "cell_type": "markdown",
   "metadata": {},
   "source": [
    "Transformed the x axis to log scale to see the relationship between population and arrest/population better. Black people are arrested at a higher percentage than other race accross the board."
   ]
  },
  {
   "cell_type": "markdown",
   "metadata": {},
   "source": [
    "#### Plot5: <a id='plot5'>Arrests vs city </a>"
   ]
  },
  {
   "cell_type": "code",
   "execution_count": null,
   "metadata": {},
   "outputs": [],
   "source": [
    "(ggplot(prison_df2, aes(x= 'totpopulation', y='totarrest/totpopulation',color = 'city')) \n",
    " + geom_point()\n",
    " + ggtitle('Arrest for all')\n",
    " + ylab('Arrests/ population')\n",
    " + xlab('Population')\n",
    " + theme_classic()\n",
    " + labs(color='City')\n",
    ")"
   ]
  },
  {
   "cell_type": "markdown",
   "metadata": {},
   "source": [
    "Arrests overall does not seem to depend on the size of the county or the location (NY city vs other counties)."
   ]
  },
  {
   "cell_type": "markdown",
   "metadata": {},
   "source": [
    "#### Plot6: <a id='plot6'>Black arrest vs city </a>"
   ]
  },
  {
   "cell_type": "code",
   "execution_count": null,
   "metadata": {},
   "outputs": [],
   "source": [
    "black = prison_df2[(prison_df2.race == 'Black')]"
   ]
  },
  {
   "cell_type": "code",
   "execution_count": null,
   "metadata": {},
   "outputs": [],
   "source": [
    "(ggplot(black, aes(x= 'totpopulation', y='arrestperpopulation',color = 'city')) \n",
    " + geom_point()\n",
    " + ggtitle('Arrest for blacks')\n",
    " + ylab('Black arrest/ black population')\n",
    " + xlab('population')\n",
    " + theme_classic()\n",
    " + labs(color='City')\n",
    ")"
   ]
  },
  {
   "cell_type": "markdown",
   "metadata": {},
   "source": [
    "Arrests/poppulation for black people also doesn't depend the location (NY city vs other counties), but is lower in higher populated counties."
   ]
  },
  {
   "cell_type": "markdown",
   "metadata": {},
   "source": [
    "## 4. <a id='4'>County demographic and arrests for each race </a>"
   ]
  },
  {
   "cell_type": "markdown",
   "metadata": {},
   "source": [
    "### 4.1 <a id='4.1'> Distribution of all counties</a>"
   ]
  },
  {
   "cell_type": "code",
   "execution_count": null,
   "metadata": {},
   "outputs": [],
   "source": [
    "\n",
    "# Add a column white demographic for each county\n",
    "\n",
    "whitedems = []\n",
    "whiteper = prison_df2['perwhite']\n",
    "\n",
    "for w in whiteper:\n",
    "    if w > 0.5:\n",
    "        racedem = 'white >0.5'\n",
    "    else:\n",
    "        racedem = 'white <=0.5'\n",
    "    whitedems.append(racedem)    \n",
    "\n",
    "\n",
    "prison_df2['whitedems'] = whitedems\n",
    "\n"
   ]
  },
  {
   "cell_type": "markdown",
   "metadata": {},
   "source": [
    "#### Plot7: <a id='plot7'>Black arrest, county size, white demographic </a>"
   ]
  },
  {
   "cell_type": "code",
   "execution_count": null,
   "metadata": {},
   "outputs": [],
   "source": [
    "black = prison_df2[(prison_df2.race == 'Black')]"
   ]
  },
  {
   "cell_type": "code",
   "execution_count": null,
   "metadata": {
    "scrolled": false
   },
   "outputs": [],
   "source": [
    "(ggplot(black, aes(x= 'totpopulation', y='arrestperpopulation',color = 'whitedems'))\n",
    " + geom_point()\n",
    " + scale_color_manual(values={'white >0.5':'red','white <=0.5':'blue'})\n",
    " + ggtitle('Black arrests and county population')\n",
    " + ylab('Black arrest/black population')\n",
    " + xlab('Population')\n",
    " + theme_classic()\n",
    " + labs(color='White demographic')\n",
    ")"
   ]
  },
  {
   "cell_type": "markdown",
   "metadata": {},
   "source": [
    "Black people are arrested more in small counties and those with low percentage of white population."
   ]
  },
  {
   "cell_type": "markdown",
   "metadata": {},
   "source": [
    "#### Plot8: <a id='plot8'>Black arrest vs white demographic </a>"
   ]
  },
  {
   "cell_type": "code",
   "execution_count": null,
   "metadata": {},
   "outputs": [],
   "source": [
    "(ggplot(prison_df2, aes(x= 'perwhite*100', y='arrestperpopulation',color = 'race')) \n",
    " + geom_point()\n",
    " + ggtitle('Arrests for all races and percentages of white people in each county')\n",
    " + ylab('Race arrest/ race population')\n",
    " + xlab('%White in county')\n",
    " + theme_classic()\n",
    " + labs(color='Race')\n",
    ")"
   ]
  },
  {
   "cell_type": "markdown",
   "metadata": {},
   "source": [
    "The more white people are in the county, the more percentage of black and hispanic people seem to get arrested."
   ]
  },
  {
   "cell_type": "markdown",
   "metadata": {},
   "source": [
    "#### Plot9: <a id='plot9'>Black arrest vs black demographic </a>"
   ]
  },
  {
   "cell_type": "code",
   "execution_count": null,
   "metadata": {},
   "outputs": [],
   "source": [
    "(ggplot(prison_df2, aes(x= 'perblack*100', y='arrestperpopulation',color = 'race')) \n",
    " + geom_point()\n",
    " + ggtitle('Arrests for all races and percentages of black people in each county')\n",
    " + ylab('Race arrest/ race population')\n",
    " + xlab('%Black in county')\n",
    " + theme_classic()\n",
    " + labs(color='Race')\n",
    ")"
   ]
  },
  {
   "cell_type": "markdown",
   "metadata": {},
   "source": [
    "On the conterary, the more the black people are in the county, the less black people get arrested."
   ]
  },
  {
   "cell_type": "markdown",
   "metadata": {},
   "source": [
    "### 4.2 <a id='4.2'> Summary by county demographic </a>"
   ]
  },
  {
   "cell_type": "markdown",
   "metadata": {},
   "source": [
    " ### 4.2.1 <a id='4.2.1'> White demographic and arrest demographic </a>"
   ]
  },
  {
   "cell_type": "code",
   "execution_count": null,
   "metadata": {},
   "outputs": [],
   "source": [
    "# Create a dataframe from groupby summary table\n",
    "whitesum = prison_df2.groupby(['whitedems','race']).sum()\n",
    "whitesum = whitesum.reset_index()\n",
    "# Extract rows for low white counties\n",
    "whiteminorows = whitesum[(whitesum.whitedems == 'white <=0.5')]\n",
    "# Sum up the arrest counts\n",
    "totarrestwhiteminority = sum(whiteminorows['arrest'])\n",
    "# Do the same for high white counties\n",
    "whitemajrows = whitesum[(whitesum.whitedems == 'white >0.5')]\n",
    "totarrestwhitemajority = sum(whitemajrows['arrest'])\n",
    "# Calculate percent arrest\n",
    "whitemin = whiteminorows['arrest']/totarrestwhiteminority\n",
    "whitemaj = whitemajrows['arrest']/totarrestwhitemajority\n",
    "# Put whitemin in dataframe\n",
    "arrestwhite = pd.DataFrame(whitemin)\n",
    "# Reset index\n",
    "whitemaj.reset_index(drop=True, inplace = True)\n",
    "# Add whitemaj as a column\n",
    "arrestwhite['whitemaj'] = whitemaj\n",
    "# Add a column for race\n",
    "race = ['Asian','Black','Hispanic','Unknown','White']\n",
    "arrestwhite['race'] = race\n",
    "# Rename column names\n",
    "arrestwhite.columns = ['white <=0.5','white >0.5','race']\n",
    "# Reshape dataframe\n",
    "arrestwhite = pd.melt(arrestwhite, id_vars = ['race'], value_vars = ['white <=0.5','white >0.5'])\n",
    "# Rename columns again\n",
    "arrestwhite.columns = ['race','whitedem','arrestpercent']\n",
    "# Convert fractions to percent\n",
    "arrestwhite['arrestpercent'] = arrestwhite['arrestpercent']*100\n",
    "# Round up decimal \n",
    "arrestwhite['arrestpercent'] = round(arrestwhite['arrestpercent'],1)"
   ]
  },
  {
   "cell_type": "markdown",
   "metadata": {},
   "source": [
    "#### Plot10: <a id='plot10'>Race arrest percentage vs white demographic </a>"
   ]
  },
  {
   "cell_type": "code",
   "execution_count": null,
   "metadata": {},
   "outputs": [],
   "source": [
    "(ggplot(arrestwhite, aes(x='whitedem', y='arrestpercent', fill='race'))\n",
    " + geom_col() \n",
    " + xlab('County demographic')\n",
    " + ylab('arrest/total arrest')\n",
    " + geom_text(aes(x='whitedem', y='arrestpercent', label='arrestpercent'),position = position_stack(vjust = 0.5))\n",
    " + labs(fill='Race')\n",
    " + theme_classic()\n",
    ")"
   ]
  },
  {
   "cell_type": "markdown",
   "metadata": {},
   "source": [
    "It is hard to tell how fair the arrests are by just looking at the percentage of arrest for each race/total arrest. At a glance, it does look like white people are getting arrested more in higher rate than other races as expected."
   ]
  },
  {
   "cell_type": "code",
   "execution_count": null,
   "metadata": {},
   "outputs": [],
   "source": [
    "# Get the mean with groupby\n",
    "whitemean = prison_df2.groupby(['whitedems','race']).mean()\n",
    "whitemean = whitemean.reset_index()\n",
    "# Calculate standard error (sem)\n",
    "whitesem = prison_df2.groupby(['whitedems','race']).sem()\n",
    "whitesem = whitesem.reset_index()\n",
    "# extract row and convert to list\n",
    "sem = whitesem.loc[:,('arrestperpopulation')].tolist()\n",
    "whitearrpop = whitemean.loc[:,('whitedems','race','arrestperpopulation')]\n",
    "# Add standard error column\n",
    "whitearrpop['sem'] = sem\n",
    "# get ymin and ymax for errorbars\n",
    "whitearrpop['ymin'] = whitearrpop['arrestperpopulation'] - sem\n",
    "whitearrpop['ymax'] = whitearrpop['arrestperpopulation'] + sem"
   ]
  },
  {
   "cell_type": "markdown",
   "metadata": {},
   "source": [
    "#### Plot11: <a id='plot11'>Race arrest/population vs white demographic </a>"
   ]
  },
  {
   "cell_type": "code",
   "execution_count": null,
   "metadata": {},
   "outputs": [],
   "source": [
    "(ggplot(whitearrpop, aes(x='whitedems', y='arrestperpopulation', fill='race')) \n",
    " + geom_bar(position=position_dodge(), stat=\"identity\") \n",
    " + geom_errorbar(aes(ymin='ymin', ymax='ymax'),\n",
    "                 width=.2,position=position_dodge(.9))\n",
    " # dodge puts it at the right place\n",
    " + theme_classic()\n",
    " + ylab(\"Arrest/population\")\n",
    " + xlab(\"Counties White demographic\")\n",
    " + labs(fill='Race')\n",
    ")"
   ]
  },
  {
   "cell_type": "markdown",
   "metadata": {},
   "source": [
    "However, when you compare the raw numbers of arrest/population, you can see that not only black arrests are disproportionately high but also that it get's worse when white people are the majority."
   ]
  },
  {
   "cell_type": "markdown",
   "metadata": {},
   "source": [
    " ### 4.2.2 <a id='4.2.2'> Black demographic and arrest demographic </a>"
   ]
  },
  {
   "cell_type": "markdown",
   "metadata": {},
   "source": [
    "#### Plot12: <a id='plot12'>County distribution by black population </a>"
   ]
  },
  {
   "cell_type": "code",
   "execution_count": null,
   "metadata": {},
   "outputs": [],
   "source": [
    "# Quick look at the distribution of counties/black demographic\n",
    "(ggplot(prison_df2,aes(x='perblack*100')) \n",
    " + geom_histogram()\n",
    " + theme_classic()\n",
    " + xlab('Percentage of black population')\n",
    ")"
   ]
  },
  {
   "cell_type": "markdown",
   "metadata": {},
   "source": [
    "The distribution of counties by black population shows that, in all counties, black popultion is less than 40%. For following figures deviding the counties by black population, I will be using 10% as the cuttoff. "
   ]
  },
  {
   "cell_type": "code",
   "execution_count": null,
   "metadata": {},
   "outputs": [],
   "source": [
    "# Create a column for black demographic for each county\n",
    "blackdems = []\n",
    "blackper = prison_df2['perblack']\n",
    "\n",
    "for w in blackper:\n",
    "    if w > 0.1:\n",
    "        racedem = 'black >0.1'\n",
    "    else:\n",
    "        racedem = 'black <=0.1'\n",
    "    blackdems.append(racedem)    \n",
    "\n",
    "\n",
    "prison_df2['blackdems'] = blackdems"
   ]
  },
  {
   "cell_type": "code",
   "execution_count": null,
   "metadata": {},
   "outputs": [],
   "source": [
    "# Get the mean with groupby\n",
    "blackmean = prison_df2.groupby(['blackdems','race']).mean()\n",
    "blackmean = blackmean.reset_index()\n",
    "# Calculate standard error (sem)\n",
    "blacksem = prison_df2.groupby(['blackdems','race']).sem()\n",
    "blacksem = blacksem.reset_index()\n",
    "# extract row and convert to list\n",
    "sem = blacksem.loc[:,('arrestperpopulation')].tolist()\n",
    "blackarrpop = blackmean.loc[:,('blackdems','race','arrestperpopulation')]\n",
    "blackarrpop['sem'] = sem\n",
    "# get ymin and ymax for errorbars\n",
    "blackarrpop['ymin'] = blackarrpop['arrestperpopulation'] - sem\n",
    "blackarrpop['ymax'] = blackarrpop['arrestperpopulation'] + sem"
   ]
  },
  {
   "cell_type": "markdown",
   "metadata": {},
   "source": [
    "#### Plot13: <a id='plot13'>Race arrest/population vs black demographic </a>"
   ]
  },
  {
   "cell_type": "code",
   "execution_count": null,
   "metadata": {},
   "outputs": [],
   "source": [
    "(ggplot(blackarrpop, aes(x='blackdems', y='arrestperpopulation', fill='race')) \n",
    " + geom_bar(position=position_dodge(), stat=\"identity\") \n",
    " + geom_errorbar(aes(ymin='ymin', ymax='ymax'),\n",
    "                 width=.2,position=position_dodge(.9))\n",
    " + ylab('Arrest/population')\n",
    " + xlab('County demographic')\n",
    " # dodge puts it at the right place\n",
    " + theme_classic()\n",
    " + labs(fill='Race')\n",
    ")"
   ]
  },
  {
   "cell_type": "markdown",
   "metadata": {},
   "source": [
    "Black people get arrested less in counties with higher black population. "
   ]
  },
  {
   "cell_type": "markdown",
   "metadata": {},
   "source": [
    "### 4.3 <a id='4.2'> How unfair are the arrests? </a>\n",
    "\n",
    "The \"Unfairness factor\" is the %Arrest/%population for each race. If everyone is arrested at the same rate, unfairness factor should be 1 for all races."
   ]
  },
  {
   "cell_type": "code",
   "execution_count": null,
   "metadata": {},
   "outputs": [],
   "source": [
    "# re-calculate % population because the original data is missing decimal points\n",
    "recalcpop = []\n",
    "race = ['White','Black','Hispanic','Asian','Other-Unknown' ]\n",
    "# Extract data for each county and sum up numbers\n",
    "for c in counties:\n",
    "    rows = prison_df2[(prison_df2.County == c)]\n",
    "    toadd = rows['population']\n",
    "    tot = sum(toadd)\n",
    "    for r in race:\n",
    "        racerow = rows[(prison_df2.race == r)]\n",
    "        rpop = racerow['population']\n",
    "        totr = sum(rpop)\n",
    "        percent = totr/tot\n",
    "        recalcpop.append(percent)\n",
    "\n",
    "# Add it to the prison_df2 table\n",
    "prison_df2['recalc%pop'] = recalcpop"
   ]
  },
  {
   "cell_type": "code",
   "execution_count": null,
   "metadata": {},
   "outputs": [],
   "source": [
    "# re-calculate % arrest to be exact\n",
    "recalcarrest = []\n",
    "race = ['White','Black','Hispanic','Asian','Other-Unknown' ]\n",
    "# Extract data for each county and sum up numbers\n",
    "for c in counties:\n",
    "    rows = prison_df2[(prison_df2.County == c)]\n",
    "    toadd = rows['arrest']\n",
    "    tot = sum(toadd)\n",
    "    for r in race:\n",
    "        racerow = rows[(prison_df2.race == r)]\n",
    "        rpop = racerow['arrest']\n",
    "        totr = sum(rpop)\n",
    "        percent = totr/tot\n",
    "        recalcarrest.append(percent)\n",
    "\n",
    "# Add it to the prison_df2 table\n",
    "prison_df2['recalc%arrest'] = recalcarrest"
   ]
  },
  {
   "cell_type": "code",
   "execution_count": null,
   "metadata": {},
   "outputs": [],
   "source": [
    "# Calculate an unfair factor and name it 'ratio'\n",
    "prison_df2['ratio'] = (prison_df2['recalc%arrest']+0.001)/(prison_df2['recalc%pop']+0.001) "
   ]
  },
  {
   "cell_type": "code",
   "execution_count": null,
   "metadata": {
    "scrolled": true
   },
   "outputs": [],
   "source": [
    "mean = prison_df2.groupby('race').mean()\n",
    "mean = mean.reset_index()\n",
    "semsum = prison_df2.groupby('race').sem()\n",
    "# extract standard error as list\n",
    "sem = semsum.loc[:,('ratio')].tolist()\n",
    "meanratio = mean.loc[:,('race','ratio')]\n",
    "meanratio['sem'] = sem\n",
    "meanratio['ymin'] = meanratio['ratio'] - meanratio['sem']\n",
    "meanratio['ymax'] = meanratio['ratio'] + meanratio['sem']\n",
    "\n",
    "\n",
    "\n"
   ]
  },
  {
   "cell_type": "markdown",
   "metadata": {},
   "source": [
    "#### Plot14: <a id='plot14'>Unfairness for each race </a>"
   ]
  },
  {
   "cell_type": "code",
   "execution_count": null,
   "metadata": {},
   "outputs": [],
   "source": [
    "(ggplot(meanratio, aes(x='race',y='ratio')) \n",
    " + geom_col()\n",
    " + theme_classic()\n",
    " + geom_errorbar(aes(x='race',ymin='ymin',ymax='ymax'))\n",
    " + xlab('Race')\n",
    " + ylab('Mean unfairness factor')\n",
    " + ggtitle('Arrest unfairness across all counties')\n",
    " + geom_hline(yintercept=1,linetype='dashed')\n",
    ")"
   ]
  },
  {
   "cell_type": "markdown",
   "metadata": {},
   "source": [
    "NY State counties, black people are arrested unfairly on average."
   ]
  },
  {
   "cell_type": "markdown",
   "metadata": {},
   "source": [
    "#### Plot15: <a id='plot15'>Unfairness and percent white in county </a>"
   ]
  },
  {
   "cell_type": "code",
   "execution_count": null,
   "metadata": {},
   "outputs": [],
   "source": [
    "# Plot the arrest per population for each race\n",
    "(ggplot(prison_df2, aes(x=\"perwhite*100\", y=\"ratio\", color='race')) \n",
    " + geom_point(size=3,alpha=0.5) \n",
    " + xlab('% White in each county')\n",
    " + ylab('unfairness')\n",
    " + geom_hline(yintercept=1,linetype='dashed')\n",
    " + theme_classic()\n",
    " + labs(color='Race')\n",
    ")"
   ]
  },
  {
   "cell_type": "markdown",
   "metadata": {},
   "source": [
    "Unfairness factor values for black people gets worse as the percentages of white people gets higher in the counties."
   ]
  },
  {
   "cell_type": "code",
   "execution_count": null,
   "metadata": {},
   "outputs": [],
   "source": [
    "# Get the mean with groupby\n",
    "whitemean = prison_df2.groupby(['whitedems','race']).mean()\n",
    "whitemean = whitemean.reset_index()\n",
    "\n",
    "# Calculate standard error (sem)\n",
    "whitesem = prison_df2.groupby(['whitedems','race']).sem()\n",
    "whitesem = whitesem.reset_index()\n",
    "sem = whitesem.loc[:,('ratio')].tolist()\n",
    "whitearrpop = whitemean.loc[:,('whitedems','race','ratio')]\n",
    "whitearrpop['sem'] = sem\n",
    "# get ymin and ymax for errorbars\n",
    "whitearrpop['ymin'] = whitearrpop['ratio'] - sem\n",
    "whitearrpop['ymax'] = whitearrpop['ratio'] + sem"
   ]
  },
  {
   "cell_type": "markdown",
   "metadata": {},
   "source": [
    "#### Plot16: <a id='plot16'>Unfairness and white demographic </a>"
   ]
  },
  {
   "cell_type": "code",
   "execution_count": null,
   "metadata": {},
   "outputs": [],
   "source": [
    "(ggplot(whitearrpop, aes(x='whitedems', y='ratio', fill='race')) \n",
    " + geom_bar(position=position_dodge(), stat=\"identity\") \n",
    " + geom_errorbar(aes(ymin='ymin', ymax='ymax'),\n",
    "                 width=.2,position=position_dodge(.9))\n",
    " # dodge puts it at the right place\n",
    " + theme_classic()\n",
    " + ylab(\"Mean unfairness factor\")\n",
    " + xlab(\"Counties White demographic\")\n",
    " + geom_hline(yintercept=1,linetype='dashed')\n",
    " + labs(fill='Race')\n",
    ")"
   ]
  },
  {
   "cell_type": "markdown",
   "metadata": {},
   "source": [
    "Unfairness factor values for black people is worse in counties with high percenage of white people."
   ]
  },
  {
   "cell_type": "code",
   "execution_count": null,
   "metadata": {},
   "outputs": [],
   "source": [
    "# Get the mean with groupby\n",
    "blackmean = prison_df2.groupby(['blackdems','race']).mean()\n",
    "blackmean = blackmean.reset_index()\n",
    "\n",
    "# Calculate standard error (sem)\n",
    "blacksem = prison_df2.groupby(['blackdems','race']).sem()\n",
    "blacksem = blacksem.reset_index()\n",
    "sem = blacksem.loc[:,('ratio')].tolist()\n",
    "blackarrpop = blackmean.loc[:,('blackdems','race','ratio')]\n",
    "blackarrpop['sem'] = sem\n",
    "# get ymin and ymax for errorbars\n",
    "blackarrpop['ymin'] = blackarrpop['ratio'] - sem\n",
    "blackarrpop['ymax'] = blackarrpop['ratio'] + sem"
   ]
  },
  {
   "cell_type": "markdown",
   "metadata": {},
   "source": [
    "#### Plot17: <a id='plot17'>Unfairness and black demographic </a>"
   ]
  },
  {
   "cell_type": "code",
   "execution_count": null,
   "metadata": {},
   "outputs": [],
   "source": [
    "(ggplot(blackarrpop, aes(x='blackdems', y='ratio', fill='race')) \n",
    " + geom_bar(position=position_dodge(), stat=\"identity\") \n",
    " + geom_errorbar(aes(ymin='ymin', ymax='ymax'),\n",
    "                 width=.2,position=position_dodge(.9))\n",
    " # dodge puts it at the right place\n",
    " + theme_classic()\n",
    " + ylab(\"Mean unfairness factor\")\n",
    " + xlab(\"Counties Black demographic\")\n",
    " + geom_hline(yintercept=1,linetype='dashed')\n",
    " + labs(fill='Race')\n",
    ")"
   ]
  },
  {
   "cell_type": "markdown",
   "metadata": {},
   "source": [
    "Black people are arrested less unfairly when there are more black people in the counties."
   ]
  },
  {
   "cell_type": "markdown",
   "metadata": {},
   "source": [
    "## 5. <a id='5'>Prison sentences for each race </a>"
   ]
  },
  {
   "cell_type": "markdown",
   "metadata": {},
   "source": [
    "#### Plot18: <a id='plot18'>% Prison sentence vs % arrest </a>"
   ]
  },
  {
   "cell_type": "code",
   "execution_count": null,
   "metadata": {},
   "outputs": [],
   "source": [
    "(ggplot(prison_df2, aes(x=\"%arrest\", y=\"%prison\", color='race', size ='totpopulation')) \n",
    " + geom_point(alpha=0.5) \n",
    " + geom_abline(intercept = 0 , slope = 1,linetype=\"dashed\")\n",
    " + xlab(\"% Arrest\")\n",
    " + ylab(\"% Prison\")\n",
    " + labs(color='Race',size='Population')\n",
    " + theme_classic()\n",
    ")"
   ]
  },
  {
   "cell_type": "markdown",
   "metadata": {},
   "source": [
    "If everyone arrested were sentenced to prison fairly, all points should be on the diagonal line. However, most values for black population are above and most white population are below the diagonal line, indicating that black arrestees are disproportionately sentenced to prison and white arrestees are treated favorably."
   ]
  },
  {
   "cell_type": "code",
   "execution_count": null,
   "metadata": {},
   "outputs": [],
   "source": [
    "# re-calculate % prison to be exact\n",
    "recalcprison = []\n",
    "race = ['White','Black','Hispanic','Asian','Other-Unknown' ]\n",
    "# Extract data for each county and sum up numbers\n",
    "for c in counties:\n",
    "    rows = prison_df2[(prison_df2.County == c)]\n",
    "    toadd = rows['prison']\n",
    "    tot = sum(toadd)\n",
    "    for r in race:\n",
    "        racerow = rows[(prison_df2.race == r)]\n",
    "        rpop = racerow['prison']\n",
    "        totr = sum(rpop)\n",
    "        percent = totr/tot\n",
    "        recalcprison.append(percent)\n",
    "\n",
    "# Add it to the prison_df2 table\n",
    "prison_df2['recalc%prison'] = recalcprison"
   ]
  },
  {
   "cell_type": "code",
   "execution_count": null,
   "metadata": {},
   "outputs": [],
   "source": [
    "prison_df2['prisonratio'] = (prison_df2['recalc%prison']+0.01)/(prison_df2['recalc%arrest']+0.01)\n",
    "# Added 0.01 to adjust for the very small numbers\n",
    "mean = prison_df2.groupby('race').mean()\n",
    "mean = mean.reset_index()\n",
    "semsum = prison_df2.groupby('race').sem()\n",
    "# extract standard error as list\n",
    "sem = semsum.loc[:,('prisonratio')].tolist()\n",
    "meanratio = mean.loc[:,('race','prisonratio')]  \n",
    "meanratio['sem'] = sem\n",
    "meanratio['ymin'] = meanratio['prisonratio'] - meanratio['sem']\n",
    "meanratio['ymax'] = meanratio['prisonratio'] + meanratio['sem']"
   ]
  },
  {
   "cell_type": "markdown",
   "metadata": {},
   "source": [
    "#### Plot19: <a id='plot19'>Prison/arrest ratio for each race </a>"
   ]
  },
  {
   "cell_type": "code",
   "execution_count": null,
   "metadata": {},
   "outputs": [],
   "source": [
    "(ggplot(meanratio, aes(x='race',y='prisonratio')) \n",
    " + geom_col()\n",
    " + theme_classic()\n",
    " + geom_errorbar(aes(x='race',ymin='ymin',ymax='ymax'))\n",
    " + xlab('Race')\n",
    " + ylab('Mean prison sentence/arrest')\n",
    " + geom_hline(yintercept=1, linetype='dashed')\n",
    ")"
   ]
  },
  {
   "cell_type": "markdown",
   "metadata": {},
   "source": [
    "As seen in the scatter plot ([plot18](#plot18)), black people are sentenced to prison disproportionately. While it was not obvious in the scatter plot, hispanic people are also sentenced to prison more than other races. "
   ]
  },
  {
   "cell_type": "code",
   "execution_count": null,
   "metadata": {},
   "outputs": [],
   "source": [
    "prison_df2[(prison_df2.prisonratio > 4)]"
   ]
  },
  {
   "cell_type": "markdown",
   "metadata": {},
   "source": [
    "#### Plot20: <a id='plot20'>Prison/arrest ratio vs white demographic </a>"
   ]
  },
  {
   "cell_type": "code",
   "execution_count": null,
   "metadata": {},
   "outputs": [],
   "source": [
    "(ggplot(prison_df2, aes(x=\"perwhite*100\", y=\"prisonratio\", color='race')) \n",
    " + geom_point(size=3,alpha=0.7) \n",
    " + xlab('% White (in each county)')\n",
    " + ylab('% Prison sentence/% Arrest')\n",
    " + theme_classic()\n",
    " + geom_hline(yintercept=1,linetype='dashed')\n",
    " + labs(color='Race')\n",
    ")"
   ]
  },
  {
   "cell_type": "markdown",
   "metadata": {},
   "source": [
    "The higher the percentages of white people in the county, the more black and hispanic arrestees are sentenced to prison, ."
   ]
  },
  {
   "cell_type": "code",
   "execution_count": null,
   "metadata": {},
   "outputs": [],
   "source": [
    "# Get the mean with groupby\n",
    "whitemean = prison_df2.groupby(['whitedems','race']).mean()\n",
    "whitemean = whitemean.reset_index()\n",
    "# Calculate standard error (sem)\n",
    "whitesem = prison_df2.groupby(['whitedems','race']).sem()\n",
    "whitesem = whitesem.reset_index()\n",
    "sem = whitesem.loc[:,('prisonratio')].tolist()\n",
    "whitearrpop = whitemean.loc[:,('whitedems','race','prisonratio')]\n",
    "whitearrpop['sem'] = sem\n",
    "# get ymin and ymax for errorbars\n",
    "whitearrpop['ymin'] = whitearrpop['prisonratio'] - sem\n",
    "whitearrpop['ymax'] = whitearrpop['prisonratio'] + sem"
   ]
  },
  {
   "cell_type": "markdown",
   "metadata": {},
   "source": [
    "#### Plot21: <a id='plot21'>Prison/arrest ratio and white demographic </a>"
   ]
  },
  {
   "cell_type": "code",
   "execution_count": null,
   "metadata": {},
   "outputs": [],
   "source": [
    "(ggplot(whitearrpop, aes(x='whitedems', y='prisonratio', fill='race')) \n",
    " + geom_bar(position=position_dodge(), stat=\"identity\") \n",
    " + geom_errorbar(aes(ymin='ymin', ymax='ymax'),\n",
    "                 width=.2,position=position_dodge(.9))\n",
    " # dodge puts it at the right place\n",
    " + theme_classic()\n",
    " + ylab(\"Mean %prison sentence/%population\")\n",
    " + xlab(\"Counties White demographic\")\n",
    " + geom_hline(yintercept=1,linetype='dashed')\n",
    " + labs(fill='Race')\n",
    ")"
   ]
  },
  {
   "cell_type": "markdown",
   "metadata": {},
   "source": [
    "More black and hispanic arrestees sentenced to prison in counties with high white population."
   ]
  },
  {
   "cell_type": "code",
   "execution_count": null,
   "metadata": {},
   "outputs": [],
   "source": [
    "# Get the mean with groupby\n",
    "blackmean = prison_df2.groupby(['blackdems','race']).mean()\n",
    "blackmean = blackmean.reset_index()\n",
    "# Calculate standard error (sem)\n",
    "blacksem = prison_df2.groupby(['blackdems','race']).sem()\n",
    "blacksem = blacksem.reset_index()\n",
    "sem = blacksem.loc[:,('prisonratio')].tolist()\n",
    "blackarrpop = blackmean.loc[:,('blackdems','race','prisonratio')]\n",
    "blackarrpop['sem'] = sem\n",
    "# get ymin and ymax for errorbars\n",
    "blackarrpop['ymin'] = blackarrpop['prisonratio'] - sem\n",
    "blackarrpop['ymax'] = blackarrpop['prisonratio'] + sem"
   ]
  },
  {
   "cell_type": "markdown",
   "metadata": {},
   "source": [
    "#### Plot22: <a id='plot22'>Prison/arrest ratio and black demographic </a>"
   ]
  },
  {
   "cell_type": "code",
   "execution_count": null,
   "metadata": {},
   "outputs": [],
   "source": [
    "(ggplot(blackarrpop, aes(x='blackdems', y='prisonratio', fill='race')) \n",
    " + geom_bar(position=position_dodge(), stat=\"identity\") \n",
    " + geom_errorbar(aes(ymin='ymin', ymax='ymax'),\n",
    "                 width=.2,position=position_dodge(.9))\n",
    " # dodge puts it at the right place\n",
    " + theme_classic()\n",
    " + ylab(\"Mean %prison sentence/%population\")\n",
    " + xlab(\"Counties Black  demographic\")\n",
    " + geom_hline(yintercept=1,linetype='dashed')\n",
    " + labs(fill='Race')\n",
    ")"
   ]
  },
  {
   "cell_type": "markdown",
   "metadata": {},
   "source": [
    "Less black and hispanic arrestees sentenced to prison in counties with high black population."
   ]
  },
  {
   "cell_type": "markdown",
   "metadata": {},
   "source": [
    "## 6. <a id='6'>Conclusion/Main Takaways </a>\n",
    "\n",
    "1. Substantially more black people/(race)population are arrested in counties with high percentages of white people (see ([#3](#3),[#4.2.1](#4.2.1),[#4.3](#4.3)). The overall population size or location (NYC/non-NYC) of the county doesn't seem to matter (see [#4.1](#4.1)). \n",
    "2. The more black people there are in the community, the fewer black people get arrested (/black population) (see [#4.2.1](#4.2.1))\n",
    "3. More black arrestees are sentenced to prison compared to other races/ethnicities (see [#5](#5), this effect is amplified in counties with high white demographic (see [#5](#5)).\n",
    "\n",
    "These data describe arrests and convictions that happened in calendar year 2018 and were deidentifed for anonymity by New York State. As a result, we don't know which arrests represent repeat offenders, or how many of the arrests during 2018 led to prison sentences within that same year. Regardless of these factors, the data indicate that racial disparities have an observable effect on crime and the criminal justice system in New York State, from police apprehension all the way through the court system."
   ]
  },
  {
   "cell_type": "code",
   "execution_count": null,
   "metadata": {},
   "outputs": [],
   "source": []
  }
 ],
 "metadata": {
  "kernelspec": {
   "display_name": "Python 3",
   "language": "python",
   "name": "python3"
  },
  "language_info": {
   "codemirror_mode": {
    "name": "ipython",
    "version": 3
   },
   "file_extension": ".py",
   "mimetype": "text/x-python",
   "name": "python",
   "nbconvert_exporter": "python",
   "pygments_lexer": "ipython3",
   "version": "3.7.4"
  }
 },
 "nbformat": 4,
 "nbformat_minor": 4
}
