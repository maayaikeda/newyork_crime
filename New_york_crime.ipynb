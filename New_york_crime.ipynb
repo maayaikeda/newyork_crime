{
 "cells": [
  {
   "cell_type": "markdown",
   "metadata": {},
   "source": [
    "Make sure you are using python 3"
   ]
  },
  {
   "cell_type": "code",
   "execution_count": 1,
   "metadata": {},
   "outputs": [],
   "source": [
    "# check python version\n",
    "from platform import python_version\n",
    "print(python_version())"
   ]
  },
  {
   "cell_type": "markdown",
   "metadata": {},
   "source": [
    "Got the New York arrest data from here:"
   ]
  },
  {
   "cell_type": "markdown",
   "metadata": {},
   "source": [
    "https://www.criminaljustice.ny.gov/crimnet/ojsa/adult-arrest-demographics/2018/index.html"
   ]
  },
  {
   "cell_type": "code",
   "execution_count": 2,
   "metadata": {},
   "outputs": [
    {
     "data": {
      "text/plain": [
       "('all.xls', <http.client.HTTPMessage at 0x10e437590>)"
      ]
     },
     "execution_count": 2,
     "metadata": {},
     "output_type": "execute_result"
    }
   ],
   "source": [
    "# download data\n",
    "URL = 'https://www.criminaljustice.ny.gov/crimnet/ojsa/adult-arrest-demographics/2018/all.xls'\n",
    "filename = 'all.xls'\n",
    "from urllib.request import urlretrieve\n",
    "urlretrieve(URL,filename)"
   ]
  },
  {
   "cell_type": "code",
   "execution_count": 3,
   "metadata": {},
   "outputs": [],
   "source": [
    "# make sure the downloaded file is ignored so it's not in the github folder"
   ]
  },
  {
   "cell_type": "markdown",
   "metadata": {},
   "source": [
    "This dataset has the county data in different sheets. For example, this is data from the Franklin county tab."
   ]
  },
  {
   "cell_type": "code",
   "execution_count": 4,
   "metadata": {},
   "outputs": [
    {
     "data": {
      "text/html": [
       "<div>\n",
       "<style scoped>\n",
       "    .dataframe tbody tr th:only-of-type {\n",
       "        vertical-align: middle;\n",
       "    }\n",
       "\n",
       "    .dataframe tbody tr th {\n",
       "        vertical-align: top;\n",
       "    }\n",
       "\n",
       "    .dataframe thead th {\n",
       "        text-align: right;\n",
       "    }\n",
       "</style>\n",
       "<table border=\"1\" class=\"dataframe\">\n",
       "  <thead>\n",
       "    <tr style=\"text-align: right;\">\n",
       "      <th></th>\n",
       "      <th>Unnamed: 2</th>\n",
       "      <th>Total Arrests</th>\n",
       "      <th>White</th>\n",
       "      <th>Black</th>\n",
       "      <th>Hispanic</th>\n",
       "      <th>Asian</th>\n",
       "      <th>Other-Unknown</th>\n",
       "    </tr>\n",
       "  </thead>\n",
       "  <tbody>\n",
       "    <tr>\n",
       "      <th>0</th>\n",
       "      <td>Total Arrests</td>\n",
       "      <td>7132</td>\n",
       "      <td>3242</td>\n",
       "      <td>3035</td>\n",
       "      <td>630</td>\n",
       "      <td>75</td>\n",
       "      <td>150</td>\n",
       "    </tr>\n",
       "    <tr>\n",
       "      <th>1</th>\n",
       "      <td>Felony Total</td>\n",
       "      <td>2555</td>\n",
       "      <td>928</td>\n",
       "      <td>1302</td>\n",
       "      <td>254</td>\n",
       "      <td>19</td>\n",
       "      <td>52</td>\n",
       "    </tr>\n",
       "  </tbody>\n",
       "</table>\n",
       "</div>"
      ],
      "text/plain": [
       "      Unnamed: 2  Total Arrests  White  Black  Hispanic  Asian  Other-Unknown\n",
       "0  Total Arrests           7132   3242   3035       630     75            150\n",
       "1   Felony Total           2555    928   1302       254     19             52"
      ]
     },
     "execution_count": 4,
     "metadata": {},
     "output_type": "execute_result"
    }
   ],
   "source": [
    "import pandas as pd\n",
    "# import data from the Franklin sheet. only include parts of the spreadsheet that includes data\n",
    "# we are inetrested in\n",
    "Franklin = pd.read_excel('all.xls', sheet_name = \"Albany\", skiprows = 15,nrows =2, usecols = \"C,E:J\")\n",
    "Franklin"
   ]
  },
  {
   "cell_type": "code",
   "execution_count": 5,
   "metadata": {},
   "outputs": [],
   "source": [
    "# do this for all counties"
   ]
  },
  {
   "cell_type": "code",
   "execution_count": 6,
   "metadata": {},
   "outputs": [
    {
     "data": {
      "text/plain": [
       "['NewYorkState', 'NYC', 'Non-NYC', 'Albany']"
      ]
     },
     "execution_count": 6,
     "metadata": {},
     "output_type": "execute_result"
    }
   ],
   "source": [
    "# List of sheet names\n",
    "xl = pd.ExcelFile('all.xls')\n",
    "\n",
    "sheetnames = xl.sheet_names  # see all sheet names\n",
    "\n",
    "sheetnames[1:5]"
   ]
  },
  {
   "cell_type": "code",
   "execution_count": 7,
   "metadata": {},
   "outputs": [
    {
     "data": {
      "text/plain": [
       "66"
      ]
     },
     "execution_count": 7,
     "metadata": {},
     "output_type": "execute_result"
    }
   ],
   "source": [
    "# check the length \n",
    "len(sheetnames)"
   ]
  },
  {
   "cell_type": "code",
   "execution_count": 8,
   "metadata": {},
   "outputs": [],
   "source": [
    "# only get the county names. ignore first three rows\n",
    "counties = sheetnames[4:66]"
   ]
  },
  {
   "cell_type": "code",
   "execution_count": 9,
   "metadata": {},
   "outputs": [
    {
     "data": {
      "text/plain": [
       "62"
      ]
     },
     "execution_count": 9,
     "metadata": {},
     "output_type": "execute_result"
    }
   ],
   "source": [
    "# makes sure we only have data from 62 counties\n",
    "len(counties)"
   ]
  },
  {
   "cell_type": "code",
   "execution_count": 10,
   "metadata": {},
   "outputs": [],
   "source": [
    "# create empty data frame\n",
    "column_names = [\"Total Arrests\",\"White\",\"Black\",\"Hispanic\",\"Asian\",\"Other-Unknown\"]\n",
    "df = pd.DataFrame(columns = column_names)"
   ]
  },
  {
   "cell_type": "code",
   "execution_count": 11,
   "metadata": {},
   "outputs": [],
   "source": [
    "# run a loop to extract data from each sheet\n",
    "data = []\n",
    "for c in counties:\n",
    "    sheetname = c\n",
    "    countydata = pd.read_excel('all.xls', sheet_name = sheetname, skiprows = 15,nrows =1, usecols = \"C,E:J\")\n",
    "    county = [[]] * 1\n",
    "    county[0].append(sheetname)\n",
    "    countydata['County'] = county\n",
    "    data.append(countydata)"
   ]
  },
  {
   "cell_type": "code",
   "execution_count": 12,
   "metadata": {},
   "outputs": [],
   "source": [
    "df = df.append(data, True)"
   ]
  },
  {
   "cell_type": "code",
   "execution_count": 13,
   "metadata": {},
   "outputs": [
    {
     "data": {
      "text/html": [
       "<div>\n",
       "<style scoped>\n",
       "    .dataframe tbody tr th:only-of-type {\n",
       "        vertical-align: middle;\n",
       "    }\n",
       "\n",
       "    .dataframe tbody tr th {\n",
       "        vertical-align: top;\n",
       "    }\n",
       "\n",
       "    .dataframe thead th {\n",
       "        text-align: right;\n",
       "    }\n",
       "</style>\n",
       "<table border=\"1\" class=\"dataframe\">\n",
       "  <thead>\n",
       "    <tr style=\"text-align: right;\">\n",
       "      <th></th>\n",
       "      <th>Total Arrests</th>\n",
       "      <th>White</th>\n",
       "      <th>Black</th>\n",
       "      <th>Hispanic</th>\n",
       "      <th>Asian</th>\n",
       "      <th>Other-Unknown</th>\n",
       "      <th>Unnamed: 2</th>\n",
       "      <th>County</th>\n",
       "    </tr>\n",
       "  </thead>\n",
       "  <tbody>\n",
       "    <tr>\n",
       "      <th>0</th>\n",
       "      <td>7132</td>\n",
       "      <td>3242</td>\n",
       "      <td>3035</td>\n",
       "      <td>630</td>\n",
       "      <td>75</td>\n",
       "      <td>150</td>\n",
       "      <td>Total Arrests</td>\n",
       "      <td>[Albany]</td>\n",
       "    </tr>\n",
       "    <tr>\n",
       "      <th>1</th>\n",
       "      <td>830</td>\n",
       "      <td>755</td>\n",
       "      <td>55</td>\n",
       "      <td>12</td>\n",
       "      <td>3</td>\n",
       "      <td>5</td>\n",
       "      <td>Total Arrests</td>\n",
       "      <td>[Allegany]</td>\n",
       "    </tr>\n",
       "    <tr>\n",
       "      <th>2</th>\n",
       "      <td>47413</td>\n",
       "      <td>1781</td>\n",
       "      <td>21437</td>\n",
       "      <td>23196</td>\n",
       "      <td>618</td>\n",
       "      <td>381</td>\n",
       "      <td>Total Arrests</td>\n",
       "      <td>[Bronx]</td>\n",
       "    </tr>\n",
       "    <tr>\n",
       "      <th>3</th>\n",
       "      <td>5091</td>\n",
       "      <td>3396</td>\n",
       "      <td>1236</td>\n",
       "      <td>363</td>\n",
       "      <td>45</td>\n",
       "      <td>51</td>\n",
       "      <td>Total Arrests</td>\n",
       "      <td>[Broome]</td>\n",
       "    </tr>\n",
       "    <tr>\n",
       "      <th>4</th>\n",
       "      <td>1697</td>\n",
       "      <td>1318</td>\n",
       "      <td>150</td>\n",
       "      <td>36</td>\n",
       "      <td>10</td>\n",
       "      <td>183</td>\n",
       "      <td>Total Arrests</td>\n",
       "      <td>[Cattaraugus]</td>\n",
       "    </tr>\n",
       "  </tbody>\n",
       "</table>\n",
       "</div>"
      ],
      "text/plain": [
       "  Total Arrests White  Black Hispanic Asian Other-Unknown     Unnamed: 2  \\\n",
       "0          7132  3242   3035      630    75           150  Total Arrests   \n",
       "1           830   755     55       12     3             5  Total Arrests   \n",
       "2         47413  1781  21437    23196   618           381  Total Arrests   \n",
       "3          5091  3396   1236      363    45            51  Total Arrests   \n",
       "4          1697  1318    150       36    10           183  Total Arrests   \n",
       "\n",
       "          County  \n",
       "0       [Albany]  \n",
       "1     [Allegany]  \n",
       "2        [Bronx]  \n",
       "3       [Broome]  \n",
       "4  [Cattaraugus]  "
      ]
     },
     "execution_count": 13,
     "metadata": {},
     "output_type": "execute_result"
    }
   ],
   "source": [
    "df.head()"
   ]
  },
  {
   "cell_type": "markdown",
   "metadata": {},
   "source": [
    "Now, get county population data from here: \n",
    "https://data.ny.gov/Government-Finance/Annual-Population-Estimates-for-New-York-State-and/krt9-ym2k"
   ]
  },
  {
   "cell_type": "code",
   "execution_count": 14,
   "metadata": {},
   "outputs": [
    {
     "data": {
      "text/plain": [
       "('population.csv', <http.client.HTTPMessage at 0x11f34b250>)"
      ]
     },
     "execution_count": 14,
     "metadata": {},
     "output_type": "execute_result"
    }
   ],
   "source": [
    "# get population by county\n",
    "url2 = 'https://data.ny.gov/api/views/krt9-ym2k/rows.csv?accessType=DOWNLOAD&bom=true&format=true&sorting=true'\n",
    "filename2 = 'population.csv'\n",
    "from urllib.request import urlretrieve\n",
    "urlretrieve(url2,filename2)  "
   ]
  },
  {
   "cell_type": "code",
   "execution_count": 15,
   "metadata": {},
   "outputs": [
    {
     "data": {
      "text/plain": [
       "(3465, 5)"
      ]
     },
     "execution_count": 15,
     "metadata": {},
     "output_type": "execute_result"
    }
   ],
   "source": [
    "import pandas as pd\n",
    "\n",
    "population = pd.read_csv('population.csv')\n",
    "# examine data. It seems like this has data for a lot of years\n",
    "population.shape"
   ]
  },
  {
   "cell_type": "code",
   "execution_count": 16,
   "metadata": {},
   "outputs": [
    {
     "data": {
      "text/html": [
       "<div>\n",
       "<style scoped>\n",
       "    .dataframe tbody tr th:only-of-type {\n",
       "        vertical-align: middle;\n",
       "    }\n",
       "\n",
       "    .dataframe tbody tr th {\n",
       "        vertical-align: top;\n",
       "    }\n",
       "\n",
       "    .dataframe thead th {\n",
       "        text-align: right;\n",
       "    }\n",
       "</style>\n",
       "<table border=\"1\" class=\"dataframe\">\n",
       "  <thead>\n",
       "    <tr style=\"text-align: right;\">\n",
       "      <th></th>\n",
       "      <th>FIPS Code</th>\n",
       "      <th>Geography</th>\n",
       "      <th>Year</th>\n",
       "      <th>Program Type</th>\n",
       "      <th>Population</th>\n",
       "    </tr>\n",
       "  </thead>\n",
       "  <tbody>\n",
       "    <tr>\n",
       "      <th>0</th>\n",
       "      <td>36000</td>\n",
       "      <td>New York State</td>\n",
       "      <td>2019</td>\n",
       "      <td>Postcensal Population Estimate</td>\n",
       "      <td>19,453,561</td>\n",
       "    </tr>\n",
       "    <tr>\n",
       "      <th>1</th>\n",
       "      <td>36001</td>\n",
       "      <td>Albany County</td>\n",
       "      <td>2019</td>\n",
       "      <td>Postcensal Population Estimate</td>\n",
       "      <td>305,506</td>\n",
       "    </tr>\n",
       "    <tr>\n",
       "      <th>2</th>\n",
       "      <td>36003</td>\n",
       "      <td>Allegany County</td>\n",
       "      <td>2019</td>\n",
       "      <td>Postcensal Population Estimate</td>\n",
       "      <td>46,091</td>\n",
       "    </tr>\n",
       "    <tr>\n",
       "      <th>3</th>\n",
       "      <td>36005</td>\n",
       "      <td>Bronx County</td>\n",
       "      <td>2019</td>\n",
       "      <td>Postcensal Population Estimate</td>\n",
       "      <td>1,418,207</td>\n",
       "    </tr>\n",
       "    <tr>\n",
       "      <th>4</th>\n",
       "      <td>36007</td>\n",
       "      <td>Broome County</td>\n",
       "      <td>2019</td>\n",
       "      <td>Postcensal Population Estimate</td>\n",
       "      <td>190,488</td>\n",
       "    </tr>\n",
       "  </tbody>\n",
       "</table>\n",
       "</div>"
      ],
      "text/plain": [
       "   FIPS Code        Geography  Year                    Program Type  \\\n",
       "0      36000   New York State  2019  Postcensal Population Estimate   \n",
       "1      36001    Albany County  2019  Postcensal Population Estimate   \n",
       "2      36003  Allegany County  2019  Postcensal Population Estimate   \n",
       "3      36005     Bronx County  2019  Postcensal Population Estimate   \n",
       "4      36007    Broome County  2019  Postcensal Population Estimate   \n",
       "\n",
       "   Population  \n",
       "0  19,453,561  \n",
       "1     305,506  \n",
       "2      46,091  \n",
       "3   1,418,207  \n",
       "4     190,488  "
      ]
     },
     "execution_count": 16,
     "metadata": {},
     "output_type": "execute_result"
    }
   ],
   "source": [
    "\n",
    "population.head()"
   ]
  },
  {
   "cell_type": "code",
   "execution_count": 17,
   "metadata": {},
   "outputs": [
    {
     "data": {
      "text/plain": [
       "63"
      ]
     },
     "execution_count": 17,
     "metadata": {},
     "output_type": "execute_result"
    }
   ],
   "source": [
    "# Extract population data from 2018\n",
    "population18 = population[population.Year == 2018]\n",
    "len(population18)"
   ]
  },
  {
   "cell_type": "code",
   "execution_count": 18,
   "metadata": {},
   "outputs": [],
   "source": [
    "# exclude the total population\n",
    "population_c = population18[1:63]"
   ]
  },
  {
   "cell_type": "code",
   "execution_count": 19,
   "metadata": {},
   "outputs": [
    {
     "data": {
      "text/plain": [
       "62"
      ]
     },
     "execution_count": 19,
     "metadata": {},
     "output_type": "execute_result"
    }
   ],
   "source": [
    "len(population_c)"
   ]
  },
  {
   "cell_type": "code",
   "execution_count": 20,
   "metadata": {},
   "outputs": [
    {
     "data": {
      "text/html": [
       "<div>\n",
       "<style scoped>\n",
       "    .dataframe tbody tr th:only-of-type {\n",
       "        vertical-align: middle;\n",
       "    }\n",
       "\n",
       "    .dataframe tbody tr th {\n",
       "        vertical-align: top;\n",
       "    }\n",
       "\n",
       "    .dataframe thead th {\n",
       "        text-align: right;\n",
       "    }\n",
       "</style>\n",
       "<table border=\"1\" class=\"dataframe\">\n",
       "  <thead>\n",
       "    <tr style=\"text-align: right;\">\n",
       "      <th></th>\n",
       "      <th>FIPS Code</th>\n",
       "      <th>Geography</th>\n",
       "      <th>Year</th>\n",
       "      <th>Program Type</th>\n",
       "      <th>Population</th>\n",
       "    </tr>\n",
       "  </thead>\n",
       "  <tbody>\n",
       "    <tr>\n",
       "      <th>64</th>\n",
       "      <td>36001</td>\n",
       "      <td>Albany County</td>\n",
       "      <td>2018</td>\n",
       "      <td>Postcensal Population Estimate</td>\n",
       "      <td>306,585</td>\n",
       "    </tr>\n",
       "    <tr>\n",
       "      <th>65</th>\n",
       "      <td>36003</td>\n",
       "      <td>Allegany County</td>\n",
       "      <td>2018</td>\n",
       "      <td>Postcensal Population Estimate</td>\n",
       "      <td>46,332</td>\n",
       "    </tr>\n",
       "    <tr>\n",
       "      <th>66</th>\n",
       "      <td>36005</td>\n",
       "      <td>Bronx County</td>\n",
       "      <td>2018</td>\n",
       "      <td>Postcensal Population Estimate</td>\n",
       "      <td>1,432,087</td>\n",
       "    </tr>\n",
       "    <tr>\n",
       "      <th>67</th>\n",
       "      <td>36007</td>\n",
       "      <td>Broome County</td>\n",
       "      <td>2018</td>\n",
       "      <td>Postcensal Population Estimate</td>\n",
       "      <td>191,925</td>\n",
       "    </tr>\n",
       "    <tr>\n",
       "      <th>68</th>\n",
       "      <td>36009</td>\n",
       "      <td>Cattaraugus County</td>\n",
       "      <td>2018</td>\n",
       "      <td>Postcensal Population Estimate</td>\n",
       "      <td>76,726</td>\n",
       "    </tr>\n",
       "  </tbody>\n",
       "</table>\n",
       "</div>"
      ],
      "text/plain": [
       "    FIPS Code           Geography  Year                    Program Type  \\\n",
       "64      36001       Albany County  2018  Postcensal Population Estimate   \n",
       "65      36003     Allegany County  2018  Postcensal Population Estimate   \n",
       "66      36005        Bronx County  2018  Postcensal Population Estimate   \n",
       "67      36007       Broome County  2018  Postcensal Population Estimate   \n",
       "68      36009  Cattaraugus County  2018  Postcensal Population Estimate   \n",
       "\n",
       "   Population  \n",
       "64    306,585  \n",
       "65     46,332  \n",
       "66  1,432,087  \n",
       "67    191,925  \n",
       "68     76,726  "
      ]
     },
     "execution_count": 20,
     "metadata": {},
     "output_type": "execute_result"
    }
   ],
   "source": [
    "population_c.head()"
   ]
  },
  {
   "cell_type": "code",
   "execution_count": 21,
   "metadata": {},
   "outputs": [],
   "source": [
    "# extract just the poulation\n",
    "population_ce = population_c[\"Population\"]\n",
    "population_ce.reset_index(drop=True,inplace=True) \n",
    "# included drop and inplace option to get rid of \n",
    "# original index"
   ]
  },
  {
   "cell_type": "code",
   "execution_count": 22,
   "metadata": {},
   "outputs": [
    {
     "data": {
      "text/html": [
       "<div>\n",
       "<style scoped>\n",
       "    .dataframe tbody tr th:only-of-type {\n",
       "        vertical-align: middle;\n",
       "    }\n",
       "\n",
       "    .dataframe tbody tr th {\n",
       "        vertical-align: top;\n",
       "    }\n",
       "\n",
       "    .dataframe thead th {\n",
       "        text-align: right;\n",
       "    }\n",
       "</style>\n",
       "<table border=\"1\" class=\"dataframe\">\n",
       "  <thead>\n",
       "    <tr style=\"text-align: right;\">\n",
       "      <th></th>\n",
       "      <th>Total Arrests</th>\n",
       "      <th>White</th>\n",
       "      <th>Black</th>\n",
       "      <th>Hispanic</th>\n",
       "      <th>Asian</th>\n",
       "      <th>Other-Unknown</th>\n",
       "      <th>Unnamed: 2</th>\n",
       "      <th>County</th>\n",
       "      <th>Population</th>\n",
       "    </tr>\n",
       "  </thead>\n",
       "  <tbody>\n",
       "    <tr>\n",
       "      <th>0</th>\n",
       "      <td>7132</td>\n",
       "      <td>3242</td>\n",
       "      <td>3035</td>\n",
       "      <td>630</td>\n",
       "      <td>75</td>\n",
       "      <td>150</td>\n",
       "      <td>Total Arrests</td>\n",
       "      <td>[Albany]</td>\n",
       "      <td>306,585</td>\n",
       "    </tr>\n",
       "    <tr>\n",
       "      <th>1</th>\n",
       "      <td>830</td>\n",
       "      <td>755</td>\n",
       "      <td>55</td>\n",
       "      <td>12</td>\n",
       "      <td>3</td>\n",
       "      <td>5</td>\n",
       "      <td>Total Arrests</td>\n",
       "      <td>[Allegany]</td>\n",
       "      <td>46,332</td>\n",
       "    </tr>\n",
       "    <tr>\n",
       "      <th>2</th>\n",
       "      <td>47413</td>\n",
       "      <td>1781</td>\n",
       "      <td>21437</td>\n",
       "      <td>23196</td>\n",
       "      <td>618</td>\n",
       "      <td>381</td>\n",
       "      <td>Total Arrests</td>\n",
       "      <td>[Bronx]</td>\n",
       "      <td>1,432,087</td>\n",
       "    </tr>\n",
       "    <tr>\n",
       "      <th>3</th>\n",
       "      <td>5091</td>\n",
       "      <td>3396</td>\n",
       "      <td>1236</td>\n",
       "      <td>363</td>\n",
       "      <td>45</td>\n",
       "      <td>51</td>\n",
       "      <td>Total Arrests</td>\n",
       "      <td>[Broome]</td>\n",
       "      <td>191,925</td>\n",
       "    </tr>\n",
       "    <tr>\n",
       "      <th>4</th>\n",
       "      <td>1697</td>\n",
       "      <td>1318</td>\n",
       "      <td>150</td>\n",
       "      <td>36</td>\n",
       "      <td>10</td>\n",
       "      <td>183</td>\n",
       "      <td>Total Arrests</td>\n",
       "      <td>[Cattaraugus]</td>\n",
       "      <td>76,726</td>\n",
       "    </tr>\n",
       "    <tr>\n",
       "      <th>...</th>\n",
       "      <td>...</td>\n",
       "      <td>...</td>\n",
       "      <td>...</td>\n",
       "      <td>...</td>\n",
       "      <td>...</td>\n",
       "      <td>...</td>\n",
       "      <td>...</td>\n",
       "      <td>...</td>\n",
       "      <td>...</td>\n",
       "    </tr>\n",
       "    <tr>\n",
       "      <th>57</th>\n",
       "      <td>1288</td>\n",
       "      <td>1145</td>\n",
       "      <td>87</td>\n",
       "      <td>45</td>\n",
       "      <td>2</td>\n",
       "      <td>9</td>\n",
       "      <td>Total Arrests</td>\n",
       "      <td>[Washington]</td>\n",
       "      <td>61,274</td>\n",
       "    </tr>\n",
       "    <tr>\n",
       "      <th>58</th>\n",
       "      <td>1527</td>\n",
       "      <td>1167</td>\n",
       "      <td>268</td>\n",
       "      <td>77</td>\n",
       "      <td>1</td>\n",
       "      <td>14</td>\n",
       "      <td>Total Arrests</td>\n",
       "      <td>[Wayne]</td>\n",
       "      <td>90,200</td>\n",
       "    </tr>\n",
       "    <tr>\n",
       "      <th>59</th>\n",
       "      <td>13265</td>\n",
       "      <td>3096</td>\n",
       "      <td>5618</td>\n",
       "      <td>4164</td>\n",
       "      <td>112</td>\n",
       "      <td>275</td>\n",
       "      <td>Total Arrests</td>\n",
       "      <td>[Westchester]</td>\n",
       "      <td>968,213</td>\n",
       "    </tr>\n",
       "    <tr>\n",
       "      <th>60</th>\n",
       "      <td>821</td>\n",
       "      <td>671</td>\n",
       "      <td>112</td>\n",
       "      <td>29</td>\n",
       "      <td>3</td>\n",
       "      <td>6</td>\n",
       "      <td>Total Arrests</td>\n",
       "      <td>[Wyoming]</td>\n",
       "      <td>40,023</td>\n",
       "    </tr>\n",
       "    <tr>\n",
       "      <th>61</th>\n",
       "      <td>319</td>\n",
       "      <td>300</td>\n",
       "      <td>9</td>\n",
       "      <td>8</td>\n",
       "      <td>0</td>\n",
       "      <td>2</td>\n",
       "      <td>Total Arrests</td>\n",
       "      <td>[Yates]</td>\n",
       "      <td>24,951</td>\n",
       "    </tr>\n",
       "  </tbody>\n",
       "</table>\n",
       "<p>62 rows × 9 columns</p>\n",
       "</div>"
      ],
      "text/plain": [
       "   Total Arrests White  Black Hispanic Asian Other-Unknown     Unnamed: 2  \\\n",
       "0           7132  3242   3035      630    75           150  Total Arrests   \n",
       "1            830   755     55       12     3             5  Total Arrests   \n",
       "2          47413  1781  21437    23196   618           381  Total Arrests   \n",
       "3           5091  3396   1236      363    45            51  Total Arrests   \n",
       "4           1697  1318    150       36    10           183  Total Arrests   \n",
       "..           ...   ...    ...      ...   ...           ...            ...   \n",
       "57          1288  1145     87       45     2             9  Total Arrests   \n",
       "58          1527  1167    268       77     1            14  Total Arrests   \n",
       "59         13265  3096   5618     4164   112           275  Total Arrests   \n",
       "60           821   671    112       29     3             6  Total Arrests   \n",
       "61           319   300      9        8     0             2  Total Arrests   \n",
       "\n",
       "           County Population  \n",
       "0        [Albany]    306,585  \n",
       "1      [Allegany]     46,332  \n",
       "2         [Bronx]  1,432,087  \n",
       "3        [Broome]    191,925  \n",
       "4   [Cattaraugus]     76,726  \n",
       "..            ...        ...  \n",
       "57   [Washington]     61,274  \n",
       "58        [Wayne]     90,200  \n",
       "59  [Westchester]    968,213  \n",
       "60      [Wyoming]     40,023  \n",
       "61        [Yates]     24,951  \n",
       "\n",
       "[62 rows x 9 columns]"
      ]
     },
     "execution_count": 22,
     "metadata": {},
     "output_type": "execute_result"
    }
   ],
   "source": [
    "# combine the population with the original table\n",
    "df2 = pd.concat([df,population_ce], axis=1)\n",
    "df2"
   ]
  },
  {
   "cell_type": "code",
   "execution_count": 23,
   "metadata": {},
   "outputs": [
    {
     "data": {
      "text/html": [
       "<div>\n",
       "<style scoped>\n",
       "    .dataframe tbody tr th:only-of-type {\n",
       "        vertical-align: middle;\n",
       "    }\n",
       "\n",
       "    .dataframe tbody tr th {\n",
       "        vertical-align: top;\n",
       "    }\n",
       "\n",
       "    .dataframe thead th {\n",
       "        text-align: right;\n",
       "    }\n",
       "</style>\n",
       "<table border=\"1\" class=\"dataframe\">\n",
       "  <thead>\n",
       "    <tr style=\"text-align: right;\">\n",
       "      <th></th>\n",
       "      <th>Total Arrests</th>\n",
       "      <th>White</th>\n",
       "      <th>Black</th>\n",
       "      <th>Hispanic</th>\n",
       "      <th>Asian</th>\n",
       "      <th>Other-Unknown</th>\n",
       "      <th>Unnamed: 2</th>\n",
       "      <th>County</th>\n",
       "      <th>Population</th>\n",
       "      <th>%blackarrest</th>\n",
       "      <th>%whitearrest</th>\n",
       "      <th>%hisparrest</th>\n",
       "      <th>%asianarrest</th>\n",
       "    </tr>\n",
       "  </thead>\n",
       "  <tbody>\n",
       "    <tr>\n",
       "      <th>0</th>\n",
       "      <td>7132</td>\n",
       "      <td>3242</td>\n",
       "      <td>3035</td>\n",
       "      <td>630</td>\n",
       "      <td>75</td>\n",
       "      <td>150</td>\n",
       "      <td>Total Arrests</td>\n",
       "      <td>[Albany]</td>\n",
       "      <td>306,585</td>\n",
       "      <td>42.5547</td>\n",
       "      <td>45.4571</td>\n",
       "      <td>8.83343</td>\n",
       "      <td>1.0516</td>\n",
       "    </tr>\n",
       "    <tr>\n",
       "      <th>1</th>\n",
       "      <td>830</td>\n",
       "      <td>755</td>\n",
       "      <td>55</td>\n",
       "      <td>12</td>\n",
       "      <td>3</td>\n",
       "      <td>5</td>\n",
       "      <td>Total Arrests</td>\n",
       "      <td>[Allegany]</td>\n",
       "      <td>46,332</td>\n",
       "      <td>6.62651</td>\n",
       "      <td>90.9639</td>\n",
       "      <td>1.44578</td>\n",
       "      <td>0.361446</td>\n",
       "    </tr>\n",
       "    <tr>\n",
       "      <th>2</th>\n",
       "      <td>47413</td>\n",
       "      <td>1781</td>\n",
       "      <td>21437</td>\n",
       "      <td>23196</td>\n",
       "      <td>618</td>\n",
       "      <td>381</td>\n",
       "      <td>Total Arrests</td>\n",
       "      <td>[Bronx]</td>\n",
       "      <td>1,432,087</td>\n",
       "      <td>45.2133</td>\n",
       "      <td>3.75635</td>\n",
       "      <td>48.9233</td>\n",
       "      <td>1.30344</td>\n",
       "    </tr>\n",
       "    <tr>\n",
       "      <th>3</th>\n",
       "      <td>5091</td>\n",
       "      <td>3396</td>\n",
       "      <td>1236</td>\n",
       "      <td>363</td>\n",
       "      <td>45</td>\n",
       "      <td>51</td>\n",
       "      <td>Total Arrests</td>\n",
       "      <td>[Broome]</td>\n",
       "      <td>191,925</td>\n",
       "      <td>24.2781</td>\n",
       "      <td>66.706</td>\n",
       "      <td>7.13023</td>\n",
       "      <td>0.883913</td>\n",
       "    </tr>\n",
       "    <tr>\n",
       "      <th>4</th>\n",
       "      <td>1697</td>\n",
       "      <td>1318</td>\n",
       "      <td>150</td>\n",
       "      <td>36</td>\n",
       "      <td>10</td>\n",
       "      <td>183</td>\n",
       "      <td>Total Arrests</td>\n",
       "      <td>[Cattaraugus]</td>\n",
       "      <td>76,726</td>\n",
       "      <td>8.83913</td>\n",
       "      <td>77.6665</td>\n",
       "      <td>2.12139</td>\n",
       "      <td>0.589275</td>\n",
       "    </tr>\n",
       "  </tbody>\n",
       "</table>\n",
       "</div>"
      ],
      "text/plain": [
       "  Total Arrests White  Black Hispanic Asian Other-Unknown     Unnamed: 2  \\\n",
       "0          7132  3242   3035      630    75           150  Total Arrests   \n",
       "1           830   755     55       12     3             5  Total Arrests   \n",
       "2         47413  1781  21437    23196   618           381  Total Arrests   \n",
       "3          5091  3396   1236      363    45            51  Total Arrests   \n",
       "4          1697  1318    150       36    10           183  Total Arrests   \n",
       "\n",
       "          County Population %blackarrest %whitearrest %hisparrest %asianarrest  \n",
       "0       [Albany]    306,585      42.5547      45.4571     8.83343       1.0516  \n",
       "1     [Allegany]     46,332      6.62651      90.9639     1.44578     0.361446  \n",
       "2        [Bronx]  1,432,087      45.2133      3.75635     48.9233      1.30344  \n",
       "3       [Broome]    191,925      24.2781       66.706     7.13023     0.883913  \n",
       "4  [Cattaraugus]     76,726      8.83913      77.6665     2.12139     0.589275  "
      ]
     },
     "execution_count": 23,
     "metadata": {},
     "output_type": "execute_result"
    }
   ],
   "source": [
    "# Calculate the percentage of arrest for each race\n",
    "df2['%blackarrest'] = df2['Black']/df2['Total Arrests']*100\n",
    "df2['%whitearrest'] = df2['White']/df2['Total Arrests']*100\n",
    "df2['%hisparrest'] = df2['Hispanic']/df2['Total Arrests']*100\n",
    "df2['%asianarrest'] = df2['Asian']/df2['Total Arrests']*100\n",
    "df2.head()"
   ]
  },
  {
   "cell_type": "markdown",
   "metadata": {},
   "source": [
    "Race demographic data was obtained from here:\n",
    "\n",
    "https://labor.ny.gov/stats/nys/statewide-population-data.shtm"
   ]
  },
  {
   "cell_type": "code",
   "execution_count": 24,
   "metadata": {},
   "outputs": [],
   "source": [
    "# get race percentage from the 2010 cencus data \n",
    "# Assuming it's similar in 2018\n",
    "# using \"requests\" because urllib didn't work\n",
    "\n",
    "import requests\n",
    "url3 = 'https://labor.ny.gov/stats/nys/PopCompare-Race-Ethnicity-2000-2010.xls'\n",
    "\n",
    "\n",
    "r = requests.get(url3)\n",
    "output = open('demographic.xls', 'wb')\n",
    "output.write(r.content)\n",
    "output.close() \n"
   ]
  },
  {
   "cell_type": "code",
   "execution_count": 25,
   "metadata": {},
   "outputs": [
    {
     "data": {
      "text/html": [
       "<div>\n",
       "<style scoped>\n",
       "    .dataframe tbody tr th:only-of-type {\n",
       "        vertical-align: middle;\n",
       "    }\n",
       "\n",
       "    .dataframe tbody tr th {\n",
       "        vertical-align: top;\n",
       "    }\n",
       "\n",
       "    .dataframe thead th {\n",
       "        text-align: right;\n",
       "    }\n",
       "</style>\n",
       "<table border=\"1\" class=\"dataframe\">\n",
       "  <thead>\n",
       "    <tr style=\"text-align: right;\">\n",
       "      <th></th>\n",
       "      <th>Area</th>\n",
       "      <th>% White*.1</th>\n",
       "      <th>% Black* .1</th>\n",
       "      <th>% Asian* .1</th>\n",
       "      <th>% Hispanic</th>\n",
       "    </tr>\n",
       "  </thead>\n",
       "  <tbody>\n",
       "    <tr>\n",
       "      <th>0</th>\n",
       "      <td>New York State</td>\n",
       "      <td>0.583000</td>\n",
       "      <td>0.144000</td>\n",
       "      <td>0.073000</td>\n",
       "      <td>0.176000</td>\n",
       "    </tr>\n",
       "    <tr>\n",
       "      <th>1</th>\n",
       "      <td>Downstate (10 county)</td>\n",
       "      <td>0.444668</td>\n",
       "      <td>0.183366</td>\n",
       "      <td>0.101227</td>\n",
       "      <td>0.246201</td>\n",
       "    </tr>\n",
       "    <tr>\n",
       "      <th>2</th>\n",
       "      <td>Upstate (52 county)</td>\n",
       "      <td>0.828062</td>\n",
       "      <td>0.073597</td>\n",
       "      <td>0.021994</td>\n",
       "      <td>0.053038</td>\n",
       "    </tr>\n",
       "    <tr>\n",
       "      <th>3</th>\n",
       "      <td>Capital</td>\n",
       "      <td>0.844021</td>\n",
       "      <td>0.065007</td>\n",
       "      <td>0.026737</td>\n",
       "      <td>0.039473</td>\n",
       "    </tr>\n",
       "    <tr>\n",
       "      <th>4</th>\n",
       "      <td>Albany</td>\n",
       "      <td>0.759859</td>\n",
       "      <td>0.119643</td>\n",
       "      <td>0.047665</td>\n",
       "      <td>0.049036</td>\n",
       "    </tr>\n",
       "  </tbody>\n",
       "</table>\n",
       "</div>"
      ],
      "text/plain": [
       "                    Area  % White*.1  % Black* .1  % Asian* .1  % Hispanic \n",
       "0         New York State    0.583000     0.144000     0.073000     0.176000\n",
       "1  Downstate (10 county)    0.444668     0.183366     0.101227     0.246201\n",
       "2    Upstate (52 county)    0.828062     0.073597     0.021994     0.053038\n",
       "3                Capital    0.844021     0.065007     0.026737     0.039473\n",
       "4                Albany     0.759859     0.119643     0.047665     0.049036"
      ]
     },
     "execution_count": 25,
     "metadata": {},
     "output_type": "execute_result"
    }
   ],
   "source": [
    "demographic = pd.read_excel('demographic.xls',skiprows = 4, usecols = \"A,J:M\")\n",
    "demographic.head()"
   ]
  },
  {
   "cell_type": "markdown",
   "metadata": {},
   "source": [
    "## Cleaning up race demographic data"
   ]
  },
  {
   "cell_type": "code",
   "execution_count": 26,
   "metadata": {},
   "outputs": [
    {
     "data": {
      "text/html": [
       "<div>\n",
       "<style scoped>\n",
       "    .dataframe tbody tr th:only-of-type {\n",
       "        vertical-align: middle;\n",
       "    }\n",
       "\n",
       "    .dataframe tbody tr th {\n",
       "        vertical-align: top;\n",
       "    }\n",
       "\n",
       "    .dataframe thead th {\n",
       "        text-align: right;\n",
       "    }\n",
       "</style>\n",
       "<table border=\"1\" class=\"dataframe\">\n",
       "  <thead>\n",
       "    <tr style=\"text-align: right;\">\n",
       "      <th></th>\n",
       "      <th>Area</th>\n",
       "      <th>%White</th>\n",
       "      <th>%Black</th>\n",
       "      <th>%Asian</th>\n",
       "      <th>%Hispanic</th>\n",
       "    </tr>\n",
       "  </thead>\n",
       "  <tbody>\n",
       "    <tr>\n",
       "      <th>0</th>\n",
       "      <td>Albany</td>\n",
       "      <td>0.759859</td>\n",
       "      <td>0.119643</td>\n",
       "      <td>0.047665</td>\n",
       "      <td>0.049036</td>\n",
       "    </tr>\n",
       "    <tr>\n",
       "      <th>1</th>\n",
       "      <td>Columbia</td>\n",
       "      <td>0.882338</td>\n",
       "      <td>0.042649</td>\n",
       "      <td>0.015817</td>\n",
       "      <td>0.038893</td>\n",
       "    </tr>\n",
       "    <tr>\n",
       "      <th>2</th>\n",
       "      <td>Greene</td>\n",
       "      <td>0.870706</td>\n",
       "      <td>0.052945</td>\n",
       "      <td>0.007761</td>\n",
       "      <td>0.049146</td>\n",
       "    </tr>\n",
       "    <tr>\n",
       "      <th>3</th>\n",
       "      <td>Rensselaer</td>\n",
       "      <td>0.856525</td>\n",
       "      <td>0.060165</td>\n",
       "      <td>0.021759</td>\n",
       "      <td>0.038136</td>\n",
       "    </tr>\n",
       "    <tr>\n",
       "      <th>4</th>\n",
       "      <td>Saratoga</td>\n",
       "      <td>0.927325</td>\n",
       "      <td>0.013902</td>\n",
       "      <td>0.017668</td>\n",
       "      <td>0.024038</td>\n",
       "    </tr>\n",
       "    <tr>\n",
       "      <th>5</th>\n",
       "      <td>Schenectady</td>\n",
       "      <td>0.771740</td>\n",
       "      <td>0.087431</td>\n",
       "      <td>0.031779</td>\n",
       "      <td>0.057049</td>\n",
       "    </tr>\n",
       "    <tr>\n",
       "      <th>6</th>\n",
       "      <td>Warren</td>\n",
       "      <td>0.952486</td>\n",
       "      <td>0.008462</td>\n",
       "      <td>0.006833</td>\n",
       "      <td>0.017928</td>\n",
       "    </tr>\n",
       "    <tr>\n",
       "      <th>7</th>\n",
       "      <td>Washington</td>\n",
       "      <td>0.933245</td>\n",
       "      <td>0.027430</td>\n",
       "      <td>0.004113</td>\n",
       "      <td>0.022874</td>\n",
       "    </tr>\n",
       "  </tbody>\n",
       "</table>\n",
       "</div>"
      ],
      "text/plain": [
       "           Area    %White    %Black    %Asian  %Hispanic\n",
       "0       Albany   0.759859  0.119643  0.047665   0.049036\n",
       "1     Columbia   0.882338  0.042649  0.015817   0.038893\n",
       "2       Greene   0.870706  0.052945  0.007761   0.049146\n",
       "3   Rensselaer   0.856525  0.060165  0.021759   0.038136\n",
       "4     Saratoga   0.927325  0.013902  0.017668   0.024038\n",
       "5  Schenectady   0.771740  0.087431  0.031779   0.057049\n",
       "6       Warren   0.952486  0.008462  0.006833   0.017928\n",
       "7   Washington   0.933245  0.027430  0.004113   0.022874"
      ]
     },
     "execution_count": 26,
     "metadata": {},
     "output_type": "execute_result"
    }
   ],
   "source": [
    "# extract\n",
    "chunk1 = demographic.iloc[4:12]\n",
    "\n",
    "\n",
    "chunk1.reset_index(drop=True,inplace=True) \n",
    "# included drop and inplace option to get rid of \n",
    "# original index\n",
    "chunk1.columns = ['Area','%White','%Black','%Asian','%Hispanic']\n",
    "\n",
    "chunk1"
   ]
  },
  {
   "cell_type": "code",
   "execution_count": 27,
   "metadata": {},
   "outputs": [
    {
     "data": {
      "text/html": [
       "<div>\n",
       "<style scoped>\n",
       "    .dataframe tbody tr th:only-of-type {\n",
       "        vertical-align: middle;\n",
       "    }\n",
       "\n",
       "    .dataframe tbody tr th {\n",
       "        vertical-align: top;\n",
       "    }\n",
       "\n",
       "    .dataframe thead th {\n",
       "        text-align: right;\n",
       "    }\n",
       "</style>\n",
       "<table border=\"1\" class=\"dataframe\">\n",
       "  <thead>\n",
       "    <tr style=\"text-align: right;\">\n",
       "      <th></th>\n",
       "      <th>Area</th>\n",
       "      <th>%White</th>\n",
       "      <th>%Black</th>\n",
       "      <th>%Asian</th>\n",
       "      <th>%Hispanic</th>\n",
       "    </tr>\n",
       "  </thead>\n",
       "  <tbody>\n",
       "    <tr>\n",
       "      <th>0</th>\n",
       "      <td>Cayuga</td>\n",
       "      <td>0.913428</td>\n",
       "      <td>0.037600</td>\n",
       "      <td>0.004836</td>\n",
       "      <td>0.023692</td>\n",
       "    </tr>\n",
       "    <tr>\n",
       "      <th>1</th>\n",
       "      <td>Cortland</td>\n",
       "      <td>0.937490</td>\n",
       "      <td>0.014290</td>\n",
       "      <td>0.008351</td>\n",
       "      <td>0.022174</td>\n",
       "    </tr>\n",
       "    <tr>\n",
       "      <th>2</th>\n",
       "      <td>Madison</td>\n",
       "      <td>0.938373</td>\n",
       "      <td>0.017156</td>\n",
       "      <td>0.007843</td>\n",
       "      <td>0.017919</td>\n",
       "    </tr>\n",
       "    <tr>\n",
       "      <th>3</th>\n",
       "      <td>Onondaga</td>\n",
       "      <td>0.792333</td>\n",
       "      <td>0.104268</td>\n",
       "      <td>0.030769</td>\n",
       "      <td>0.040317</td>\n",
       "    </tr>\n",
       "    <tr>\n",
       "      <th>4</th>\n",
       "      <td>Oswego</td>\n",
       "      <td>0.950716</td>\n",
       "      <td>0.007059</td>\n",
       "      <td>0.005806</td>\n",
       "      <td>0.020899</td>\n",
       "    </tr>\n",
       "  </tbody>\n",
       "</table>\n",
       "</div>"
      ],
      "text/plain": [
       "        Area    %White    %Black    %Asian  %Hispanic\n",
       "0    Cayuga   0.913428  0.037600  0.004836   0.023692\n",
       "1  Cortland   0.937490  0.014290  0.008351   0.022174\n",
       "2   Madison   0.938373  0.017156  0.007843   0.017919\n",
       "3  Onondaga   0.792333  0.104268  0.030769   0.040317\n",
       "4    Oswego   0.950716  0.007059  0.005806   0.020899"
      ]
     },
     "execution_count": 27,
     "metadata": {},
     "output_type": "execute_result"
    }
   ],
   "source": [
    "# extract\n",
    "chunk2 = demographic.iloc[13:18]\n",
    "\n",
    "\n",
    "chunk2.reset_index(drop=True,inplace=True) \n",
    "# included drop and inplace option to get rid of \n",
    "# original index\n",
    "chunk2.columns = ['Area','%White','%Black','%Asian','%Hispanic']\n",
    "\n",
    "chunk2"
   ]
  },
  {
   "cell_type": "code",
   "execution_count": 28,
   "metadata": {},
   "outputs": [
    {
     "data": {
      "text/html": [
       "<div>\n",
       "<style scoped>\n",
       "    .dataframe tbody tr th:only-of-type {\n",
       "        vertical-align: middle;\n",
       "    }\n",
       "\n",
       "    .dataframe tbody tr th {\n",
       "        vertical-align: top;\n",
       "    }\n",
       "\n",
       "    .dataframe thead th {\n",
       "        text-align: right;\n",
       "    }\n",
       "</style>\n",
       "<table border=\"1\" class=\"dataframe\">\n",
       "  <thead>\n",
       "    <tr style=\"text-align: right;\">\n",
       "      <th></th>\n",
       "      <th>Area</th>\n",
       "      <th>%White</th>\n",
       "      <th>%Black</th>\n",
       "      <th>%Asian</th>\n",
       "      <th>%Hispanic</th>\n",
       "    </tr>\n",
       "  </thead>\n",
       "  <tbody>\n",
       "    <tr>\n",
       "      <th>0</th>\n",
       "      <td>Genesee</td>\n",
       "      <td>0.915295</td>\n",
       "      <td>0.024817</td>\n",
       "      <td>0.005909</td>\n",
       "      <td>0.026898</td>\n",
       "    </tr>\n",
       "    <tr>\n",
       "      <th>1</th>\n",
       "      <td>Livingston</td>\n",
       "      <td>0.922056</td>\n",
       "      <td>0.022801</td>\n",
       "      <td>0.011928</td>\n",
       "      <td>0.027556</td>\n",
       "    </tr>\n",
       "    <tr>\n",
       "      <th>2</th>\n",
       "      <td>Monroe</td>\n",
       "      <td>0.728204</td>\n",
       "      <td>0.144353</td>\n",
       "      <td>0.032274</td>\n",
       "      <td>0.072554</td>\n",
       "    </tr>\n",
       "    <tr>\n",
       "      <th>3</th>\n",
       "      <td>Ontario</td>\n",
       "      <td>0.918355</td>\n",
       "      <td>0.020624</td>\n",
       "      <td>0.010294</td>\n",
       "      <td>0.034087</td>\n",
       "    </tr>\n",
       "    <tr>\n",
       "      <th>4</th>\n",
       "      <td>Orleans</td>\n",
       "      <td>0.878157</td>\n",
       "      <td>0.055220</td>\n",
       "      <td>0.004034</td>\n",
       "      <td>0.040972</td>\n",
       "    </tr>\n",
       "    <tr>\n",
       "      <th>5</th>\n",
       "      <td>Seneca</td>\n",
       "      <td>0.907747</td>\n",
       "      <td>0.042921</td>\n",
       "      <td>0.006752</td>\n",
       "      <td>0.027006</td>\n",
       "    </tr>\n",
       "    <tr>\n",
       "      <th>6</th>\n",
       "      <td>Wayne</td>\n",
       "      <td>0.909845</td>\n",
       "      <td>0.029252</td>\n",
       "      <td>0.004959</td>\n",
       "      <td>0.037069</td>\n",
       "    </tr>\n",
       "    <tr>\n",
       "      <th>7</th>\n",
       "      <td>Wyoming</td>\n",
       "      <td>0.902432</td>\n",
       "      <td>0.052971</td>\n",
       "      <td>0.003701</td>\n",
       "      <td>0.029510</td>\n",
       "    </tr>\n",
       "    <tr>\n",
       "      <th>8</th>\n",
       "      <td>Yates</td>\n",
       "      <td>0.961457</td>\n",
       "      <td>0.007732</td>\n",
       "      <td>0.003787</td>\n",
       "      <td>0.016609</td>\n",
       "    </tr>\n",
       "  </tbody>\n",
       "</table>\n",
       "</div>"
      ],
      "text/plain": [
       "          Area    %White    %Black    %Asian  %Hispanic\n",
       "0     Genesee   0.915295  0.024817  0.005909   0.026898\n",
       "1  Livingston   0.922056  0.022801  0.011928   0.027556\n",
       "2      Monroe   0.728204  0.144353  0.032274   0.072554\n",
       "3     Ontario   0.918355  0.020624  0.010294   0.034087\n",
       "4     Orleans   0.878157  0.055220  0.004034   0.040972\n",
       "5      Seneca   0.907747  0.042921  0.006752   0.027006\n",
       "6       Wayne   0.909845  0.029252  0.004959   0.037069\n",
       "7     Wyoming   0.902432  0.052971  0.003701   0.029510\n",
       "8       Yates   0.961457  0.007732  0.003787   0.016609"
      ]
     },
     "execution_count": 28,
     "metadata": {},
     "output_type": "execute_result"
    }
   ],
   "source": [
    "# extract\n",
    "chunk3 = demographic.iloc[19:28]\n",
    "\n",
    "\n",
    "chunk3.reset_index(drop=True,inplace=True) \n",
    "# included drop and inplace option to get rid of \n",
    "# original index\n",
    "chunk3.columns = ['Area','%White','%Black','%Asian','%Hispanic']\n",
    "\n",
    "chunk3"
   ]
  },
  {
   "cell_type": "code",
   "execution_count": 29,
   "metadata": {},
   "outputs": [
    {
     "data": {
      "text/html": [
       "<div>\n",
       "<style scoped>\n",
       "    .dataframe tbody tr th:only-of-type {\n",
       "        vertical-align: middle;\n",
       "    }\n",
       "\n",
       "    .dataframe tbody tr th {\n",
       "        vertical-align: top;\n",
       "    }\n",
       "\n",
       "    .dataframe thead th {\n",
       "        text-align: right;\n",
       "    }\n",
       "</style>\n",
       "<table border=\"1\" class=\"dataframe\">\n",
       "  <thead>\n",
       "    <tr style=\"text-align: right;\">\n",
       "      <th></th>\n",
       "      <th>Area</th>\n",
       "      <th>%White</th>\n",
       "      <th>%Black</th>\n",
       "      <th>%Asian</th>\n",
       "      <th>%Hispanic</th>\n",
       "    </tr>\n",
       "  </thead>\n",
       "  <tbody>\n",
       "  </tbody>\n",
       "</table>\n",
       "</div>"
      ],
      "text/plain": [
       "Empty DataFrame\n",
       "Columns: [Area, %White, %Black, %Asian, %Hispanic]\n",
       "Index: []"
      ]
     },
     "execution_count": 29,
     "metadata": {},
     "output_type": "execute_result"
    }
   ],
   "source": [
    "# extract\n",
    "chunk4 = demographic.iloc[30:28]\n",
    "\n",
    "\n",
    "chunk4.reset_index(drop=True,inplace=True) \n",
    "# included drop and inplace option to get rid of \n",
    "# original index\n",
    "chunk4.columns = ['Area','%White','%Black','%Asian','%Hispanic']\n",
    "\n",
    "chunk4"
   ]
  },
  {
   "cell_type": "code",
   "execution_count": 30,
   "metadata": {},
   "outputs": [
    {
     "data": {
      "text/html": [
       "<div>\n",
       "<style scoped>\n",
       "    .dataframe tbody tr th:only-of-type {\n",
       "        vertical-align: middle;\n",
       "    }\n",
       "\n",
       "    .dataframe tbody tr th {\n",
       "        vertical-align: top;\n",
       "    }\n",
       "\n",
       "    .dataframe thead th {\n",
       "        text-align: right;\n",
       "    }\n",
       "</style>\n",
       "<table border=\"1\" class=\"dataframe\">\n",
       "  <thead>\n",
       "    <tr style=\"text-align: right;\">\n",
       "      <th></th>\n",
       "      <th>Area</th>\n",
       "      <th>%White</th>\n",
       "      <th>%Black</th>\n",
       "      <th>%Asian</th>\n",
       "      <th>%Hispanic</th>\n",
       "    </tr>\n",
       "  </thead>\n",
       "  <tbody>\n",
       "    <tr>\n",
       "      <th>0</th>\n",
       "      <td>Dutchess</td>\n",
       "      <td>0.745617</td>\n",
       "      <td>0.092088</td>\n",
       "      <td>0.034724</td>\n",
       "      <td>0.105103</td>\n",
       "    </tr>\n",
       "    <tr>\n",
       "      <th>1</th>\n",
       "      <td>Orange</td>\n",
       "      <td>0.682001</td>\n",
       "      <td>0.090917</td>\n",
       "      <td>0.023296</td>\n",
       "      <td>0.180211</td>\n",
       "    </tr>\n",
       "    <tr>\n",
       "      <th>2</th>\n",
       "      <td>Putnam</td>\n",
       "      <td>0.829496</td>\n",
       "      <td>0.020530</td>\n",
       "      <td>0.018373</td>\n",
       "      <td>0.116949</td>\n",
       "    </tr>\n",
       "    <tr>\n",
       "      <th>3</th>\n",
       "      <td>Rockland</td>\n",
       "      <td>0.653444</td>\n",
       "      <td>0.111083</td>\n",
       "      <td>0.061276</td>\n",
       "      <td>0.156513</td>\n",
       "    </tr>\n",
       "    <tr>\n",
       "      <th>4</th>\n",
       "      <td>Sullivan</td>\n",
       "      <td>0.745097</td>\n",
       "      <td>0.081873</td>\n",
       "      <td>0.013321</td>\n",
       "      <td>0.136098</td>\n",
       "    </tr>\n",
       "    <tr>\n",
       "      <th>5</th>\n",
       "      <td>Ulster</td>\n",
       "      <td>0.817012</td>\n",
       "      <td>0.054698</td>\n",
       "      <td>0.016768</td>\n",
       "      <td>0.087176</td>\n",
       "    </tr>\n",
       "    <tr>\n",
       "      <th>6</th>\n",
       "      <td>Westchester</td>\n",
       "      <td>0.573760</td>\n",
       "      <td>0.133372</td>\n",
       "      <td>0.053864</td>\n",
       "      <td>0.218132</td>\n",
       "    </tr>\n",
       "  </tbody>\n",
       "</table>\n",
       "</div>"
      ],
      "text/plain": [
       "           Area    %White    %Black    %Asian  %Hispanic\n",
       "0     Dutchess   0.745617  0.092088  0.034724   0.105103\n",
       "1       Orange   0.682001  0.090917  0.023296   0.180211\n",
       "2       Putnam   0.829496  0.020530  0.018373   0.116949\n",
       "3     Rockland   0.653444  0.111083  0.061276   0.156513\n",
       "4     Sullivan   0.745097  0.081873  0.013321   0.136098\n",
       "5       Ulster   0.817012  0.054698  0.016768   0.087176\n",
       "6  Westchester   0.573760  0.133372  0.053864   0.218132"
      ]
     },
     "execution_count": 30,
     "metadata": {},
     "output_type": "execute_result"
    }
   ],
   "source": [
    "chunk4 = demographic.iloc[29:36]\n",
    "chunk4.reset_index(drop=True,inplace=True) \n",
    "chunk4.columns = ['Area','%White','%Black','%Asian','%Hispanic']\n",
    "chunk4"
   ]
  },
  {
   "cell_type": "code",
   "execution_count": 31,
   "metadata": {},
   "outputs": [
    {
     "data": {
      "text/html": [
       "<div>\n",
       "<style scoped>\n",
       "    .dataframe tbody tr th:only-of-type {\n",
       "        vertical-align: middle;\n",
       "    }\n",
       "\n",
       "    .dataframe tbody tr th {\n",
       "        vertical-align: top;\n",
       "    }\n",
       "\n",
       "    .dataframe thead th {\n",
       "        text-align: right;\n",
       "    }\n",
       "</style>\n",
       "<table border=\"1\" class=\"dataframe\">\n",
       "  <thead>\n",
       "    <tr style=\"text-align: right;\">\n",
       "      <th></th>\n",
       "      <th>Area</th>\n",
       "      <th>%White</th>\n",
       "      <th>%Black</th>\n",
       "      <th>%Asian</th>\n",
       "      <th>%Hispanic</th>\n",
       "    </tr>\n",
       "  </thead>\n",
       "  <tbody>\n",
       "    <tr>\n",
       "      <th>0</th>\n",
       "      <td>Nassau</td>\n",
       "      <td>0.654937</td>\n",
       "      <td>0.105488</td>\n",
       "      <td>0.075816</td>\n",
       "      <td>0.145838</td>\n",
       "    </tr>\n",
       "    <tr>\n",
       "      <th>1</th>\n",
       "      <td>Suffolk</td>\n",
       "      <td>0.715658</td>\n",
       "      <td>0.068381</td>\n",
       "      <td>0.033679</td>\n",
       "      <td>0.164890</td>\n",
       "    </tr>\n",
       "  </tbody>\n",
       "</table>\n",
       "</div>"
      ],
      "text/plain": [
       "       Area    %White    %Black    %Asian  %Hispanic\n",
       "0   Nassau   0.654937  0.105488  0.075816   0.145838\n",
       "1  Suffolk   0.715658  0.068381  0.033679   0.164890"
      ]
     },
     "execution_count": 31,
     "metadata": {},
     "output_type": "execute_result"
    }
   ],
   "source": [
    "chunk5 = demographic.iloc[37:39]\n",
    "chunk5.reset_index(drop=True,inplace=True) \n",
    "chunk5.columns = ['Area','%White','%Black','%Asian','%Hispanic']\n",
    "chunk5"
   ]
  },
  {
   "cell_type": "code",
   "execution_count": 32,
   "metadata": {},
   "outputs": [
    {
     "data": {
      "text/html": [
       "<div>\n",
       "<style scoped>\n",
       "    .dataframe tbody tr th:only-of-type {\n",
       "        vertical-align: middle;\n",
       "    }\n",
       "\n",
       "    .dataframe tbody tr th {\n",
       "        vertical-align: top;\n",
       "    }\n",
       "\n",
       "    .dataframe thead th {\n",
       "        text-align: right;\n",
       "    }\n",
       "</style>\n",
       "<table border=\"1\" class=\"dataframe\">\n",
       "  <thead>\n",
       "    <tr style=\"text-align: right;\">\n",
       "      <th></th>\n",
       "      <th>Area</th>\n",
       "      <th>%White</th>\n",
       "      <th>%Black</th>\n",
       "      <th>%Asian</th>\n",
       "      <th>%Hispanic</th>\n",
       "    </tr>\n",
       "  </thead>\n",
       "  <tbody>\n",
       "    <tr>\n",
       "      <th>0</th>\n",
       "      <td>Fulton</td>\n",
       "      <td>0.938395</td>\n",
       "      <td>0.017666</td>\n",
       "      <td>0.005763</td>\n",
       "      <td>0.022744</td>\n",
       "    </tr>\n",
       "    <tr>\n",
       "      <th>1</th>\n",
       "      <td>Herkimer</td>\n",
       "      <td>0.956152</td>\n",
       "      <td>0.009920</td>\n",
       "      <td>0.005037</td>\n",
       "      <td>0.016119</td>\n",
       "    </tr>\n",
       "    <tr>\n",
       "      <th>2</th>\n",
       "      <td>Montgomery</td>\n",
       "      <td>0.850913</td>\n",
       "      <td>0.014178</td>\n",
       "      <td>0.007089</td>\n",
       "      <td>0.112587</td>\n",
       "    </tr>\n",
       "    <tr>\n",
       "      <th>3</th>\n",
       "      <td>Oneida</td>\n",
       "      <td>0.848330</td>\n",
       "      <td>0.058252</td>\n",
       "      <td>0.027768</td>\n",
       "      <td>0.046062</td>\n",
       "    </tr>\n",
       "    <tr>\n",
       "      <th>4</th>\n",
       "      <td>Otsego</td>\n",
       "      <td>0.927320</td>\n",
       "      <td>0.015387</td>\n",
       "      <td>0.010601</td>\n",
       "      <td>0.030855</td>\n",
       "    </tr>\n",
       "    <tr>\n",
       "      <th>5</th>\n",
       "      <td>Schoharie</td>\n",
       "      <td>0.938716</td>\n",
       "      <td>0.012031</td>\n",
       "      <td>0.006626</td>\n",
       "      <td>0.028215</td>\n",
       "    </tr>\n",
       "  </tbody>\n",
       "</table>\n",
       "</div>"
      ],
      "text/plain": [
       "          Area    %White    %Black    %Asian  %Hispanic\n",
       "0      Fulton   0.938395  0.017666  0.005763   0.022744\n",
       "1    Herkimer   0.956152  0.009920  0.005037   0.016119\n",
       "2  Montgomery   0.850913  0.014178  0.007089   0.112587\n",
       "3      Oneida   0.848330  0.058252  0.027768   0.046062\n",
       "4      Otsego   0.927320  0.015387  0.010601   0.030855\n",
       "5   Schoharie   0.938716  0.012031  0.006626   0.028215"
      ]
     },
     "execution_count": 32,
     "metadata": {},
     "output_type": "execute_result"
    }
   ],
   "source": [
    "chunk6 = demographic.iloc[40:46]\n",
    "chunk6.reset_index(drop=True,inplace=True) \n",
    "chunk6.columns = ['Area','%White','%Black','%Asian','%Hispanic']\n",
    "chunk6"
   ]
  },
  {
   "cell_type": "code",
   "execution_count": 33,
   "metadata": {},
   "outputs": [
    {
     "data": {
      "text/html": [
       "<div>\n",
       "<style scoped>\n",
       "    .dataframe tbody tr th:only-of-type {\n",
       "        vertical-align: middle;\n",
       "    }\n",
       "\n",
       "    .dataframe tbody tr th {\n",
       "        vertical-align: top;\n",
       "    }\n",
       "\n",
       "    .dataframe thead th {\n",
       "        text-align: right;\n",
       "    }\n",
       "</style>\n",
       "<table border=\"1\" class=\"dataframe\">\n",
       "  <thead>\n",
       "    <tr style=\"text-align: right;\">\n",
       "      <th></th>\n",
       "      <th>Area</th>\n",
       "      <th>%White</th>\n",
       "      <th>%Black</th>\n",
       "      <th>%Asian</th>\n",
       "      <th>%Hispanic</th>\n",
       "    </tr>\n",
       "  </thead>\n",
       "  <tbody>\n",
       "    <tr>\n",
       "      <th>0</th>\n",
       "      <td>Bronx</td>\n",
       "      <td>0.109168</td>\n",
       "      <td>0.300839</td>\n",
       "      <td>0.034174</td>\n",
       "      <td>0.535275</td>\n",
       "    </tr>\n",
       "    <tr>\n",
       "      <th>1</th>\n",
       "      <td>Kings</td>\n",
       "      <td>0.356652</td>\n",
       "      <td>0.319027</td>\n",
       "      <td>0.103856</td>\n",
       "      <td>0.198141</td>\n",
       "    </tr>\n",
       "    <tr>\n",
       "      <th>2</th>\n",
       "      <td>New York</td>\n",
       "      <td>0.480173</td>\n",
       "      <td>0.129481</td>\n",
       "      <td>0.112004</td>\n",
       "      <td>0.254483</td>\n",
       "    </tr>\n",
       "    <tr>\n",
       "      <th>3</th>\n",
       "      <td>Queens</td>\n",
       "      <td>0.276470</td>\n",
       "      <td>0.177468</td>\n",
       "      <td>0.227879</td>\n",
       "      <td>0.275135</td>\n",
       "    </tr>\n",
       "    <tr>\n",
       "      <th>4</th>\n",
       "      <td>Richmond</td>\n",
       "      <td>0.640388</td>\n",
       "      <td>0.094538</td>\n",
       "      <td>0.074023</td>\n",
       "      <td>0.172916</td>\n",
       "    </tr>\n",
       "  </tbody>\n",
       "</table>\n",
       "</div>"
      ],
      "text/plain": [
       "        Area    %White    %Black    %Asian  %Hispanic\n",
       "0     Bronx   0.109168  0.300839  0.034174   0.535275\n",
       "1     Kings   0.356652  0.319027  0.103856   0.198141\n",
       "2  New York   0.480173  0.129481  0.112004   0.254483\n",
       "3    Queens   0.276470  0.177468  0.227879   0.275135\n",
       "4  Richmond   0.640388  0.094538  0.074023   0.172916"
      ]
     },
     "execution_count": 33,
     "metadata": {},
     "output_type": "execute_result"
    }
   ],
   "source": [
    "chunk7 = demographic.iloc[47:52]\n",
    "chunk7.reset_index(drop=True,inplace=True) \n",
    "chunk7.columns = ['Area','%White','%Black','%Asian','%Hispanic']\n",
    "chunk7"
   ]
  },
  {
   "cell_type": "code",
   "execution_count": 34,
   "metadata": {},
   "outputs": [
    {
     "data": {
      "text/html": [
       "<div>\n",
       "<style scoped>\n",
       "    .dataframe tbody tr th:only-of-type {\n",
       "        vertical-align: middle;\n",
       "    }\n",
       "\n",
       "    .dataframe tbody tr th {\n",
       "        vertical-align: top;\n",
       "    }\n",
       "\n",
       "    .dataframe thead th {\n",
       "        text-align: right;\n",
       "    }\n",
       "</style>\n",
       "<table border=\"1\" class=\"dataframe\">\n",
       "  <thead>\n",
       "    <tr style=\"text-align: right;\">\n",
       "      <th></th>\n",
       "      <th>Area</th>\n",
       "      <th>%White</th>\n",
       "      <th>%Black</th>\n",
       "      <th>%Asian</th>\n",
       "      <th>%Hispanic</th>\n",
       "    </tr>\n",
       "  </thead>\n",
       "  <tbody>\n",
       "    <tr>\n",
       "      <th>0</th>\n",
       "      <td>Clinton</td>\n",
       "      <td>0.911163</td>\n",
       "      <td>0.035956</td>\n",
       "      <td>0.010837</td>\n",
       "      <td>0.025010</td>\n",
       "    </tr>\n",
       "    <tr>\n",
       "      <th>1</th>\n",
       "      <td>Essex</td>\n",
       "      <td>0.929337</td>\n",
       "      <td>0.024943</td>\n",
       "      <td>0.006604</td>\n",
       "      <td>0.025222</td>\n",
       "    </tr>\n",
       "    <tr>\n",
       "      <th>2</th>\n",
       "      <td>Franklin</td>\n",
       "      <td>0.826373</td>\n",
       "      <td>0.054924</td>\n",
       "      <td>0.004167</td>\n",
       "      <td>0.029187</td>\n",
       "    </tr>\n",
       "    <tr>\n",
       "      <th>3</th>\n",
       "      <td>Hamilton</td>\n",
       "      <td>0.964433</td>\n",
       "      <td>0.006824</td>\n",
       "      <td>0.004963</td>\n",
       "      <td>0.010546</td>\n",
       "    </tr>\n",
       "    <tr>\n",
       "      <th>4</th>\n",
       "      <td>Jefferson</td>\n",
       "      <td>0.857634</td>\n",
       "      <td>0.047105</td>\n",
       "      <td>0.012596</td>\n",
       "      <td>0.052853</td>\n",
       "    </tr>\n",
       "    <tr>\n",
       "      <th>5</th>\n",
       "      <td>Lewis</td>\n",
       "      <td>0.968177</td>\n",
       "      <td>0.006276</td>\n",
       "      <td>0.002658</td>\n",
       "      <td>0.013180</td>\n",
       "    </tr>\n",
       "    <tr>\n",
       "      <th>6</th>\n",
       "      <td>St. Lawrence</td>\n",
       "      <td>0.928527</td>\n",
       "      <td>0.020180</td>\n",
       "      <td>0.009594</td>\n",
       "      <td>0.019170</td>\n",
       "    </tr>\n",
       "  </tbody>\n",
       "</table>\n",
       "</div>"
      ],
      "text/plain": [
       "            Area    %White    %Black    %Asian  %Hispanic\n",
       "0       Clinton   0.911163  0.035956  0.010837   0.025010\n",
       "1         Essex   0.929337  0.024943  0.006604   0.025222\n",
       "2      Franklin   0.826373  0.054924  0.004167   0.029187\n",
       "3      Hamilton   0.964433  0.006824  0.004963   0.010546\n",
       "4     Jefferson   0.857634  0.047105  0.012596   0.052853\n",
       "5         Lewis   0.968177  0.006276  0.002658   0.013180\n",
       "6  St. Lawrence   0.928527  0.020180  0.009594   0.019170"
      ]
     },
     "execution_count": 34,
     "metadata": {},
     "output_type": "execute_result"
    }
   ],
   "source": [
    "chunk8 = demographic.iloc[53:60]\n",
    "chunk8.reset_index(drop=True,inplace=True) \n",
    "chunk8.columns = ['Area','%White','%Black','%Asian','%Hispanic']\n",
    "chunk8"
   ]
  },
  {
   "cell_type": "code",
   "execution_count": 35,
   "metadata": {},
   "outputs": [
    {
     "data": {
      "text/html": [
       "<div>\n",
       "<style scoped>\n",
       "    .dataframe tbody tr th:only-of-type {\n",
       "        vertical-align: middle;\n",
       "    }\n",
       "\n",
       "    .dataframe tbody tr th {\n",
       "        vertical-align: top;\n",
       "    }\n",
       "\n",
       "    .dataframe thead th {\n",
       "        text-align: right;\n",
       "    }\n",
       "</style>\n",
       "<table border=\"1\" class=\"dataframe\">\n",
       "  <thead>\n",
       "    <tr style=\"text-align: right;\">\n",
       "      <th></th>\n",
       "      <th>Area</th>\n",
       "      <th>%White</th>\n",
       "      <th>%Black</th>\n",
       "      <th>%Asian</th>\n",
       "      <th>%Hispanic</th>\n",
       "    </tr>\n",
       "  </thead>\n",
       "  <tbody>\n",
       "    <tr>\n",
       "      <th>0</th>\n",
       "      <td>Broome</td>\n",
       "      <td>0.862782</td>\n",
       "      <td>0.044118</td>\n",
       "      <td>0.034990</td>\n",
       "      <td>0.033789</td>\n",
       "    </tr>\n",
       "    <tr>\n",
       "      <th>1</th>\n",
       "      <td>Chemung</td>\n",
       "      <td>0.874063</td>\n",
       "      <td>0.062231</td>\n",
       "      <td>0.011719</td>\n",
       "      <td>0.025217</td>\n",
       "    </tr>\n",
       "    <tr>\n",
       "      <th>2</th>\n",
       "      <td>Chenango</td>\n",
       "      <td>0.956178</td>\n",
       "      <td>0.006399</td>\n",
       "      <td>0.003962</td>\n",
       "      <td>0.018404</td>\n",
       "    </tr>\n",
       "    <tr>\n",
       "      <th>3</th>\n",
       "      <td>Delaware</td>\n",
       "      <td>0.931763</td>\n",
       "      <td>0.014402</td>\n",
       "      <td>0.007566</td>\n",
       "      <td>0.032514</td>\n",
       "    </tr>\n",
       "    <tr>\n",
       "      <th>4</th>\n",
       "      <td>Schuyler</td>\n",
       "      <td>0.962002</td>\n",
       "      <td>0.007796</td>\n",
       "      <td>0.002780</td>\n",
       "      <td>0.012757</td>\n",
       "    </tr>\n",
       "    <tr>\n",
       "      <th>5</th>\n",
       "      <td>Steuben</td>\n",
       "      <td>0.944297</td>\n",
       "      <td>0.015022</td>\n",
       "      <td>0.011627</td>\n",
       "      <td>0.013850</td>\n",
       "    </tr>\n",
       "    <tr>\n",
       "      <th>6</th>\n",
       "      <td>Tioga</td>\n",
       "      <td>0.960489</td>\n",
       "      <td>0.006826</td>\n",
       "      <td>0.007257</td>\n",
       "      <td>0.013575</td>\n",
       "    </tr>\n",
       "    <tr>\n",
       "      <th>7</th>\n",
       "      <td>Tompkins</td>\n",
       "      <td>0.802351</td>\n",
       "      <td>0.037149</td>\n",
       "      <td>0.085463</td>\n",
       "      <td>0.041983</td>\n",
       "    </tr>\n",
       "  </tbody>\n",
       "</table>\n",
       "</div>"
      ],
      "text/plain": [
       "        Area    %White    %Black    %Asian  %Hispanic\n",
       "0    Broome   0.862782  0.044118  0.034990   0.033789\n",
       "1   Chemung   0.874063  0.062231  0.011719   0.025217\n",
       "2  Chenango   0.956178  0.006399  0.003962   0.018404\n",
       "3  Delaware   0.931763  0.014402  0.007566   0.032514\n",
       "4  Schuyler   0.962002  0.007796  0.002780   0.012757\n",
       "5   Steuben   0.944297  0.015022  0.011627   0.013850\n",
       "6     Tioga   0.960489  0.006826  0.007257   0.013575\n",
       "7  Tompkins   0.802351  0.037149  0.085463   0.041983"
      ]
     },
     "execution_count": 35,
     "metadata": {},
     "output_type": "execute_result"
    }
   ],
   "source": [
    "chunk9 = demographic.iloc[61:69]\n",
    "chunk9.reset_index(drop=True,inplace=True) \n",
    "chunk9.columns = ['Area','%White','%Black','%Asian','%Hispanic']\n",
    "chunk9"
   ]
  },
  {
   "cell_type": "code",
   "execution_count": 36,
   "metadata": {},
   "outputs": [
    {
     "data": {
      "text/html": [
       "<div>\n",
       "<style scoped>\n",
       "    .dataframe tbody tr th:only-of-type {\n",
       "        vertical-align: middle;\n",
       "    }\n",
       "\n",
       "    .dataframe tbody tr th {\n",
       "        vertical-align: top;\n",
       "    }\n",
       "\n",
       "    .dataframe thead th {\n",
       "        text-align: right;\n",
       "    }\n",
       "</style>\n",
       "<table border=\"1\" class=\"dataframe\">\n",
       "  <thead>\n",
       "    <tr style=\"text-align: right;\">\n",
       "      <th></th>\n",
       "      <th>Area</th>\n",
       "      <th>%White</th>\n",
       "      <th>%Black</th>\n",
       "      <th>%Asian</th>\n",
       "      <th>%Hispanic</th>\n",
       "    </tr>\n",
       "  </thead>\n",
       "  <tbody>\n",
       "    <tr>\n",
       "      <th>0</th>\n",
       "      <td>Allegany</td>\n",
       "      <td>0.954133</td>\n",
       "      <td>0.010093</td>\n",
       "      <td>0.009214</td>\n",
       "      <td>0.013689</td>\n",
       "    </tr>\n",
       "    <tr>\n",
       "      <th>1</th>\n",
       "      <td>Cattaraugus</td>\n",
       "      <td>0.919469</td>\n",
       "      <td>0.012027</td>\n",
       "      <td>0.006524</td>\n",
       "      <td>0.016746</td>\n",
       "    </tr>\n",
       "    <tr>\n",
       "      <th>2</th>\n",
       "      <td>Chautauqua</td>\n",
       "      <td>0.892947</td>\n",
       "      <td>0.020481</td>\n",
       "      <td>0.005011</td>\n",
       "      <td>0.061087</td>\n",
       "    </tr>\n",
       "    <tr>\n",
       "      <th>3</th>\n",
       "      <td>Erie</td>\n",
       "      <td>0.777067</td>\n",
       "      <td>0.130480</td>\n",
       "      <td>0.025702</td>\n",
       "      <td>0.045407</td>\n",
       "    </tr>\n",
       "    <tr>\n",
       "      <th>4</th>\n",
       "      <td>Niagara</td>\n",
       "      <td>0.872675</td>\n",
       "      <td>0.067035</td>\n",
       "      <td>0.008348</td>\n",
       "      <td>0.021684</td>\n",
       "    </tr>\n",
       "  </tbody>\n",
       "</table>\n",
       "</div>"
      ],
      "text/plain": [
       "           Area    %White    %Black    %Asian  %Hispanic\n",
       "0     Allegany   0.954133  0.010093  0.009214   0.013689\n",
       "1  Cattaraugus   0.919469  0.012027  0.006524   0.016746\n",
       "2   Chautauqua   0.892947  0.020481  0.005011   0.061087\n",
       "3         Erie   0.777067  0.130480  0.025702   0.045407\n",
       "4      Niagara   0.872675  0.067035  0.008348   0.021684"
      ]
     },
     "execution_count": 36,
     "metadata": {},
     "output_type": "execute_result"
    }
   ],
   "source": [
    "chunk10 = demographic.iloc[70:75]\n",
    "chunk10.reset_index(drop=True,inplace=True) \n",
    "chunk10.columns = ['Area','%White','%Black','%Asian','%Hispanic']\n",
    "chunk10"
   ]
  },
  {
   "cell_type": "code",
   "execution_count": 37,
   "metadata": {},
   "outputs": [
    {
     "data": {
      "text/html": [
       "<div>\n",
       "<style scoped>\n",
       "    .dataframe tbody tr th:only-of-type {\n",
       "        vertical-align: middle;\n",
       "    }\n",
       "\n",
       "    .dataframe tbody tr th {\n",
       "        vertical-align: top;\n",
       "    }\n",
       "\n",
       "    .dataframe thead th {\n",
       "        text-align: right;\n",
       "    }\n",
       "</style>\n",
       "<table border=\"1\" class=\"dataframe\">\n",
       "  <thead>\n",
       "    <tr style=\"text-align: right;\">\n",
       "      <th></th>\n",
       "      <th>Area</th>\n",
       "      <th>%White</th>\n",
       "      <th>%Black</th>\n",
       "      <th>%Asian</th>\n",
       "      <th>%Hispanic</th>\n",
       "    </tr>\n",
       "  </thead>\n",
       "  <tbody>\n",
       "    <tr>\n",
       "      <th>0</th>\n",
       "      <td>Albany</td>\n",
       "      <td>0.759859</td>\n",
       "      <td>0.119643</td>\n",
       "      <td>0.047665</td>\n",
       "      <td>0.049036</td>\n",
       "    </tr>\n",
       "    <tr>\n",
       "      <th>1</th>\n",
       "      <td>Columbia</td>\n",
       "      <td>0.882338</td>\n",
       "      <td>0.042649</td>\n",
       "      <td>0.015817</td>\n",
       "      <td>0.038893</td>\n",
       "    </tr>\n",
       "    <tr>\n",
       "      <th>2</th>\n",
       "      <td>Greene</td>\n",
       "      <td>0.870706</td>\n",
       "      <td>0.052945</td>\n",
       "      <td>0.007761</td>\n",
       "      <td>0.049146</td>\n",
       "    </tr>\n",
       "    <tr>\n",
       "      <th>3</th>\n",
       "      <td>Rensselaer</td>\n",
       "      <td>0.856525</td>\n",
       "      <td>0.060165</td>\n",
       "      <td>0.021759</td>\n",
       "      <td>0.038136</td>\n",
       "    </tr>\n",
       "    <tr>\n",
       "      <th>4</th>\n",
       "      <td>Saratoga</td>\n",
       "      <td>0.927325</td>\n",
       "      <td>0.013902</td>\n",
       "      <td>0.017668</td>\n",
       "      <td>0.024038</td>\n",
       "    </tr>\n",
       "    <tr>\n",
       "      <th>...</th>\n",
       "      <td>...</td>\n",
       "      <td>...</td>\n",
       "      <td>...</td>\n",
       "      <td>...</td>\n",
       "      <td>...</td>\n",
       "    </tr>\n",
       "    <tr>\n",
       "      <th>0</th>\n",
       "      <td>Allegany</td>\n",
       "      <td>0.954133</td>\n",
       "      <td>0.010093</td>\n",
       "      <td>0.009214</td>\n",
       "      <td>0.013689</td>\n",
       "    </tr>\n",
       "    <tr>\n",
       "      <th>1</th>\n",
       "      <td>Cattaraugus</td>\n",
       "      <td>0.919469</td>\n",
       "      <td>0.012027</td>\n",
       "      <td>0.006524</td>\n",
       "      <td>0.016746</td>\n",
       "    </tr>\n",
       "    <tr>\n",
       "      <th>2</th>\n",
       "      <td>Chautauqua</td>\n",
       "      <td>0.892947</td>\n",
       "      <td>0.020481</td>\n",
       "      <td>0.005011</td>\n",
       "      <td>0.061087</td>\n",
       "    </tr>\n",
       "    <tr>\n",
       "      <th>3</th>\n",
       "      <td>Erie</td>\n",
       "      <td>0.777067</td>\n",
       "      <td>0.130480</td>\n",
       "      <td>0.025702</td>\n",
       "      <td>0.045407</td>\n",
       "    </tr>\n",
       "    <tr>\n",
       "      <th>4</th>\n",
       "      <td>Niagara</td>\n",
       "      <td>0.872675</td>\n",
       "      <td>0.067035</td>\n",
       "      <td>0.008348</td>\n",
       "      <td>0.021684</td>\n",
       "    </tr>\n",
       "  </tbody>\n",
       "</table>\n",
       "<p>62 rows × 5 columns</p>\n",
       "</div>"
      ],
      "text/plain": [
       "            Area    %White    %Black    %Asian  %Hispanic\n",
       "0        Albany   0.759859  0.119643  0.047665   0.049036\n",
       "1      Columbia   0.882338  0.042649  0.015817   0.038893\n",
       "2        Greene   0.870706  0.052945  0.007761   0.049146\n",
       "3    Rensselaer   0.856525  0.060165  0.021759   0.038136\n",
       "4      Saratoga   0.927325  0.013902  0.017668   0.024038\n",
       "..           ...       ...       ...       ...        ...\n",
       "0      Allegany   0.954133  0.010093  0.009214   0.013689\n",
       "1   Cattaraugus   0.919469  0.012027  0.006524   0.016746\n",
       "2    Chautauqua   0.892947  0.020481  0.005011   0.061087\n",
       "3          Erie   0.777067  0.130480  0.025702   0.045407\n",
       "4       Niagara   0.872675  0.067035  0.008348   0.021684\n",
       "\n",
       "[62 rows x 5 columns]"
      ]
     },
     "execution_count": 37,
     "metadata": {},
     "output_type": "execute_result"
    }
   ],
   "source": [
    "upchunk = pd.concat([chunk1,chunk2], axis=0)\n",
    "upchunk = pd.concat([upchunk,chunk3], axis=0)\n",
    "upchunk = pd.concat([upchunk,chunk4], axis=0)\n",
    "upchunk = pd.concat([upchunk,chunk5], axis=0)\n",
    "upchunk = pd.concat([upchunk,chunk6], axis=0)\n",
    "upchunk = pd.concat([upchunk,chunk7], axis=0)\n",
    "upchunk = pd.concat([upchunk,chunk8], axis=0)\n",
    "upchunk = pd.concat([upchunk,chunk9], axis=0)\n",
    "upchunk = pd.concat([upchunk,chunk10], axis=0)\n",
    "upchunk"
   ]
  },
  {
   "cell_type": "code",
   "execution_count": 38,
   "metadata": {},
   "outputs": [
    {
     "data": {
      "text/plain": [
       "62"
      ]
     },
     "execution_count": 38,
     "metadata": {},
     "output_type": "execute_result"
    }
   ],
   "source": [
    "len(upchunk)"
   ]
  },
  {
   "cell_type": "code",
   "execution_count": 39,
   "metadata": {},
   "outputs": [],
   "source": [
    "# reset index\n",
    "upchunk.reset_index(drop=True,inplace=True)\n",
    "# combine with last table\n",
    "df3 = pd.concat([df2,upchunk], axis=1)"
   ]
  },
  {
   "cell_type": "code",
   "execution_count": 40,
   "metadata": {},
   "outputs": [
    {
     "data": {
      "text/html": [
       "<div>\n",
       "<style scoped>\n",
       "    .dataframe tbody tr th:only-of-type {\n",
       "        vertical-align: middle;\n",
       "    }\n",
       "\n",
       "    .dataframe tbody tr th {\n",
       "        vertical-align: top;\n",
       "    }\n",
       "\n",
       "    .dataframe thead th {\n",
       "        text-align: right;\n",
       "    }\n",
       "</style>\n",
       "<table border=\"1\" class=\"dataframe\">\n",
       "  <thead>\n",
       "    <tr style=\"text-align: right;\">\n",
       "      <th></th>\n",
       "      <th>Total Arrests</th>\n",
       "      <th>White</th>\n",
       "      <th>Black</th>\n",
       "      <th>Hispanic</th>\n",
       "      <th>Asian</th>\n",
       "      <th>Other-Unknown</th>\n",
       "      <th>Unnamed: 2</th>\n",
       "      <th>County</th>\n",
       "      <th>Population</th>\n",
       "      <th>%blackarrest</th>\n",
       "      <th>%whitearrest</th>\n",
       "      <th>%hisparrest</th>\n",
       "      <th>%asianarrest</th>\n",
       "      <th>Area</th>\n",
       "      <th>%White</th>\n",
       "      <th>%Black</th>\n",
       "      <th>%Asian</th>\n",
       "      <th>%Hispanic</th>\n",
       "    </tr>\n",
       "  </thead>\n",
       "  <tbody>\n",
       "    <tr>\n",
       "      <th>0</th>\n",
       "      <td>7132</td>\n",
       "      <td>3242</td>\n",
       "      <td>3035</td>\n",
       "      <td>630</td>\n",
       "      <td>75</td>\n",
       "      <td>150</td>\n",
       "      <td>Total Arrests</td>\n",
       "      <td>[Albany]</td>\n",
       "      <td>306,585</td>\n",
       "      <td>42.5547</td>\n",
       "      <td>45.4571</td>\n",
       "      <td>8.83343</td>\n",
       "      <td>1.0516</td>\n",
       "      <td>Albany</td>\n",
       "      <td>75.985852</td>\n",
       "      <td>11.964340</td>\n",
       "      <td>4.766538</td>\n",
       "      <td>4.903617</td>\n",
       "    </tr>\n",
       "    <tr>\n",
       "      <th>1</th>\n",
       "      <td>830</td>\n",
       "      <td>755</td>\n",
       "      <td>55</td>\n",
       "      <td>12</td>\n",
       "      <td>3</td>\n",
       "      <td>5</td>\n",
       "      <td>Total Arrests</td>\n",
       "      <td>[Allegany]</td>\n",
       "      <td>46,332</td>\n",
       "      <td>6.62651</td>\n",
       "      <td>90.9639</td>\n",
       "      <td>1.44578</td>\n",
       "      <td>0.361446</td>\n",
       "      <td>Columbia</td>\n",
       "      <td>88.233802</td>\n",
       "      <td>4.264930</td>\n",
       "      <td>1.581717</td>\n",
       "      <td>3.889312</td>\n",
       "    </tr>\n",
       "    <tr>\n",
       "      <th>2</th>\n",
       "      <td>47413</td>\n",
       "      <td>1781</td>\n",
       "      <td>21437</td>\n",
       "      <td>23196</td>\n",
       "      <td>618</td>\n",
       "      <td>381</td>\n",
       "      <td>Total Arrests</td>\n",
       "      <td>[Bronx]</td>\n",
       "      <td>1,432,087</td>\n",
       "      <td>45.2133</td>\n",
       "      <td>3.75635</td>\n",
       "      <td>48.9233</td>\n",
       "      <td>1.30344</td>\n",
       "      <td>Greene</td>\n",
       "      <td>87.070559</td>\n",
       "      <td>5.294488</td>\n",
       "      <td>0.776092</td>\n",
       "      <td>4.914569</td>\n",
       "    </tr>\n",
       "    <tr>\n",
       "      <th>3</th>\n",
       "      <td>5091</td>\n",
       "      <td>3396</td>\n",
       "      <td>1236</td>\n",
       "      <td>363</td>\n",
       "      <td>45</td>\n",
       "      <td>51</td>\n",
       "      <td>Total Arrests</td>\n",
       "      <td>[Broome]</td>\n",
       "      <td>191,925</td>\n",
       "      <td>24.2781</td>\n",
       "      <td>66.706</td>\n",
       "      <td>7.13023</td>\n",
       "      <td>0.883913</td>\n",
       "      <td>Rensselaer</td>\n",
       "      <td>85.652548</td>\n",
       "      <td>6.016471</td>\n",
       "      <td>2.175890</td>\n",
       "      <td>3.813610</td>\n",
       "    </tr>\n",
       "    <tr>\n",
       "      <th>4</th>\n",
       "      <td>1697</td>\n",
       "      <td>1318</td>\n",
       "      <td>150</td>\n",
       "      <td>36</td>\n",
       "      <td>10</td>\n",
       "      <td>183</td>\n",
       "      <td>Total Arrests</td>\n",
       "      <td>[Cattaraugus]</td>\n",
       "      <td>76,726</td>\n",
       "      <td>8.83913</td>\n",
       "      <td>77.6665</td>\n",
       "      <td>2.12139</td>\n",
       "      <td>0.589275</td>\n",
       "      <td>Saratoga</td>\n",
       "      <td>92.732472</td>\n",
       "      <td>1.390211</td>\n",
       "      <td>1.766792</td>\n",
       "      <td>2.403840</td>\n",
       "    </tr>\n",
       "    <tr>\n",
       "      <th>...</th>\n",
       "      <td>...</td>\n",
       "      <td>...</td>\n",
       "      <td>...</td>\n",
       "      <td>...</td>\n",
       "      <td>...</td>\n",
       "      <td>...</td>\n",
       "      <td>...</td>\n",
       "      <td>...</td>\n",
       "      <td>...</td>\n",
       "      <td>...</td>\n",
       "      <td>...</td>\n",
       "      <td>...</td>\n",
       "      <td>...</td>\n",
       "      <td>...</td>\n",
       "      <td>...</td>\n",
       "      <td>...</td>\n",
       "      <td>...</td>\n",
       "      <td>...</td>\n",
       "    </tr>\n",
       "    <tr>\n",
       "      <th>57</th>\n",
       "      <td>1288</td>\n",
       "      <td>1145</td>\n",
       "      <td>87</td>\n",
       "      <td>45</td>\n",
       "      <td>2</td>\n",
       "      <td>9</td>\n",
       "      <td>Total Arrests</td>\n",
       "      <td>[Washington]</td>\n",
       "      <td>61,274</td>\n",
       "      <td>6.75466</td>\n",
       "      <td>88.8975</td>\n",
       "      <td>3.49379</td>\n",
       "      <td>0.15528</td>\n",
       "      <td>Allegany</td>\n",
       "      <td>95.413313</td>\n",
       "      <td>1.009276</td>\n",
       "      <td>0.921424</td>\n",
       "      <td>1.368855</td>\n",
       "    </tr>\n",
       "    <tr>\n",
       "      <th>58</th>\n",
       "      <td>1527</td>\n",
       "      <td>1167</td>\n",
       "      <td>268</td>\n",
       "      <td>77</td>\n",
       "      <td>1</td>\n",
       "      <td>14</td>\n",
       "      <td>Total Arrests</td>\n",
       "      <td>[Wayne]</td>\n",
       "      <td>90,200</td>\n",
       "      <td>17.5508</td>\n",
       "      <td>76.4244</td>\n",
       "      <td>5.04257</td>\n",
       "      <td>0.0654879</td>\n",
       "      <td>Cattaraugus</td>\n",
       "      <td>91.946910</td>\n",
       "      <td>1.202734</td>\n",
       "      <td>0.652415</td>\n",
       "      <td>1.674614</td>\n",
       "    </tr>\n",
       "    <tr>\n",
       "      <th>59</th>\n",
       "      <td>13265</td>\n",
       "      <td>3096</td>\n",
       "      <td>5618</td>\n",
       "      <td>4164</td>\n",
       "      <td>112</td>\n",
       "      <td>275</td>\n",
       "      <td>Total Arrests</td>\n",
       "      <td>[Westchester]</td>\n",
       "      <td>968,213</td>\n",
       "      <td>42.3521</td>\n",
       "      <td>23.3396</td>\n",
       "      <td>31.3909</td>\n",
       "      <td>0.844327</td>\n",
       "      <td>Chautauqua</td>\n",
       "      <td>89.294689</td>\n",
       "      <td>2.048108</td>\n",
       "      <td>0.501093</td>\n",
       "      <td>6.108743</td>\n",
       "    </tr>\n",
       "    <tr>\n",
       "      <th>60</th>\n",
       "      <td>821</td>\n",
       "      <td>671</td>\n",
       "      <td>112</td>\n",
       "      <td>29</td>\n",
       "      <td>3</td>\n",
       "      <td>6</td>\n",
       "      <td>Total Arrests</td>\n",
       "      <td>[Wyoming]</td>\n",
       "      <td>40,023</td>\n",
       "      <td>13.6419</td>\n",
       "      <td>81.7296</td>\n",
       "      <td>3.53228</td>\n",
       "      <td>0.365408</td>\n",
       "      <td>Erie</td>\n",
       "      <td>77.706737</td>\n",
       "      <td>13.047963</td>\n",
       "      <td>2.570182</td>\n",
       "      <td>4.540716</td>\n",
       "    </tr>\n",
       "    <tr>\n",
       "      <th>61</th>\n",
       "      <td>319</td>\n",
       "      <td>300</td>\n",
       "      <td>9</td>\n",
       "      <td>8</td>\n",
       "      <td>0</td>\n",
       "      <td>2</td>\n",
       "      <td>Total Arrests</td>\n",
       "      <td>[Yates]</td>\n",
       "      <td>24,951</td>\n",
       "      <td>2.82132</td>\n",
       "      <td>94.0439</td>\n",
       "      <td>2.50784</td>\n",
       "      <td>0</td>\n",
       "      <td>Niagara</td>\n",
       "      <td>87.267461</td>\n",
       "      <td>6.703500</td>\n",
       "      <td>0.834762</td>\n",
       "      <td>2.168440</td>\n",
       "    </tr>\n",
       "  </tbody>\n",
       "</table>\n",
       "<p>62 rows × 18 columns</p>\n",
       "</div>"
      ],
      "text/plain": [
       "   Total Arrests White  Black Hispanic Asian Other-Unknown     Unnamed: 2  \\\n",
       "0           7132  3242   3035      630    75           150  Total Arrests   \n",
       "1            830   755     55       12     3             5  Total Arrests   \n",
       "2          47413  1781  21437    23196   618           381  Total Arrests   \n",
       "3           5091  3396   1236      363    45            51  Total Arrests   \n",
       "4           1697  1318    150       36    10           183  Total Arrests   \n",
       "..           ...   ...    ...      ...   ...           ...            ...   \n",
       "57          1288  1145     87       45     2             9  Total Arrests   \n",
       "58          1527  1167    268       77     1            14  Total Arrests   \n",
       "59         13265  3096   5618     4164   112           275  Total Arrests   \n",
       "60           821   671    112       29     3             6  Total Arrests   \n",
       "61           319   300      9        8     0             2  Total Arrests   \n",
       "\n",
       "           County Population %blackarrest %whitearrest %hisparrest  \\\n",
       "0        [Albany]    306,585      42.5547      45.4571     8.83343   \n",
       "1      [Allegany]     46,332      6.62651      90.9639     1.44578   \n",
       "2         [Bronx]  1,432,087      45.2133      3.75635     48.9233   \n",
       "3        [Broome]    191,925      24.2781       66.706     7.13023   \n",
       "4   [Cattaraugus]     76,726      8.83913      77.6665     2.12139   \n",
       "..            ...        ...          ...          ...         ...   \n",
       "57   [Washington]     61,274      6.75466      88.8975     3.49379   \n",
       "58        [Wayne]     90,200      17.5508      76.4244     5.04257   \n",
       "59  [Westchester]    968,213      42.3521      23.3396     31.3909   \n",
       "60      [Wyoming]     40,023      13.6419      81.7296     3.53228   \n",
       "61        [Yates]     24,951      2.82132      94.0439     2.50784   \n",
       "\n",
       "   %asianarrest          Area     %White     %Black    %Asian  %Hispanic  \n",
       "0        1.0516       Albany   75.985852  11.964340  4.766538   4.903617  \n",
       "1      0.361446     Columbia   88.233802   4.264930  1.581717   3.889312  \n",
       "2       1.30344       Greene   87.070559   5.294488  0.776092   4.914569  \n",
       "3      0.883913   Rensselaer   85.652548   6.016471  2.175890   3.813610  \n",
       "4      0.589275     Saratoga   92.732472   1.390211  1.766792   2.403840  \n",
       "..          ...           ...        ...        ...       ...        ...  \n",
       "57      0.15528     Allegany   95.413313   1.009276  0.921424   1.368855  \n",
       "58    0.0654879  Cattaraugus   91.946910   1.202734  0.652415   1.674614  \n",
       "59     0.844327   Chautauqua   89.294689   2.048108  0.501093   6.108743  \n",
       "60     0.365408         Erie   77.706737  13.047963  2.570182   4.540716  \n",
       "61            0      Niagara   87.267461   6.703500  0.834762   2.168440  \n",
       "\n",
       "[62 rows x 18 columns]"
      ]
     },
     "execution_count": 40,
     "metadata": {},
     "output_type": "execute_result"
    }
   ],
   "source": [
    "# calculate percentage of population for each race\n",
    "df3['%White'] = df3['%White']*100\n",
    "df3['%Black'] = df3['%Black']*100\n",
    "df3['%Asian'] = df3['%Asian']*100\n",
    "df3['%Hispanic'] = df3['%Hispanic']*100\n",
    "\n",
    "df3"
   ]
  },
  {
   "cell_type": "code",
   "execution_count": 41,
   "metadata": {},
   "outputs": [
    {
     "data": {
      "text/html": [
       "<div>\n",
       "<style scoped>\n",
       "    .dataframe tbody tr th:only-of-type {\n",
       "        vertical-align: middle;\n",
       "    }\n",
       "\n",
       "    .dataframe tbody tr th {\n",
       "        vertical-align: top;\n",
       "    }\n",
       "\n",
       "    .dataframe thead th {\n",
       "        text-align: right;\n",
       "    }\n",
       "</style>\n",
       "<table border=\"1\" class=\"dataframe\">\n",
       "  <thead>\n",
       "    <tr style=\"text-align: right;\">\n",
       "      <th></th>\n",
       "      <th>Total Arrests</th>\n",
       "      <th>White</th>\n",
       "      <th>Black</th>\n",
       "      <th>Hispanic</th>\n",
       "      <th>Asian</th>\n",
       "      <th>Other-Unknown</th>\n",
       "      <th>Unnamed: 2</th>\n",
       "      <th>County</th>\n",
       "      <th>Population</th>\n",
       "      <th>%blackarrest</th>\n",
       "      <th>%whitearrest</th>\n",
       "      <th>%hisparrest</th>\n",
       "      <th>%asianarrest</th>\n",
       "      <th>Area</th>\n",
       "      <th>%White</th>\n",
       "      <th>%Black</th>\n",
       "      <th>%Asian</th>\n",
       "      <th>%Hispanic</th>\n",
       "      <th>blackarr/pop</th>\n",
       "      <th>whitearr/pop</th>\n",
       "    </tr>\n",
       "  </thead>\n",
       "  <tbody>\n",
       "    <tr>\n",
       "      <th>0</th>\n",
       "      <td>7132</td>\n",
       "      <td>3242</td>\n",
       "      <td>3035</td>\n",
       "      <td>630</td>\n",
       "      <td>75</td>\n",
       "      <td>150</td>\n",
       "      <td>Total Arrests</td>\n",
       "      <td>[Albany]</td>\n",
       "      <td>306,585</td>\n",
       "      <td>42.5547</td>\n",
       "      <td>45.4571</td>\n",
       "      <td>8.83343</td>\n",
       "      <td>1.0516</td>\n",
       "      <td>Albany</td>\n",
       "      <td>75.985852</td>\n",
       "      <td>11.964340</td>\n",
       "      <td>4.766538</td>\n",
       "      <td>4.903617</td>\n",
       "      <td>3.55679</td>\n",
       "      <td>0.598231</td>\n",
       "    </tr>\n",
       "    <tr>\n",
       "      <th>1</th>\n",
       "      <td>830</td>\n",
       "      <td>755</td>\n",
       "      <td>55</td>\n",
       "      <td>12</td>\n",
       "      <td>3</td>\n",
       "      <td>5</td>\n",
       "      <td>Total Arrests</td>\n",
       "      <td>[Allegany]</td>\n",
       "      <td>46,332</td>\n",
       "      <td>6.62651</td>\n",
       "      <td>90.9639</td>\n",
       "      <td>1.44578</td>\n",
       "      <td>0.361446</td>\n",
       "      <td>Columbia</td>\n",
       "      <td>88.233802</td>\n",
       "      <td>4.264930</td>\n",
       "      <td>1.581717</td>\n",
       "      <td>3.889312</td>\n",
       "      <td>1.55372</td>\n",
       "      <td>1.03094</td>\n",
       "    </tr>\n",
       "    <tr>\n",
       "      <th>2</th>\n",
       "      <td>47413</td>\n",
       "      <td>1781</td>\n",
       "      <td>21437</td>\n",
       "      <td>23196</td>\n",
       "      <td>618</td>\n",
       "      <td>381</td>\n",
       "      <td>Total Arrests</td>\n",
       "      <td>[Bronx]</td>\n",
       "      <td>1,432,087</td>\n",
       "      <td>45.2133</td>\n",
       "      <td>3.75635</td>\n",
       "      <td>48.9233</td>\n",
       "      <td>1.30344</td>\n",
       "      <td>Greene</td>\n",
       "      <td>87.070559</td>\n",
       "      <td>5.294488</td>\n",
       "      <td>0.776092</td>\n",
       "      <td>4.914569</td>\n",
       "      <td>8.5397</td>\n",
       "      <td>0.0431415</td>\n",
       "    </tr>\n",
       "    <tr>\n",
       "      <th>3</th>\n",
       "      <td>5091</td>\n",
       "      <td>3396</td>\n",
       "      <td>1236</td>\n",
       "      <td>363</td>\n",
       "      <td>45</td>\n",
       "      <td>51</td>\n",
       "      <td>Total Arrests</td>\n",
       "      <td>[Broome]</td>\n",
       "      <td>191,925</td>\n",
       "      <td>24.2781</td>\n",
       "      <td>66.706</td>\n",
       "      <td>7.13023</td>\n",
       "      <td>0.883913</td>\n",
       "      <td>Rensselaer</td>\n",
       "      <td>85.652548</td>\n",
       "      <td>6.016471</td>\n",
       "      <td>2.175890</td>\n",
       "      <td>3.813610</td>\n",
       "      <td>4.03528</td>\n",
       "      <td>0.778797</td>\n",
       "    </tr>\n",
       "    <tr>\n",
       "      <th>4</th>\n",
       "      <td>1697</td>\n",
       "      <td>1318</td>\n",
       "      <td>150</td>\n",
       "      <td>36</td>\n",
       "      <td>10</td>\n",
       "      <td>183</td>\n",
       "      <td>Total Arrests</td>\n",
       "      <td>[Cattaraugus]</td>\n",
       "      <td>76,726</td>\n",
       "      <td>8.83913</td>\n",
       "      <td>77.6665</td>\n",
       "      <td>2.12139</td>\n",
       "      <td>0.589275</td>\n",
       "      <td>Saratoga</td>\n",
       "      <td>92.732472</td>\n",
       "      <td>1.390211</td>\n",
       "      <td>1.766792</td>\n",
       "      <td>2.403840</td>\n",
       "      <td>6.35812</td>\n",
       "      <td>0.837533</td>\n",
       "    </tr>\n",
       "    <tr>\n",
       "      <th>...</th>\n",
       "      <td>...</td>\n",
       "      <td>...</td>\n",
       "      <td>...</td>\n",
       "      <td>...</td>\n",
       "      <td>...</td>\n",
       "      <td>...</td>\n",
       "      <td>...</td>\n",
       "      <td>...</td>\n",
       "      <td>...</td>\n",
       "      <td>...</td>\n",
       "      <td>...</td>\n",
       "      <td>...</td>\n",
       "      <td>...</td>\n",
       "      <td>...</td>\n",
       "      <td>...</td>\n",
       "      <td>...</td>\n",
       "      <td>...</td>\n",
       "      <td>...</td>\n",
       "      <td>...</td>\n",
       "      <td>...</td>\n",
       "    </tr>\n",
       "    <tr>\n",
       "      <th>57</th>\n",
       "      <td>1288</td>\n",
       "      <td>1145</td>\n",
       "      <td>87</td>\n",
       "      <td>45</td>\n",
       "      <td>2</td>\n",
       "      <td>9</td>\n",
       "      <td>Total Arrests</td>\n",
       "      <td>[Washington]</td>\n",
       "      <td>61,274</td>\n",
       "      <td>6.75466</td>\n",
       "      <td>88.8975</td>\n",
       "      <td>3.49379</td>\n",
       "      <td>0.15528</td>\n",
       "      <td>Allegany</td>\n",
       "      <td>95.413313</td>\n",
       "      <td>1.009276</td>\n",
       "      <td>0.921424</td>\n",
       "      <td>1.368855</td>\n",
       "      <td>6.69258</td>\n",
       "      <td>0.93171</td>\n",
       "    </tr>\n",
       "    <tr>\n",
       "      <th>58</th>\n",
       "      <td>1527</td>\n",
       "      <td>1167</td>\n",
       "      <td>268</td>\n",
       "      <td>77</td>\n",
       "      <td>1</td>\n",
       "      <td>14</td>\n",
       "      <td>Total Arrests</td>\n",
       "      <td>[Wayne]</td>\n",
       "      <td>90,200</td>\n",
       "      <td>17.5508</td>\n",
       "      <td>76.4244</td>\n",
       "      <td>5.04257</td>\n",
       "      <td>0.0654879</td>\n",
       "      <td>Cattaraugus</td>\n",
       "      <td>91.946910</td>\n",
       "      <td>1.202734</td>\n",
       "      <td>0.652415</td>\n",
       "      <td>1.674614</td>\n",
       "      <td>14.5924</td>\n",
       "      <td>0.831179</td>\n",
       "    </tr>\n",
       "    <tr>\n",
       "      <th>59</th>\n",
       "      <td>13265</td>\n",
       "      <td>3096</td>\n",
       "      <td>5618</td>\n",
       "      <td>4164</td>\n",
       "      <td>112</td>\n",
       "      <td>275</td>\n",
       "      <td>Total Arrests</td>\n",
       "      <td>[Westchester]</td>\n",
       "      <td>968,213</td>\n",
       "      <td>42.3521</td>\n",
       "      <td>23.3396</td>\n",
       "      <td>31.3909</td>\n",
       "      <td>0.844327</td>\n",
       "      <td>Chautauqua</td>\n",
       "      <td>89.294689</td>\n",
       "      <td>2.048108</td>\n",
       "      <td>0.501093</td>\n",
       "      <td>6.108743</td>\n",
       "      <td>20.6786</td>\n",
       "      <td>0.261377</td>\n",
       "    </tr>\n",
       "    <tr>\n",
       "      <th>60</th>\n",
       "      <td>821</td>\n",
       "      <td>671</td>\n",
       "      <td>112</td>\n",
       "      <td>29</td>\n",
       "      <td>3</td>\n",
       "      <td>6</td>\n",
       "      <td>Total Arrests</td>\n",
       "      <td>[Wyoming]</td>\n",
       "      <td>40,023</td>\n",
       "      <td>13.6419</td>\n",
       "      <td>81.7296</td>\n",
       "      <td>3.53228</td>\n",
       "      <td>0.365408</td>\n",
       "      <td>Erie</td>\n",
       "      <td>77.706737</td>\n",
       "      <td>13.047963</td>\n",
       "      <td>2.570182</td>\n",
       "      <td>4.540716</td>\n",
       "      <td>1.04552</td>\n",
       "      <td>1.05177</td>\n",
       "    </tr>\n",
       "    <tr>\n",
       "      <th>61</th>\n",
       "      <td>319</td>\n",
       "      <td>300</td>\n",
       "      <td>9</td>\n",
       "      <td>8</td>\n",
       "      <td>0</td>\n",
       "      <td>2</td>\n",
       "      <td>Total Arrests</td>\n",
       "      <td>[Yates]</td>\n",
       "      <td>24,951</td>\n",
       "      <td>2.82132</td>\n",
       "      <td>94.0439</td>\n",
       "      <td>2.50784</td>\n",
       "      <td>0</td>\n",
       "      <td>Niagara</td>\n",
       "      <td>87.267461</td>\n",
       "      <td>6.703500</td>\n",
       "      <td>0.834762</td>\n",
       "      <td>2.168440</td>\n",
       "      <td>0.420872</td>\n",
       "      <td>1.07765</td>\n",
       "    </tr>\n",
       "  </tbody>\n",
       "</table>\n",
       "<p>62 rows × 20 columns</p>\n",
       "</div>"
      ],
      "text/plain": [
       "   Total Arrests White  Black Hispanic Asian Other-Unknown     Unnamed: 2  \\\n",
       "0           7132  3242   3035      630    75           150  Total Arrests   \n",
       "1            830   755     55       12     3             5  Total Arrests   \n",
       "2          47413  1781  21437    23196   618           381  Total Arrests   \n",
       "3           5091  3396   1236      363    45            51  Total Arrests   \n",
       "4           1697  1318    150       36    10           183  Total Arrests   \n",
       "..           ...   ...    ...      ...   ...           ...            ...   \n",
       "57          1288  1145     87       45     2             9  Total Arrests   \n",
       "58          1527  1167    268       77     1            14  Total Arrests   \n",
       "59         13265  3096   5618     4164   112           275  Total Arrests   \n",
       "60           821   671    112       29     3             6  Total Arrests   \n",
       "61           319   300      9        8     0             2  Total Arrests   \n",
       "\n",
       "           County Population %blackarrest %whitearrest %hisparrest  \\\n",
       "0        [Albany]    306,585      42.5547      45.4571     8.83343   \n",
       "1      [Allegany]     46,332      6.62651      90.9639     1.44578   \n",
       "2         [Bronx]  1,432,087      45.2133      3.75635     48.9233   \n",
       "3        [Broome]    191,925      24.2781       66.706     7.13023   \n",
       "4   [Cattaraugus]     76,726      8.83913      77.6665     2.12139   \n",
       "..            ...        ...          ...          ...         ...   \n",
       "57   [Washington]     61,274      6.75466      88.8975     3.49379   \n",
       "58        [Wayne]     90,200      17.5508      76.4244     5.04257   \n",
       "59  [Westchester]    968,213      42.3521      23.3396     31.3909   \n",
       "60      [Wyoming]     40,023      13.6419      81.7296     3.53228   \n",
       "61        [Yates]     24,951      2.82132      94.0439     2.50784   \n",
       "\n",
       "   %asianarrest          Area     %White     %Black    %Asian  %Hispanic  \\\n",
       "0        1.0516       Albany   75.985852  11.964340  4.766538   4.903617   \n",
       "1      0.361446     Columbia   88.233802   4.264930  1.581717   3.889312   \n",
       "2       1.30344       Greene   87.070559   5.294488  0.776092   4.914569   \n",
       "3      0.883913   Rensselaer   85.652548   6.016471  2.175890   3.813610   \n",
       "4      0.589275     Saratoga   92.732472   1.390211  1.766792   2.403840   \n",
       "..          ...           ...        ...        ...       ...        ...   \n",
       "57      0.15528     Allegany   95.413313   1.009276  0.921424   1.368855   \n",
       "58    0.0654879  Cattaraugus   91.946910   1.202734  0.652415   1.674614   \n",
       "59     0.844327   Chautauqua   89.294689   2.048108  0.501093   6.108743   \n",
       "60     0.365408         Erie   77.706737  13.047963  2.570182   4.540716   \n",
       "61            0      Niagara   87.267461   6.703500  0.834762   2.168440   \n",
       "\n",
       "   blackarr/pop whitearr/pop  \n",
       "0       3.55679     0.598231  \n",
       "1       1.55372      1.03094  \n",
       "2        8.5397    0.0431415  \n",
       "3       4.03528     0.778797  \n",
       "4       6.35812     0.837533  \n",
       "..          ...          ...  \n",
       "57      6.69258      0.93171  \n",
       "58      14.5924     0.831179  \n",
       "59      20.6786     0.261377  \n",
       "60      1.04552      1.05177  \n",
       "61     0.420872      1.07765  \n",
       "\n",
       "[62 rows x 20 columns]"
      ]
     },
     "execution_count": 41,
     "metadata": {},
     "output_type": "execute_result"
    }
   ],
   "source": [
    "df3['blackarr/pop'] = df3['%blackarrest']/df3['%Black']\n",
    "df3['whitearr/pop'] = df3['%whitearrest']/df3['%White']\n",
    "df3"
   ]
  },
  {
   "cell_type": "code",
   "execution_count": 42,
   "metadata": {},
   "outputs": [],
   "source": [
    "%matplotlib inline\n",
    "import matplotlib.pyplot as plt\n",
    "import seaborn as sns\n",
    "import pandas as pd\n",
    "import numpy as np\n",
    "\n",
    "from plotnine import *\n",
    "\n"
   ]
  },
  {
   "cell_type": "code",
   "execution_count": 43,
   "metadata": {},
   "outputs": [],
   "source": [
    "# remove the commas\n",
    "df3 = df3.replace(',','', regex=True)\n"
   ]
  },
  {
   "cell_type": "code",
   "execution_count": 44,
   "metadata": {},
   "outputs": [
    {
     "data": {
      "text/plain": [
       "Total Arrests      int64\n",
       "White              int64\n",
       "Black              int64\n",
       "Hispanic           int64\n",
       "Asian              int64\n",
       "Other-Unknown      int64\n",
       "Unnamed: 2        object\n",
       "County            object\n",
       "Population        object\n",
       "%blackarrest     float64\n",
       "%whitearrest     float64\n",
       "%hisparrest      float64\n",
       "%asianarrest     float64\n",
       "Area              object\n",
       "%White           float64\n",
       "%Black           float64\n",
       "%Asian           float64\n",
       "%Hispanic        float64\n",
       "blackarr/pop     float64\n",
       "whitearr/pop     float64\n",
       "dtype: object"
      ]
     },
     "execution_count": 44,
     "metadata": {},
     "output_type": "execute_result"
    }
   ],
   "source": [
    "df3.dtypes"
   ]
  },
  {
   "cell_type": "code",
   "execution_count": 45,
   "metadata": {},
   "outputs": [],
   "source": [
    "# convert to numbers\n",
    "df3['%White'] = df3['%White'].astype('int64')\n",
    "df3['%Black'] = df3['%Black'].astype('int64')\n",
    "df3['%Hispanic'] = df3['%Hispanic'].astype('int64')\n",
    "df3['%Asian'] = df3['%Asian'].astype('int64')\n",
    "df3['blackarr/pop'] = df3['blackarr/pop'].astype('int64')\n",
    "df3['whitearr/pop'] = df3['whitearr/pop'].astype('int64')\n",
    "df3['%blackarrest'] = df3['%blackarrest'].astype('int64')\n",
    "df3['%whitearrest'] = df3['%whitearrest'].astype('int64')\n",
    "df3['%hisparrest'] = df3['%hisparrest'].astype('int64')\n",
    "df3['%asianarrest'] = df3['%asianarrest'].astype('int64')\n",
    "# Can't convert object to int directly. need to convert to float first\n",
    "df3['Population'] = df3['Population'].astype(float)\n",
    "df3['Population'] = df3['Population'].astype('int64')"
   ]
  },
  {
   "cell_type": "code",
   "execution_count": 46,
   "metadata": {},
   "outputs": [
    {
     "data": {
      "text/plain": [
       "Total Arrests     int64\n",
       "White             int64\n",
       "Black             int64\n",
       "Hispanic          int64\n",
       "Asian             int64\n",
       "Other-Unknown     int64\n",
       "Unnamed: 2       object\n",
       "County           object\n",
       "Population        int64\n",
       "%blackarrest      int64\n",
       "%whitearrest      int64\n",
       "%hisparrest       int64\n",
       "%asianarrest      int64\n",
       "Area             object\n",
       "%White            int64\n",
       "%Black            int64\n",
       "%Asian            int64\n",
       "%Hispanic         int64\n",
       "blackarr/pop      int64\n",
       "whitearr/pop      int64\n",
       "dtype: object"
      ]
     },
     "execution_count": 46,
     "metadata": {},
     "output_type": "execute_result"
    }
   ],
   "source": [
    "df3.dtypes"
   ]
  },
  {
   "cell_type": "code",
   "execution_count": 47,
   "metadata": {},
   "outputs": [
    {
     "data": {
      "image/png": "[encoded data removed]",
      "text/plain": [
       "<Figure size 640x480 with 1 Axes>"
      ]
     },
     "metadata": {},
     "output_type": "display_data"
    },
    {
     "data": {
      "text/plain": [
       "<ggplot: (7017855009)>"
      ]
     },
     "execution_count": 47,
     "metadata": {},
     "output_type": "execute_result"
    }
   ],
   "source": [
    "ggplot(df3, aes(x= '%Black', y='%White')) + geom_point()"
   ]
  },
  {
   "cell_type": "code",
   "execution_count": 48,
   "metadata": {},
   "outputs": [
    {
     "data": {
      "text/plain": [
       "<matplotlib.axes._subplots.AxesSubplot at 0x1a24c5ced0>"
      ]
     },
     "execution_count": 48,
     "metadata": {},
     "output_type": "execute_result"
    },
    {
     "data": {
      "image/png": "[encoded data removed]",
      "text/plain": [
       "<Figure size 432x288 with 1 Axes>"
      ]
     },
     "metadata": {
      "needs_background": "light"
     },
     "output_type": "display_data"
    }
   ],
   "source": [
    "df3.plot(kind='scatter', x='Population', y='%blackarrest')"
   ]
  },
  {
   "cell_type": "code",
   "execution_count": 49,
   "metadata": {},
   "outputs": [
    {
     "data": {
      "text/plain": [
       "<matplotlib.axes._subplots.AxesSubplot at 0x1a24ee0ed0>"
      ]
     },
     "execution_count": 49,
     "metadata": {},
     "output_type": "execute_result"
    },
    {
     "data": {
      "image/png": "[encoded data removed]",
      "text/plain": [
       "<Figure size 432x288 with 1 Axes>"
      ]
     },
     "metadata": {
      "needs_background": "light"
     },
     "output_type": "display_data"
    }
   ],
   "source": [
    "df3.plot(kind='scatter', x='%Black', y='%blackarrest')"
   ]
  },
  {
   "cell_type": "code",
   "execution_count": 50,
   "metadata": {},
   "outputs": [
    {
     "data": {
      "text/plain": [
       "<matplotlib.axes._subplots.AxesSubplot at 0x1a24f196d0>"
      ]
     },
     "execution_count": 50,
     "metadata": {},
     "output_type": "execute_result"
    },
    {
     "data": {
      "image/png": "[encoded data removed]",
      "text/plain": [
       "<Figure size 432x288 with 1 Axes>"
      ]
     },
     "metadata": {
      "needs_background": "light"
     },
     "output_type": "display_data"
    }
   ],
   "source": [
    "df3.plot(kind='scatter', x='Population', y='%hisparrest')"
   ]
  },
  {
   "cell_type": "code",
   "execution_count": 51,
   "metadata": {},
   "outputs": [
    {
     "data": {
      "text/plain": [
       "<matplotlib.axes._subplots.AxesSubplot at 0x1a250f5b50>"
      ]
     },
     "execution_count": 51,
     "metadata": {},
     "output_type": "execute_result"
    },
    {
     "data": {
      "image/png": "[encoded data removed]",
      "text/plain": [
       "<Figure size 432x288 with 1 Axes>"
      ]
     },
     "metadata": {
      "needs_background": "light"
     },
     "output_type": "display_data"
    }
   ],
   "source": [
    "df3.plot(kind='scatter', x='%Hispanic', y='%hisparrest')"
   ]
  },
  {
   "cell_type": "code",
   "execution_count": 52,
   "metadata": {},
   "outputs": [
    {
     "data": {
      "text/plain": [
       "<matplotlib.axes._subplots.AxesSubplot at 0x1a251659d0>"
      ]
     },
     "execution_count": 52,
     "metadata": {},
     "output_type": "execute_result"
    },
    {
     "data": {
      "image/png": "[encoded data removed]",
      "text/plain": [
       "<Figure size 432x288 with 1 Axes>"
      ]
     },
     "metadata": {
      "needs_background": "light"
     },
     "output_type": "display_data"
    }
   ],
   "source": [
    "df3.plot(kind='scatter', x='Population', y='%asianarrest')"
   ]
  },
  {
   "cell_type": "code",
   "execution_count": 53,
   "metadata": {},
   "outputs": [
    {
     "data": {
      "text/plain": [
       "<matplotlib.axes._subplots.AxesSubplot at 0x1a25211610>"
      ]
     },
     "execution_count": 53,
     "metadata": {},
     "output_type": "execute_result"
    },
    {
     "data": {
      "image/png": "[encoded data removed]",
      "text/plain": [
       "<Figure size 432x288 with 1 Axes>"
      ]
     },
     "metadata": {
      "needs_background": "light"
     },
     "output_type": "display_data"
    }
   ],
   "source": [
    "df3.plot(kind='scatter', x='%Asian', y='%asianarrest')"
   ]
  },
  {
   "cell_type": "code",
   "execution_count": 54,
   "metadata": {},
   "outputs": [
    {
     "data": {
      "text/plain": [
       "<matplotlib.axes._subplots.AxesSubplot at 0x1a25414b10>"
      ]
     },
     "execution_count": 54,
     "metadata": {},
     "output_type": "execute_result"
    },
    {
     "data": {
      "image/png": "[encoded data removed]",
      "text/plain": [
       "<Figure size 432x288 with 1 Axes>"
      ]
     },
     "metadata": {
      "needs_background": "light"
     },
     "output_type": "display_data"
    }
   ],
   "source": [
    "df3.plot(kind='scatter', x='Population', y='%whitearrest')"
   ]
  },
  {
   "cell_type": "code",
   "execution_count": 55,
   "metadata": {},
   "outputs": [
    {
     "data": {
      "text/plain": [
       "<matplotlib.axes._subplots.AxesSubplot at 0x1a25599310>"
      ]
     },
     "execution_count": 55,
     "metadata": {},
     "output_type": "execute_result"
    },
    {
     "data": {
      "image/png": "[encoded data removed]",
      "text/plain": [
       "<Figure size 432x288 with 1 Axes>"
      ]
     },
     "metadata": {
      "needs_background": "light"
     },
     "output_type": "display_data"
    }
   ],
   "source": [
    "df3.plot(kind='scatter', x='%White', y='%whitearrest')"
   ]
  },
  {
   "cell_type": "markdown",
   "metadata": {},
   "source": [
    "# Repeate for felony data"
   ]
  },
  {
   "cell_type": "code",
   "execution_count": 110,
   "metadata": {},
   "outputs": [],
   "source": [
    "# List of sheet names\n",
    "xl = pd.ExcelFile('all.xls')\n",
    "sheetnames = xl.sheet_names  \n",
    "\n",
    "counties = sheetnames[4:66]\n",
    "column_names = [\"Unnamed: 2\",\"Total Arrests\",\"White\",\"Black\",\"Hispanic\",\"Asian\",\"Other-Unknown\"]\n",
    "felony_df = pd.DataFrame(columns = column_names)\n",
    "# run a loop to extract data from each sheet\n",
    "data2 = []\n",
    "for c in counties:\n",
    "    sheetname = c\n",
    "    countydata = pd.read_excel('all.xls', sheet_name = sheetname, skiprows = 15,nrows =2, usecols = \"C,E:J\")\n",
    "    county = [[]] * 2\n",
    "    county[0].append(sheetname)\n",
    "    countydata['County'] = county\n",
    "    data2.append(countydata)\n"
   ]
  },
  {
   "cell_type": "code",
   "execution_count": 69,
   "metadata": {},
   "outputs": [
    {
     "data": {
      "text/html": [
       "<div>\n",
       "<style scoped>\n",
       "    .dataframe tbody tr th:only-of-type {\n",
       "        vertical-align: middle;\n",
       "    }\n",
       "\n",
       "    .dataframe tbody tr th {\n",
       "        vertical-align: top;\n",
       "    }\n",
       "\n",
       "    .dataframe thead th {\n",
       "        text-align: right;\n",
       "    }\n",
       "</style>\n",
       "<table border=\"1\" class=\"dataframe\">\n",
       "  <thead>\n",
       "    <tr style=\"text-align: right;\">\n",
       "      <th></th>\n",
       "      <th>category</th>\n",
       "      <th>Total Arrests</th>\n",
       "      <th>White</th>\n",
       "      <th>Black</th>\n",
       "      <th>Hispanic</th>\n",
       "      <th>Asian</th>\n",
       "      <th>Other-Unknown</th>\n",
       "      <th>County</th>\n",
       "    </tr>\n",
       "  </thead>\n",
       "  <tbody>\n",
       "    <tr>\n",
       "      <th>0</th>\n",
       "      <td>Total Arrests</td>\n",
       "      <td>7132</td>\n",
       "      <td>3242</td>\n",
       "      <td>3035</td>\n",
       "      <td>630</td>\n",
       "      <td>75</td>\n",
       "      <td>150</td>\n",
       "      <td>[Albany]</td>\n",
       "    </tr>\n",
       "    <tr>\n",
       "      <th>1</th>\n",
       "      <td>Felony Total</td>\n",
       "      <td>2555</td>\n",
       "      <td>928</td>\n",
       "      <td>1302</td>\n",
       "      <td>254</td>\n",
       "      <td>19</td>\n",
       "      <td>52</td>\n",
       "      <td>[Albany]</td>\n",
       "    </tr>\n",
       "    <tr>\n",
       "      <th>2</th>\n",
       "      <td>Total Arrests</td>\n",
       "      <td>830</td>\n",
       "      <td>755</td>\n",
       "      <td>55</td>\n",
       "      <td>12</td>\n",
       "      <td>3</td>\n",
       "      <td>5</td>\n",
       "      <td>[Allegany]</td>\n",
       "    </tr>\n",
       "    <tr>\n",
       "      <th>3</th>\n",
       "      <td>Felony Total</td>\n",
       "      <td>257</td>\n",
       "      <td>234</td>\n",
       "      <td>17</td>\n",
       "      <td>5</td>\n",
       "      <td>1</td>\n",
       "      <td>0</td>\n",
       "      <td>[Allegany]</td>\n",
       "    </tr>\n",
       "    <tr>\n",
       "      <th>4</th>\n",
       "      <td>Total Arrests</td>\n",
       "      <td>47413</td>\n",
       "      <td>1781</td>\n",
       "      <td>21437</td>\n",
       "      <td>23196</td>\n",
       "      <td>618</td>\n",
       "      <td>381</td>\n",
       "      <td>[Bronx]</td>\n",
       "    </tr>\n",
       "  </tbody>\n",
       "</table>\n",
       "</div>"
      ],
      "text/plain": [
       "        category Total Arrests White  Black Hispanic Asian Other-Unknown  \\\n",
       "0  Total Arrests          7132  3242   3035      630    75           150   \n",
       "1   Felony Total          2555   928   1302      254    19            52   \n",
       "2  Total Arrests           830   755     55       12     3             5   \n",
       "3   Felony Total           257   234     17        5     1             0   \n",
       "4  Total Arrests         47413  1781  21437    23196   618           381   \n",
       "\n",
       "       County  \n",
       "0    [Albany]  \n",
       "1    [Albany]  \n",
       "2  [Allegany]  \n",
       "3  [Allegany]  \n",
       "4     [Bronx]  "
      ]
     },
     "execution_count": 69,
     "metadata": {},
     "output_type": "execute_result"
    }
   ],
   "source": [
    "felony_df = felony_df.append(data2, True)\n",
    "felony_df.columns = [\"category\",\"Total Arrests\",\"White\",\"Black\",\"Hispanic\",\"Asian\",\"Other-Unknown\",\"County\"]\n",
    "felony_df.head()"
   ]
  },
  {
   "cell_type": "code",
   "execution_count": 70,
   "metadata": {},
   "outputs": [],
   "source": [
    "# Extract felony data\n",
    "felony_df = felony_df.loc[felony_df.category == 'Felony Total',:]"
   ]
  },
  {
   "cell_type": "code",
   "execution_count": 71,
   "metadata": {},
   "outputs": [
    {
     "data": {
      "text/html": [
       "<div>\n",
       "<style scoped>\n",
       "    .dataframe tbody tr th:only-of-type {\n",
       "        vertical-align: middle;\n",
       "    }\n",
       "\n",
       "    .dataframe tbody tr th {\n",
       "        vertical-align: top;\n",
       "    }\n",
       "\n",
       "    .dataframe thead th {\n",
       "        text-align: right;\n",
       "    }\n",
       "</style>\n",
       "<table border=\"1\" class=\"dataframe\">\n",
       "  <thead>\n",
       "    <tr style=\"text-align: right;\">\n",
       "      <th></th>\n",
       "      <th>category</th>\n",
       "      <th>Total Arrests</th>\n",
       "      <th>White</th>\n",
       "      <th>Black</th>\n",
       "      <th>Hispanic</th>\n",
       "      <th>Asian</th>\n",
       "      <th>Other-Unknown</th>\n",
       "      <th>County</th>\n",
       "    </tr>\n",
       "  </thead>\n",
       "  <tbody>\n",
       "    <tr>\n",
       "      <th>1</th>\n",
       "      <td>Felony Total</td>\n",
       "      <td>2555</td>\n",
       "      <td>928</td>\n",
       "      <td>1302</td>\n",
       "      <td>254</td>\n",
       "      <td>19</td>\n",
       "      <td>52</td>\n",
       "      <td>[Albany]</td>\n",
       "    </tr>\n",
       "    <tr>\n",
       "      <th>3</th>\n",
       "      <td>Felony Total</td>\n",
       "      <td>257</td>\n",
       "      <td>234</td>\n",
       "      <td>17</td>\n",
       "      <td>5</td>\n",
       "      <td>1</td>\n",
       "      <td>0</td>\n",
       "      <td>[Allegany]</td>\n",
       "    </tr>\n",
       "    <tr>\n",
       "      <th>5</th>\n",
       "      <td>Felony Total</td>\n",
       "      <td>15731</td>\n",
       "      <td>506</td>\n",
       "      <td>7230</td>\n",
       "      <td>7698</td>\n",
       "      <td>194</td>\n",
       "      <td>103</td>\n",
       "      <td>[Bronx]</td>\n",
       "    </tr>\n",
       "    <tr>\n",
       "      <th>7</th>\n",
       "      <td>Felony Total</td>\n",
       "      <td>1428</td>\n",
       "      <td>842</td>\n",
       "      <td>467</td>\n",
       "      <td>96</td>\n",
       "      <td>8</td>\n",
       "      <td>15</td>\n",
       "      <td>[Broome]</td>\n",
       "    </tr>\n",
       "    <tr>\n",
       "      <th>9</th>\n",
       "      <td>Felony Total</td>\n",
       "      <td>563</td>\n",
       "      <td>417</td>\n",
       "      <td>74</td>\n",
       "      <td>8</td>\n",
       "      <td>3</td>\n",
       "      <td>61</td>\n",
       "      <td>[Cattaraugus]</td>\n",
       "    </tr>\n",
       "  </tbody>\n",
       "</table>\n",
       "</div>"
      ],
      "text/plain": [
       "       category Total Arrests White Black Hispanic Asian Other-Unknown  \\\n",
       "1  Felony Total          2555   928  1302      254    19            52   \n",
       "3  Felony Total           257   234    17        5     1             0   \n",
       "5  Felony Total         15731   506  7230     7698   194           103   \n",
       "7  Felony Total          1428   842   467       96     8            15   \n",
       "9  Felony Total           563   417    74        8     3            61   \n",
       "\n",
       "          County  \n",
       "1       [Albany]  \n",
       "3     [Allegany]  \n",
       "5        [Bronx]  \n",
       "7       [Broome]  \n",
       "9  [Cattaraugus]  "
      ]
     },
     "execution_count": 71,
     "metadata": {},
     "output_type": "execute_result"
    }
   ],
   "source": [
    "felony_df.head()"
   ]
  },
  {
   "cell_type": "code",
   "execution_count": 72,
   "metadata": {},
   "outputs": [
    {
     "data": {
      "text/html": [
       "<div>\n",
       "<style scoped>\n",
       "    .dataframe tbody tr th:only-of-type {\n",
       "        vertical-align: middle;\n",
       "    }\n",
       "\n",
       "    .dataframe tbody tr th {\n",
       "        vertical-align: top;\n",
       "    }\n",
       "\n",
       "    .dataframe thead th {\n",
       "        text-align: right;\n",
       "    }\n",
       "</style>\n",
       "<table border=\"1\" class=\"dataframe\">\n",
       "  <thead>\n",
       "    <tr style=\"text-align: right;\">\n",
       "      <th></th>\n",
       "      <th>category</th>\n",
       "      <th>Total Arrests</th>\n",
       "      <th>White</th>\n",
       "      <th>Black</th>\n",
       "      <th>Hispanic</th>\n",
       "      <th>Asian</th>\n",
       "      <th>Other-Unknown</th>\n",
       "      <th>County</th>\n",
       "      <th>Population</th>\n",
       "    </tr>\n",
       "  </thead>\n",
       "  <tbody>\n",
       "    <tr>\n",
       "      <th>0</th>\n",
       "      <td>Felony Total</td>\n",
       "      <td>2555</td>\n",
       "      <td>928</td>\n",
       "      <td>1302</td>\n",
       "      <td>254</td>\n",
       "      <td>19</td>\n",
       "      <td>52</td>\n",
       "      <td>[Albany]</td>\n",
       "      <td>306,585</td>\n",
       "    </tr>\n",
       "    <tr>\n",
       "      <th>1</th>\n",
       "      <td>Felony Total</td>\n",
       "      <td>257</td>\n",
       "      <td>234</td>\n",
       "      <td>17</td>\n",
       "      <td>5</td>\n",
       "      <td>1</td>\n",
       "      <td>0</td>\n",
       "      <td>[Allegany]</td>\n",
       "      <td>46,332</td>\n",
       "    </tr>\n",
       "    <tr>\n",
       "      <th>2</th>\n",
       "      <td>Felony Total</td>\n",
       "      <td>15731</td>\n",
       "      <td>506</td>\n",
       "      <td>7230</td>\n",
       "      <td>7698</td>\n",
       "      <td>194</td>\n",
       "      <td>103</td>\n",
       "      <td>[Bronx]</td>\n",
       "      <td>1,432,087</td>\n",
       "    </tr>\n",
       "    <tr>\n",
       "      <th>3</th>\n",
       "      <td>Felony Total</td>\n",
       "      <td>1428</td>\n",
       "      <td>842</td>\n",
       "      <td>467</td>\n",
       "      <td>96</td>\n",
       "      <td>8</td>\n",
       "      <td>15</td>\n",
       "      <td>[Broome]</td>\n",
       "      <td>191,925</td>\n",
       "    </tr>\n",
       "    <tr>\n",
       "      <th>4</th>\n",
       "      <td>Felony Total</td>\n",
       "      <td>563</td>\n",
       "      <td>417</td>\n",
       "      <td>74</td>\n",
       "      <td>8</td>\n",
       "      <td>3</td>\n",
       "      <td>61</td>\n",
       "      <td>[Cattaraugus]</td>\n",
       "      <td>76,726</td>\n",
       "    </tr>\n",
       "  </tbody>\n",
       "</table>\n",
       "</div>"
      ],
      "text/plain": [
       "       category Total Arrests White Black Hispanic Asian Other-Unknown  \\\n",
       "0  Felony Total          2555   928  1302      254    19            52   \n",
       "1  Felony Total           257   234    17        5     1             0   \n",
       "2  Felony Total         15731   506  7230     7698   194           103   \n",
       "3  Felony Total          1428   842   467       96     8            15   \n",
       "4  Felony Total           563   417    74        8     3            61   \n",
       "\n",
       "          County Population  \n",
       "0       [Albany]    306,585  \n",
       "1     [Allegany]     46,332  \n",
       "2        [Bronx]  1,432,087  \n",
       "3       [Broome]    191,925  \n",
       "4  [Cattaraugus]     76,726  "
      ]
     },
     "execution_count": 72,
     "metadata": {},
     "output_type": "execute_result"
    }
   ],
   "source": [
    "\n",
    "felony_df.reset_index(drop=True,inplace=True)\n",
    "\n",
    "# add population data\n",
    "felony_df2 = pd.concat([felony_df,population_ce], axis=1)\n",
    "felony_df2.head()"
   ]
  },
  {
   "cell_type": "code",
   "execution_count": 73,
   "metadata": {},
   "outputs": [],
   "source": [
    "# add demographic data\n",
    "felony_df2 = pd.concat([felony_df2,upchunk], axis=1)"
   ]
  },
  {
   "cell_type": "code",
   "execution_count": 75,
   "metadata": {},
   "outputs": [
    {
     "data": {
      "text/html": [
       "<div>\n",
       "<style scoped>\n",
       "    .dataframe tbody tr th:only-of-type {\n",
       "        vertical-align: middle;\n",
       "    }\n",
       "\n",
       "    .dataframe tbody tr th {\n",
       "        vertical-align: top;\n",
       "    }\n",
       "\n",
       "    .dataframe thead th {\n",
       "        text-align: right;\n",
       "    }\n",
       "</style>\n",
       "<table border=\"1\" class=\"dataframe\">\n",
       "  <thead>\n",
       "    <tr style=\"text-align: right;\">\n",
       "      <th></th>\n",
       "      <th>category</th>\n",
       "      <th>Total Arrests</th>\n",
       "      <th>White</th>\n",
       "      <th>Black</th>\n",
       "      <th>Hispanic</th>\n",
       "      <th>Asian</th>\n",
       "      <th>Other-Unknown</th>\n",
       "      <th>County</th>\n",
       "      <th>Population</th>\n",
       "      <th>Area</th>\n",
       "      <th>%White</th>\n",
       "      <th>%Black</th>\n",
       "      <th>%Asian</th>\n",
       "      <th>%Hispanic</th>\n",
       "    </tr>\n",
       "  </thead>\n",
       "  <tbody>\n",
       "    <tr>\n",
       "      <th>0</th>\n",
       "      <td>Felony Total</td>\n",
       "      <td>2555</td>\n",
       "      <td>928</td>\n",
       "      <td>1302</td>\n",
       "      <td>254</td>\n",
       "      <td>19</td>\n",
       "      <td>52</td>\n",
       "      <td>[Albany]</td>\n",
       "      <td>306,585</td>\n",
       "      <td>Albany</td>\n",
       "      <td>0.759859</td>\n",
       "      <td>0.119643</td>\n",
       "      <td>0.047665</td>\n",
       "      <td>0.049036</td>\n",
       "    </tr>\n",
       "    <tr>\n",
       "      <th>1</th>\n",
       "      <td>Felony Total</td>\n",
       "      <td>257</td>\n",
       "      <td>234</td>\n",
       "      <td>17</td>\n",
       "      <td>5</td>\n",
       "      <td>1</td>\n",
       "      <td>0</td>\n",
       "      <td>[Allegany]</td>\n",
       "      <td>46,332</td>\n",
       "      <td>Columbia</td>\n",
       "      <td>0.882338</td>\n",
       "      <td>0.042649</td>\n",
       "      <td>0.015817</td>\n",
       "      <td>0.038893</td>\n",
       "    </tr>\n",
       "    <tr>\n",
       "      <th>2</th>\n",
       "      <td>Felony Total</td>\n",
       "      <td>15731</td>\n",
       "      <td>506</td>\n",
       "      <td>7230</td>\n",
       "      <td>7698</td>\n",
       "      <td>194</td>\n",
       "      <td>103</td>\n",
       "      <td>[Bronx]</td>\n",
       "      <td>1,432,087</td>\n",
       "      <td>Greene</td>\n",
       "      <td>0.870706</td>\n",
       "      <td>0.052945</td>\n",
       "      <td>0.007761</td>\n",
       "      <td>0.049146</td>\n",
       "    </tr>\n",
       "    <tr>\n",
       "      <th>3</th>\n",
       "      <td>Felony Total</td>\n",
       "      <td>1428</td>\n",
       "      <td>842</td>\n",
       "      <td>467</td>\n",
       "      <td>96</td>\n",
       "      <td>8</td>\n",
       "      <td>15</td>\n",
       "      <td>[Broome]</td>\n",
       "      <td>191,925</td>\n",
       "      <td>Rensselaer</td>\n",
       "      <td>0.856525</td>\n",
       "      <td>0.060165</td>\n",
       "      <td>0.021759</td>\n",
       "      <td>0.038136</td>\n",
       "    </tr>\n",
       "    <tr>\n",
       "      <th>4</th>\n",
       "      <td>Felony Total</td>\n",
       "      <td>563</td>\n",
       "      <td>417</td>\n",
       "      <td>74</td>\n",
       "      <td>8</td>\n",
       "      <td>3</td>\n",
       "      <td>61</td>\n",
       "      <td>[Cattaraugus]</td>\n",
       "      <td>76,726</td>\n",
       "      <td>Saratoga</td>\n",
       "      <td>0.927325</td>\n",
       "      <td>0.013902</td>\n",
       "      <td>0.017668</td>\n",
       "      <td>0.024038</td>\n",
       "    </tr>\n",
       "  </tbody>\n",
       "</table>\n",
       "</div>"
      ],
      "text/plain": [
       "       category Total Arrests White Black Hispanic Asian Other-Unknown  \\\n",
       "0  Felony Total          2555   928  1302      254    19            52   \n",
       "1  Felony Total           257   234    17        5     1             0   \n",
       "2  Felony Total         15731   506  7230     7698   194           103   \n",
       "3  Felony Total          1428   842   467       96     8            15   \n",
       "4  Felony Total           563   417    74        8     3            61   \n",
       "\n",
       "          County Population         Area    %White    %Black    %Asian  \\\n",
       "0       [Albany]    306,585      Albany   0.759859  0.119643  0.047665   \n",
       "1     [Allegany]     46,332    Columbia   0.882338  0.042649  0.015817   \n",
       "2        [Bronx]  1,432,087      Greene   0.870706  0.052945  0.007761   \n",
       "3       [Broome]    191,925  Rensselaer   0.856525  0.060165  0.021759   \n",
       "4  [Cattaraugus]     76,726    Saratoga   0.927325  0.013902  0.017668   \n",
       "\n",
       "   %Hispanic  \n",
       "0   0.049036  \n",
       "1   0.038893  \n",
       "2   0.049146  \n",
       "3   0.038136  \n",
       "4   0.024038  "
      ]
     },
     "execution_count": 75,
     "metadata": {},
     "output_type": "execute_result"
    }
   ],
   "source": [
    "felony_df2.head()"
   ]
  },
  {
   "cell_type": "code",
   "execution_count": 76,
   "metadata": {},
   "outputs": [],
   "source": [
    "# Calculate the percentage of arrest for each race\n",
    "felony_df2['%blackarrest'] = felony_df2['Black']/felony_df2['Total Arrests']*100\n",
    "felony_df2['%whitearrest'] = felony_df2['White']/felony_df2['Total Arrests']*100\n",
    "felony_df2['%hisparrest'] = felony_df2['Hispanic']/felony_df2['Total Arrests']*100\n",
    "felony_df2['%asianarrest'] = felony_df2['Asian']/ felony_df2['Total Arrests']*100\n",
    "\n",
    "felony_df2['%White'] = felony_df2['%White']*100\n",
    "felony_df2['%Black'] = felony_df2['%Black']*100\n",
    "felony_df2['%Hispanic'] = felony_df2['%Hispanic']*100\n",
    "felony_df2['%Asian'] = felony_df2['%Asian']*100"
   ]
  },
  {
   "cell_type": "code",
   "execution_count": 80,
   "metadata": {},
   "outputs": [],
   "source": [
    "\n",
    "# remove the commas\n",
    "felony_df2 = felony_df2.replace(',','', regex=True)\n",
    "# convert to numbers\n",
    "felony_df2['%White'] = felony_df2['%White'].astype('int64')\n",
    "felony_df2['%Black'] = felony_df2['%Black'].astype('int64')\n",
    "felony_df2['%Hispanic'] = felony_df2['%Hispanic'].astype('int64')\n",
    "felony_df2['%Asian'] = felony_df2['%Asian'].astype('int64')\n",
    "\n",
    "felony_df2['%blackarrest'] = felony_df2['%blackarrest'].astype('int64')\n",
    "felony_df2['%hisparrest'] = felony_df2['%hisparrest'].astype('int64')\n",
    "felony_df2['%asianarrest'] = felony_df2['%asianarrest'].astype('int64')\n",
    "# Can't convert object to int directly. need to convert to float first\n",
    "felony_df2['Population'] = felony_df2['Population'].astype(float)\n",
    "felony_df2['Population'] = felony_df2['Population'].astype('int64')"
   ]
  },
  {
   "cell_type": "code",
   "execution_count": 122,
   "metadata": {},
   "outputs": [],
   "source": [
    "\n",
    "data3 = []\n",
    "for c in counties:\n",
    "    if (c == 'Bronx'or c=='Kings'or c == 'NewYork'or c == 'Queens'or c == 'Richmond'):\n",
    "        data3.append('NY city')\n",
    "    else:\n",
    "        data3.append('others')\n"
   ]
  },
  {
   "cell_type": "code",
   "execution_count": 123,
   "metadata": {},
   "outputs": [],
   "source": [
    "counties2 = pd.DataFrame(counties)"
   ]
  },
  {
   "cell_type": "code",
   "execution_count": 124,
   "metadata": {},
   "outputs": [
    {
     "data": {
      "text/html": [
       "<div>\n",
       "<style scoped>\n",
       "    .dataframe tbody tr th:only-of-type {\n",
       "        vertical-align: middle;\n",
       "    }\n",
       "\n",
       "    .dataframe tbody tr th {\n",
       "        vertical-align: top;\n",
       "    }\n",
       "\n",
       "    .dataframe thead th {\n",
       "        text-align: right;\n",
       "    }\n",
       "</style>\n",
       "<table border=\"1\" class=\"dataframe\">\n",
       "  <thead>\n",
       "    <tr style=\"text-align: right;\">\n",
       "      <th></th>\n",
       "      <th>0</th>\n",
       "      <th>city</th>\n",
       "    </tr>\n",
       "  </thead>\n",
       "  <tbody>\n",
       "    <tr>\n",
       "      <th>0</th>\n",
       "      <td>Albany</td>\n",
       "      <td>others</td>\n",
       "    </tr>\n",
       "    <tr>\n",
       "      <th>1</th>\n",
       "      <td>Allegany</td>\n",
       "      <td>others</td>\n",
       "    </tr>\n",
       "    <tr>\n",
       "      <th>2</th>\n",
       "      <td>Bronx</td>\n",
       "      <td>NY city</td>\n",
       "    </tr>\n",
       "    <tr>\n",
       "      <th>3</th>\n",
       "      <td>Broome</td>\n",
       "      <td>others</td>\n",
       "    </tr>\n",
       "    <tr>\n",
       "      <th>4</th>\n",
       "      <td>Cattaraugus</td>\n",
       "      <td>others</td>\n",
       "    </tr>\n",
       "  </tbody>\n",
       "</table>\n",
       "</div>"
      ],
      "text/plain": [
       "             0     city\n",
       "0       Albany   others\n",
       "1     Allegany   others\n",
       "2        Bronx  NY city\n",
       "3       Broome   others\n",
       "4  Cattaraugus   others"
      ]
     },
     "execution_count": 124,
     "metadata": {},
     "output_type": "execute_result"
    }
   ],
   "source": [
    "counties2['city'] = data3\n",
    "counties2.head()"
   ]
  },
  {
   "cell_type": "code",
   "execution_count": 125,
   "metadata": {},
   "outputs": [],
   "source": [
    "felony_df2['city'] = data3"
   ]
  },
  {
   "cell_type": "code",
   "execution_count": 128,
   "metadata": {},
   "outputs": [
    {
     "data": {
      "image/png": "[encoded data removed]",
      "text/plain": [
       "<Figure size 640x480 with 1 Axes>"
      ]
     },
     "metadata": {},
     "output_type": "display_data"
    },
    {
     "data": {
      "text/plain": [
       "<ggplot: (7019982701)>"
      ]
     },
     "execution_count": 128,
     "metadata": {},
     "output_type": "execute_result"
    }
   ],
   "source": [
    "ggplot(felony_df2, aes(x= 'Population', y='%White',color = 'city')) + geom_point()"
   ]
  },
  {
   "cell_type": "code",
   "execution_count": 81,
   "metadata": {},
   "outputs": [
    {
     "data": {
      "text/plain": [
       "<matplotlib.axes._subplots.AxesSubplot at 0x11f964f10>"
      ]
     },
     "execution_count": 81,
     "metadata": {},
     "output_type": "execute_result"
    },
    {
     "data": {
      "image/png": "[encoded data removed]",
      "text/plain": [
       "<Figure size 432x288 with 1 Axes>"
      ]
     },
     "metadata": {
      "needs_background": "light"
     },
     "output_type": "display_data"
    }
   ],
   "source": [
    "felony_df2.plot(kind='scatter', x='Population', y='%whitearrest')"
   ]
  },
  {
   "cell_type": "code",
   "execution_count": 82,
   "metadata": {},
   "outputs": [
    {
     "data": {
      "text/plain": [
       "<matplotlib.axes._subplots.AxesSubplot at 0x1a26e3f5d0>"
      ]
     },
     "execution_count": 82,
     "metadata": {},
     "output_type": "execute_result"
    },
    {
     "data": {
      "image/png": "[encoded data removed]",
      "text/plain": [
       "<Figure size 432x288 with 1 Axes>"
      ]
     },
     "metadata": {
      "needs_background": "light"
     },
     "output_type": "display_data"
    }
   ],
   "source": [
    "felony_df2.plot(kind='scatter', x='Population', y='%blackarrest')"
   ]
  },
  {
   "cell_type": "code",
   "execution_count": 84,
   "metadata": {},
   "outputs": [
    {
     "data": {
      "text/plain": [
       "<matplotlib.axes._subplots.AxesSubplot at 0x1a25ef2cd0>"
      ]
     },
     "execution_count": 84,
     "metadata": {},
     "output_type": "execute_result"
    },
    {
     "data": {
      "image/png": "[encoded data removed]",
      "text/plain": [
       "<Figure size 432x288 with 1 Axes>"
      ]
     },
     "metadata": {
      "needs_background": "light"
     },
     "output_type": "display_data"
    }
   ],
   "source": [
    "felony_df2.plot(kind='scatter', x='Population', y='%asianarrest')"
   ]
  },
  {
   "cell_type": "code",
   "execution_count": 85,
   "metadata": {},
   "outputs": [
    {
     "data": {
      "text/plain": [
       "<matplotlib.axes._subplots.AxesSubplot at 0x1a26288290>"
      ]
     },
     "execution_count": 85,
     "metadata": {},
     "output_type": "execute_result"
    },
    {
     "data": {
      "image/png": "[encoded data removed]",
      "text/plain": [
       "<Figure size 432x288 with 1 Axes>"
      ]
     },
     "metadata": {
      "needs_background": "light"
     },
     "output_type": "display_data"
    }
   ],
   "source": [
    "felony_df2.plot(kind='scatter', x='Population', y='%hisparrest')"
   ]
  },
  {
   "cell_type": "code",
   "execution_count": 89,
   "metadata": {},
   "outputs": [
    {
     "data": {
      "text/plain": [
       "<matplotlib.axes._subplots.AxesSubplot at 0x1a26198890>"
      ]
     },
     "execution_count": 89,
     "metadata": {},
     "output_type": "execute_result"
    },
    {
     "data": {
      "image/png": "[encoded data removed]",
      "text/plain": [
       "<Figure size 432x288 with 1 Axes>"
      ]
     },
     "metadata": {
      "needs_background": "light"
     },
     "output_type": "display_data"
    }
   ],
   "source": [
    "felony_df2.plot(kind='scatter', x='%Black', y='%blackarrest')"
   ]
  },
  {
   "cell_type": "code",
   "execution_count": 86,
   "metadata": {},
   "outputs": [
    {
     "data": {
      "text/plain": [
       "<matplotlib.axes._subplots.AxesSubplot at 0x1a25b69850>"
      ]
     },
     "execution_count": 86,
     "metadata": {},
     "output_type": "execute_result"
    },
    {
     "data": {
      "image/png": "[encoded data removed]",
      "text/plain": [
       "<Figure size 432x288 with 1 Axes>"
      ]
     },
     "metadata": {
      "needs_background": "light"
     },
     "output_type": "display_data"
    }
   ],
   "source": [
    "felony_df2.plot(kind='scatter', x='%White', y='%whitearrest')"
   ]
  },
  {
   "cell_type": "code",
   "execution_count": 87,
   "metadata": {},
   "outputs": [
    {
     "data": {
      "text/plain": [
       "<matplotlib.axes._subplots.AxesSubplot at 0x1a25b3ead0>"
      ]
     },
     "execution_count": 87,
     "metadata": {},
     "output_type": "execute_result"
    },
    {
     "data": {
      "image/png": "[encoded data removed]",
      "text/plain": [
       "<Figure size 432x288 with 1 Axes>"
      ]
     },
     "metadata": {
      "needs_background": "light"
     },
     "output_type": "display_data"
    }
   ],
   "source": [
    "felony_df2.plot(kind='scatter', x='%Asian', y='%asianarrest')"
   ]
  },
  {
   "cell_type": "code",
   "execution_count": 88,
   "metadata": {},
   "outputs": [
    {
     "data": {
      "text/plain": [
       "<matplotlib.axes._subplots.AxesSubplot at 0x1a25e55510>"
      ]
     },
     "execution_count": 88,
     "metadata": {},
     "output_type": "execute_result"
    },
    {
     "data": {
      "image/png": "[encoded data removed]",
      "text/plain": [
       "<Figure size 432x288 with 1 Axes>"
      ]
     },
     "metadata": {
      "needs_background": "light"
     },
     "output_type": "display_data"
    }
   ],
   "source": [
    "felony_df2.plot(kind='scatter', x='%Hispanic', y='%hisparrest')"
   ]
  },
  {
   "cell_type": "code",
   "execution_count": null,
   "metadata": {},
   "outputs": [],
   "source": []
  }
 ],
 "metadata": {
  "kernelspec": {
   "display_name": "Python 3",
   "language": "python",
   "name": "python3"
  },
  "language_info": {
   "codemirror_mode": {
    "name": "ipython",
    "version": 3
   },
   "file_extension": ".py",
   "mimetype": "text/x-python",
   "name": "python",
   "nbconvert_exporter": "python",
   "pygments_lexer": "ipython3",
   "version": "3.7.4"
  }
 },
 "nbformat": 4,
 "nbformat_minor": 2
}
